{
 "cells": [
  {
   "cell_type": "markdown",
   "metadata": {
    "_cell_guid": "6fcdcf24-cfee-4c50-b031-db07e9fca09f",
    "_uuid": "b06ac502816f0e04f7b30e248ee2228351839f37"
   },
   "source": [
    "---\n",
    "<u><h1>Bitcoin Price forecasting with LSTM and GRU</h1></u>\n",
    "---\n",
    "---"
   ]
  },
  {
   "cell_type": "markdown",
   "metadata": {
    "_cell_guid": "633e6b60-6a73-4872-84fe-a8d5609690f4",
    "_uuid": "4d752f92c93e81968730924492173a8df65c0d82"
   },
   "source": [
    "Bitcoin is the first decentralized digital currency. This means it is not governed by any central bank or some other authority. This cryptocurrency was created in the 2009 year but it becomes extremely popular in the 2017 year. Some experts call bitcoin \"the currency of the future\" or even lead it as an example of the social revolution. The bitcoin price has increased several times during the 2017 year. At the same time, it is very volatile. Many economic entities are interested in tools for forecasting the bitcoin prices. It is especially important for existing or potential investors and for government structures. The last needs to be ready for significant price movements to prepare consistent economic policy. So, the demand for Bitcoin price prediction mechanism is high.\n",
    "\n",
    "This notebook demonstrates the prediction of the bitcoin price by the neural network model. We are using 2-layers long short term memory (LSTM) as well as Gated Recurrent Unit (GRU) architecture of the Recurrent neural network (RNN). You can read more about these types of NN here:\n",
    "\n",
    "* https://deeplearning4j.org/lstm.html\n",
    "* http://colah.github.io/posts/2015-08-Understanding-LSTMs/\n",
    "* https://arxiv.org/pdf/1412.3555v1.pdf\n",
    "* http://karpathy.github.io/2015/05/21/rnn-effectiveness/\n",
    "\n",
    "The dataset we are using is available here: [Bitcoin Historical Data](https://www.kaggle.com/mczielinski/bitcoin-historical-data/data)\n",
    "\n",
    "The first thing we do is **importing** all the necessary python libraries."
   ]
  },
  {
   "cell_type": "code",
   "execution_count": 1,
   "metadata": {
    "_cell_guid": "bebacf25-09bb-48db-959e-e24e0d597042",
    "_uuid": "275f57000394bcd304aadac3297c68ae4b9438f2"
   },
   "outputs": [
    {
     "data": {
      "text/html": [
       "        <script type=\"text/javascript\">\n",
       "        window.PlotlyConfig = {MathJaxConfig: 'local'};\n",
       "        if (window.MathJax) {MathJax.Hub.Config({SVG: {font: \"STIX-Web\"}});}\n",
       "        if (typeof require !== 'undefined') {\n",
       "        require.undef(\"plotly\");\n",
       "        requirejs.config({\n",
       "            paths: {\n",
       "                'plotly': ['https://cdn.plot.ly/plotly-2.11.1.min']\n",
       "            }\n",
       "        });\n",
       "        require(['plotly'], function(Plotly) {\n",
       "            window._Plotly = Plotly;\n",
       "        });\n",
       "        }\n",
       "        </script>\n",
       "        "
      ]
     },
     "metadata": {},
     "output_type": "display_data"
    }
   ],
   "source": [
    "import warnings\n",
    "warnings.filterwarnings(\"ignore\")\n",
    "\n",
    "import numpy as np\n",
    "import pandas as pd\n",
    "import statsmodels.api as sm\n",
    "from scipy import stats\n",
    "from sklearn.metrics import mean_squared_error\n",
    "from math import sqrt\n",
    "from random import randint\n",
    "from keras.models import Sequential\n",
    "from keras.layers import Dense\n",
    "from keras.layers import LSTM\n",
    "from keras.layers import GRU\n",
    "from keras.callbacks import EarlyStopping\n",
    "from keras import initializers\n",
    "from matplotlib import pyplot\n",
    "from datetime import datetime\n",
    "from matplotlib import pyplot as plt\n",
    "import plotly.offline as py\n",
    "import plotly.graph_objs as go\n",
    "py.init_notebook_mode(connected=True)\n",
    "%matplotlib inline"
   ]
  },
  {
   "cell_type": "markdown",
   "metadata": {
    "_cell_guid": "b429cc14-79ea-4d7b-a712-ee6aab2c6746",
    "_uuid": "a730e42a11f2a2f5f42eb01e0e056fcb6e9cf5dd"
   },
   "source": [
    "Now we **load the dataset** in the memory and testing it for the presence of the null values:"
   ]
  },
  {
   "cell_type": "code",
   "execution_count": 2,
   "metadata": {
    "_cell_guid": "e78285ac-c23e-4862-ba33-3f78c3f01209",
    "_uuid": "ee56fb2e069263d2e69988e9e505271d7962e6ba"
   },
   "outputs": [
    {
     "data": {
      "text/plain": [
       "True"
      ]
     },
     "execution_count": 2,
     "metadata": {},
     "output_type": "execute_result"
    }
   ],
   "source": [
    "data = pd.read_csv('BitVision-Dataset.csv')\n",
    "data.isnull().values.any()"
   ]
  },
  {
   "cell_type": "markdown",
   "metadata": {
    "_cell_guid": "7f4dfa83-0ed9-42ee-865d-0112a168b1b8",
    "_uuid": "9aef2e2ea28556c94e65a644a5502baa602b1f48"
   },
   "source": [
    "We can see that there are not null values. Now we want to preview the head of the dataset to know the structure of the data:"
   ]
  },
  {
   "cell_type": "code",
   "execution_count": 3,
   "metadata": {
    "_cell_guid": "692083c4-1992-4f26-a0be-be414b377fa2",
    "_uuid": "906e9ec3fa31cf4834bd518713cb8b8d42d8d57d"
   },
   "outputs": [
    {
     "data": {
      "text/html": [
       "<div>\n",
       "<style scoped>\n",
       "    .dataframe tbody tr th:only-of-type {\n",
       "        vertical-align: middle;\n",
       "    }\n",
       "\n",
       "    .dataframe tbody tr th {\n",
       "        vertical-align: top;\n",
       "    }\n",
       "\n",
       "    .dataframe thead th {\n",
       "        text-align: right;\n",
       "    }\n",
       "</style>\n",
       "<table border=\"1\" class=\"dataframe\">\n",
       "  <thead>\n",
       "    <tr style=\"text-align: right;\">\n",
       "      <th></th>\n",
       "      <th>Timestamp</th>\n",
       "      <th>Open</th>\n",
       "      <th>High</th>\n",
       "      <th>Low</th>\n",
       "      <th>Close</th>\n",
       "      <th>Volume_(BTC)</th>\n",
       "      <th>Volume_(Currency)</th>\n",
       "      <th>Weighted_Price</th>\n",
       "    </tr>\n",
       "  </thead>\n",
       "  <tbody>\n",
       "    <tr>\n",
       "      <th>0</th>\n",
       "      <td>1325317920</td>\n",
       "      <td>4.39</td>\n",
       "      <td>4.39</td>\n",
       "      <td>4.39</td>\n",
       "      <td>4.39</td>\n",
       "      <td>0.455581</td>\n",
       "      <td>2.0</td>\n",
       "      <td>4.39</td>\n",
       "    </tr>\n",
       "    <tr>\n",
       "      <th>1</th>\n",
       "      <td>1325317980</td>\n",
       "      <td>NaN</td>\n",
       "      <td>NaN</td>\n",
       "      <td>NaN</td>\n",
       "      <td>NaN</td>\n",
       "      <td>NaN</td>\n",
       "      <td>NaN</td>\n",
       "      <td>NaN</td>\n",
       "    </tr>\n",
       "    <tr>\n",
       "      <th>2</th>\n",
       "      <td>1325318040</td>\n",
       "      <td>NaN</td>\n",
       "      <td>NaN</td>\n",
       "      <td>NaN</td>\n",
       "      <td>NaN</td>\n",
       "      <td>NaN</td>\n",
       "      <td>NaN</td>\n",
       "      <td>NaN</td>\n",
       "    </tr>\n",
       "    <tr>\n",
       "      <th>3</th>\n",
       "      <td>1325318100</td>\n",
       "      <td>NaN</td>\n",
       "      <td>NaN</td>\n",
       "      <td>NaN</td>\n",
       "      <td>NaN</td>\n",
       "      <td>NaN</td>\n",
       "      <td>NaN</td>\n",
       "      <td>NaN</td>\n",
       "    </tr>\n",
       "    <tr>\n",
       "      <th>4</th>\n",
       "      <td>1325318160</td>\n",
       "      <td>NaN</td>\n",
       "      <td>NaN</td>\n",
       "      <td>NaN</td>\n",
       "      <td>NaN</td>\n",
       "      <td>NaN</td>\n",
       "      <td>NaN</td>\n",
       "      <td>NaN</td>\n",
       "    </tr>\n",
       "    <tr>\n",
       "      <th>5</th>\n",
       "      <td>1325318220</td>\n",
       "      <td>NaN</td>\n",
       "      <td>NaN</td>\n",
       "      <td>NaN</td>\n",
       "      <td>NaN</td>\n",
       "      <td>NaN</td>\n",
       "      <td>NaN</td>\n",
       "      <td>NaN</td>\n",
       "    </tr>\n",
       "    <tr>\n",
       "      <th>6</th>\n",
       "      <td>1325318280</td>\n",
       "      <td>NaN</td>\n",
       "      <td>NaN</td>\n",
       "      <td>NaN</td>\n",
       "      <td>NaN</td>\n",
       "      <td>NaN</td>\n",
       "      <td>NaN</td>\n",
       "      <td>NaN</td>\n",
       "    </tr>\n",
       "    <tr>\n",
       "      <th>7</th>\n",
       "      <td>1325318340</td>\n",
       "      <td>NaN</td>\n",
       "      <td>NaN</td>\n",
       "      <td>NaN</td>\n",
       "      <td>NaN</td>\n",
       "      <td>NaN</td>\n",
       "      <td>NaN</td>\n",
       "      <td>NaN</td>\n",
       "    </tr>\n",
       "    <tr>\n",
       "      <th>8</th>\n",
       "      <td>1325318400</td>\n",
       "      <td>NaN</td>\n",
       "      <td>NaN</td>\n",
       "      <td>NaN</td>\n",
       "      <td>NaN</td>\n",
       "      <td>NaN</td>\n",
       "      <td>NaN</td>\n",
       "      <td>NaN</td>\n",
       "    </tr>\n",
       "    <tr>\n",
       "      <th>9</th>\n",
       "      <td>1325318460</td>\n",
       "      <td>NaN</td>\n",
       "      <td>NaN</td>\n",
       "      <td>NaN</td>\n",
       "      <td>NaN</td>\n",
       "      <td>NaN</td>\n",
       "      <td>NaN</td>\n",
       "      <td>NaN</td>\n",
       "    </tr>\n",
       "  </tbody>\n",
       "</table>\n",
       "</div>"
      ],
      "text/plain": [
       "    Timestamp  Open  High   Low  Close  Volume_(BTC)  Volume_(Currency)  \\\n",
       "0  1325317920  4.39  4.39  4.39   4.39      0.455581                2.0   \n",
       "1  1325317980   NaN   NaN   NaN    NaN           NaN                NaN   \n",
       "2  1325318040   NaN   NaN   NaN    NaN           NaN                NaN   \n",
       "3  1325318100   NaN   NaN   NaN    NaN           NaN                NaN   \n",
       "4  1325318160   NaN   NaN   NaN    NaN           NaN                NaN   \n",
       "5  1325318220   NaN   NaN   NaN    NaN           NaN                NaN   \n",
       "6  1325318280   NaN   NaN   NaN    NaN           NaN                NaN   \n",
       "7  1325318340   NaN   NaN   NaN    NaN           NaN                NaN   \n",
       "8  1325318400   NaN   NaN   NaN    NaN           NaN                NaN   \n",
       "9  1325318460   NaN   NaN   NaN    NaN           NaN                NaN   \n",
       "\n",
       "   Weighted_Price  \n",
       "0            4.39  \n",
       "1             NaN  \n",
       "2             NaN  \n",
       "3             NaN  \n",
       "4             NaN  \n",
       "5             NaN  \n",
       "6             NaN  \n",
       "7             NaN  \n",
       "8             NaN  \n",
       "9             NaN  "
      ]
     },
     "execution_count": 3,
     "metadata": {},
     "output_type": "execute_result"
    }
   ],
   "source": [
    "data.head(10)"
   ]
  },
  {
   "cell_type": "markdown",
   "metadata": {
    "_cell_guid": "443a79eb-3327-4b72-b491-975d5f40ca65",
    "_uuid": "dc16d401a088cd40fc4b69433afce913ce8d4f59"
   },
   "source": [
    "We want to **transform the data** to get the average price grouped by the day and to see usual datetime format (not a timestamp as above)."
   ]
  },
  {
   "cell_type": "code",
   "execution_count": 4,
   "metadata": {
    "_cell_guid": "b17c4a36-78ca-4401-b1a4-366232e30c48",
    "_uuid": "81683953a2083169f9a5c48317a8219650e0805c"
   },
   "outputs": [
    {
     "data": {
      "text/plain": [
       "date\n",
       "2011-12-31    4.471603\n",
       "2012-01-01    4.806667\n",
       "2012-01-02    5.000000\n",
       "2012-01-03    5.252500\n",
       "2012-01-04    5.208159\n",
       "Name: Weighted_Price, dtype: float64"
      ]
     },
     "execution_count": 4,
     "metadata": {},
     "output_type": "execute_result"
    }
   ],
   "source": [
    "data['date'] = pd.to_datetime(data['Timestamp'],unit='s').dt.date\n",
    "group = data.groupby('date')\n",
    "Daily_Price = group['Weighted_Price'].mean()\n",
    "\n",
    "Daily_Price.head()"
   ]
  },
  {
   "cell_type": "code",
   "execution_count": 5,
   "metadata": {
    "_cell_guid": "0f744f90-3990-41f3-8acc-6a2de6f41a55",
    "_uuid": "18fbecfb11e4c703c849104f9bfdd204d6cfa92c"
   },
   "outputs": [
    {
     "data": {
      "text/plain": [
       "date\n",
       "2021-03-27    55193.357260\n",
       "2021-03-28    55832.958824\n",
       "2021-03-29    56913.993819\n",
       "2021-03-30    58346.912268\n",
       "2021-03-31    58764.349363\n",
       "Name: Weighted_Price, dtype: float64"
      ]
     },
     "execution_count": 5,
     "metadata": {},
     "output_type": "execute_result"
    }
   ],
   "source": [
    "Daily_Price.tail()"
   ]
  },
  {
   "cell_type": "markdown",
   "metadata": {
    "_cell_guid": "624771f3-2ed4-4acc-9d49-b3f321af6b1a",
    "_uuid": "44c2f15458482dcd8aa45df13eb28194387714c5"
   },
   "source": [
    "We need to **split our dataset** because we want to train and test the model only on some chunk of the data. So, in the next cell, we are counting the necessary parameters for splitting (number of days between some dates). We want to train our model on the data from January 1, 2016 until August 21, 2017 and to test the model on the data from August 21, 2017 until October 20, 2017."
   ]
  },
  {
   "cell_type": "code",
   "execution_count": 6,
   "metadata": {
    "_cell_guid": "67035c16-42c6-4f46-9c8c-406365cf8906",
    "_uuid": "d5b105c489dbff9ef2ba0d1eacfaed90b980488e"
   },
   "outputs": [
    {
     "name": "stdout",
     "output_type": "stream",
     "text": [
      "654\n",
      "61\n",
      "6\n"
     ]
    }
   ],
   "source": [
    "from datetime import date\n",
    "d0 = date(2016, 1, 1)\n",
    "d1 = date(2017, 10, 15)\n",
    "delta = d1 - d0\n",
    "days_look = delta.days + 1\n",
    "print(days_look)\n",
    "\n",
    "d0 = date(2017, 8, 21)\n",
    "d1 = date(2017, 10, 20)\n",
    "delta = d1 - d0\n",
    "days_from_train = delta.days + 1\n",
    "print(days_from_train)\n",
    "\n",
    "d0 = date(2017, 10, 15)\n",
    "d1 = date(2017, 10, 20)\n",
    "delta = d1 - d0\n",
    "days_from_end = delta.days + 1\n",
    "print(days_from_end)"
   ]
  },
  {
   "cell_type": "markdown",
   "metadata": {
    "_cell_guid": "72fdd52a-5612-4fc5-b859-fe3b00d4f629",
    "_uuid": "70ad4eae5a4439512296fdf3ccdef03bca1b43ca"
   },
   "source": [
    "Now we are splitting our data into the train and test set:"
   ]
  },
  {
   "cell_type": "code",
   "execution_count": 7,
   "metadata": {
    "_cell_guid": "45f7400b-950e-40e8-aa4f-95652cb4d5c6",
    "_uuid": "9c463ebfdb3856de059a10a17518bce260457f4c"
   },
   "outputs": [],
   "source": [
    "df_train= Daily_Price[len(Daily_Price)-days_look-days_from_end:len(Daily_Price)-days_from_train]\n",
    "df_test= Daily_Price[len(Daily_Price)-days_from_train:]\n",
    "\n",
    "# print(len(df_train), len(df_test)\n",
    "# new_df= pd.DataFrame(list(Daily_Price), index = Daily_Price.index, columns = [\"Close\"])\n",
    "# new_df.head()\n",
    "# plt.plot(new_df)\n",
    "\n",
    "# df_train=Daily_Price[0:2000] \n",
    "# df_test=Daily_Price[2000:]\n",
    "# print(test.head())"
   ]
  },
  {
   "cell_type": "code",
   "execution_count": 8,
   "metadata": {},
   "outputs": [
    {
     "data": {
      "text/plain": [
       "date\n",
       "2019-06-11    7896.830013\n",
       "2019-06-12    8036.509588\n",
       "2019-06-13    8169.588232\n",
       "2019-06-14    8353.217492\n",
       "2019-06-15    8727.687036\n",
       "Name: Weighted_Price, dtype: float64"
      ]
     },
     "execution_count": 8,
     "metadata": {},
     "output_type": "execute_result"
    }
   ],
   "source": [
    "df_train.head()"
   ]
  },
  {
   "cell_type": "markdown",
   "metadata": {
    "_cell_guid": "2333b0f8-b5a5-40a1-974c-65b0e3e65ba6",
    "_uuid": "2e5109c323c820b619a9fe32b7b62551c14a4fd0"
   },
   "source": [
    "# Exploratory Data Analysis\n",
    "\n",
    "We want to estimate some parameters of our data because this can be useful in the further model designing. \n",
    "The first important thing when forecasting time series is to **check if the data is stationary**. This means that our data is influenced by such factors as trend or seasonality. \n",
    "\n",
    "In the next cell, we concatenate train and test data to make analysis and transformations simultaneously."
   ]
  },
  {
   "cell_type": "code",
   "execution_count": 9,
   "metadata": {
    "_cell_guid": "69ed706e-30e4-468b-b59d-015f01fc9588",
    "_uuid": "1a955cc3ad5420393569fed28fc8c240f3f1a56d"
   },
   "outputs": [],
   "source": [
    "working_data = [df_train, df_test]\n",
    "working_data = pd.concat(working_data)\n",
    "\n",
    "working_data = working_data.reset_index()\n",
    "working_data['date'] = pd.to_datetime(working_data['date'])\n",
    "working_data = working_data.set_index('date')"
   ]
  },
  {
   "cell_type": "markdown",
   "metadata": {
    "_cell_guid": "fcc4bd4e-3887-4780-b989-35892e836998",
    "_uuid": "cb51e299cbbeecf65eb45dbdaa7801b4beb07405"
   },
   "source": [
    "In the next couple of cells, we perform seasonal decomposition of the data to estimate its trend and seasonality. You can see actual price movements on the plot below (\"observed\") as well as the trend and seasonality in our data. "
   ]
  },
  {
   "cell_type": "code",
   "execution_count": 10,
   "metadata": {
    "_cell_guid": "3329159a-05a1-4d3d-ba0c-70ea16739bec",
    "_uuid": "5b48e5c15ad389d7f0821eb1b6a86584091a172d"
   },
   "outputs": [],
   "source": [
    "s = sm.tsa.seasonal_decompose(working_data.Weighted_Price.values, freq=60)"
   ]
  },
  {
   "cell_type": "code",
   "execution_count": 11,
   "metadata": {
    "_cell_guid": "ed7763d4-7677-41f2-91d4-71a2124def45",
    "_uuid": "b2eae438265ab1b409090e228c7a110cec6b29d6"
   },
   "outputs": [
    {
     "data": {
      "application/vnd.plotly.v1+json": {
       "config": {
        "linkText": "Export to plot.ly",
        "plotlyServerURL": "https://plot.ly",
        "showLink": false
       },
       "data": [
        {
         "line": {
          "color": "rgb(244, 146, 65)",
          "width": 4
         },
         "mode": "lines",
         "name": "Trend",
         "type": "scatter",
         "x": [
          0,
          1,
          2,
          3,
          4,
          5,
          6,
          7,
          8,
          9,
          10,
          11,
          12,
          13,
          14,
          15,
          16,
          17,
          18,
          19,
          20,
          21,
          22,
          23,
          24,
          25,
          26,
          27,
          28,
          29,
          30,
          31,
          32,
          33,
          34,
          35,
          36,
          37,
          38,
          39,
          40,
          41,
          42,
          43,
          44,
          45,
          46,
          47,
          48,
          49,
          50,
          51,
          52,
          53,
          54,
          55,
          56,
          57,
          58,
          59,
          60,
          61,
          62,
          63,
          64,
          65,
          66,
          67,
          68,
          69,
          70,
          71,
          72,
          73,
          74,
          75,
          76,
          77,
          78,
          79,
          80,
          81,
          82,
          83,
          84,
          85,
          86,
          87,
          88,
          89,
          90,
          91,
          92,
          93,
          94,
          95,
          96,
          97,
          98,
          99,
          100,
          101,
          102,
          103,
          104,
          105,
          106,
          107,
          108,
          109,
          110,
          111,
          112,
          113,
          114,
          115,
          116,
          117,
          118,
          119,
          120,
          121,
          122,
          123,
          124,
          125,
          126,
          127,
          128,
          129,
          130,
          131,
          132,
          133,
          134,
          135,
          136,
          137,
          138,
          139,
          140,
          141,
          142,
          143,
          144,
          145,
          146,
          147,
          148,
          149,
          150,
          151,
          152,
          153,
          154,
          155,
          156,
          157,
          158,
          159,
          160,
          161,
          162,
          163,
          164,
          165,
          166,
          167,
          168,
          169,
          170,
          171,
          172,
          173,
          174,
          175,
          176,
          177,
          178,
          179,
          180,
          181,
          182,
          183,
          184,
          185,
          186,
          187,
          188,
          189,
          190,
          191,
          192,
          193,
          194,
          195,
          196,
          197,
          198,
          199,
          200,
          201,
          202,
          203,
          204,
          205,
          206,
          207,
          208,
          209,
          210,
          211,
          212,
          213,
          214,
          215,
          216,
          217,
          218,
          219,
          220,
          221,
          222,
          223,
          224,
          225,
          226,
          227,
          228,
          229,
          230,
          231,
          232,
          233,
          234,
          235,
          236,
          237,
          238,
          239,
          240,
          241,
          242,
          243,
          244,
          245,
          246,
          247,
          248,
          249,
          250,
          251,
          252,
          253,
          254,
          255,
          256,
          257,
          258,
          259,
          260,
          261,
          262,
          263,
          264,
          265,
          266,
          267,
          268,
          269,
          270,
          271,
          272,
          273,
          274,
          275,
          276,
          277,
          278,
          279,
          280,
          281,
          282,
          283,
          284,
          285,
          286,
          287,
          288,
          289,
          290,
          291,
          292,
          293,
          294,
          295,
          296,
          297,
          298,
          299,
          300,
          301,
          302,
          303,
          304,
          305,
          306,
          307,
          308,
          309,
          310,
          311,
          312,
          313,
          314,
          315,
          316,
          317,
          318,
          319,
          320,
          321,
          322,
          323,
          324,
          325,
          326,
          327,
          328,
          329,
          330,
          331,
          332,
          333,
          334,
          335,
          336,
          337,
          338,
          339,
          340,
          341,
          342,
          343,
          344,
          345,
          346,
          347,
          348,
          349,
          350,
          351,
          352,
          353,
          354,
          355,
          356,
          357,
          358,
          359,
          360,
          361,
          362,
          363,
          364,
          365,
          366,
          367,
          368,
          369,
          370,
          371,
          372,
          373,
          374,
          375,
          376,
          377,
          378,
          379,
          380,
          381,
          382,
          383,
          384,
          385,
          386,
          387,
          388,
          389,
          390,
          391,
          392,
          393,
          394,
          395,
          396,
          397,
          398,
          399,
          400,
          401,
          402,
          403,
          404,
          405,
          406,
          407,
          408,
          409,
          410,
          411,
          412,
          413,
          414,
          415,
          416,
          417,
          418,
          419,
          420,
          421,
          422,
          423,
          424,
          425,
          426,
          427,
          428,
          429,
          430,
          431,
          432,
          433,
          434,
          435,
          436,
          437,
          438,
          439,
          440,
          441,
          442,
          443,
          444,
          445,
          446,
          447,
          448,
          449,
          450,
          451,
          452,
          453,
          454,
          455,
          456,
          457,
          458,
          459,
          460,
          461,
          462,
          463,
          464,
          465,
          466,
          467,
          468,
          469,
          470,
          471,
          472,
          473,
          474,
          475,
          476,
          477,
          478,
          479,
          480,
          481,
          482,
          483,
          484,
          485,
          486,
          487,
          488,
          489,
          490,
          491,
          492,
          493,
          494,
          495,
          496,
          497,
          498,
          499,
          500,
          501,
          502,
          503,
          504,
          505,
          506,
          507,
          508,
          509,
          510,
          511,
          512,
          513,
          514,
          515,
          516,
          517,
          518,
          519,
          520,
          521,
          522,
          523,
          524,
          525,
          526,
          527,
          528,
          529,
          530,
          531,
          532,
          533,
          534,
          535,
          536,
          537,
          538,
          539,
          540,
          541,
          542,
          543,
          544,
          545,
          546,
          547,
          548,
          549,
          550,
          551,
          552,
          553,
          554,
          555,
          556,
          557,
          558,
          559,
          560,
          561,
          562,
          563,
          564,
          565,
          566,
          567,
          568,
          569,
          570,
          571,
          572,
          573,
          574,
          575,
          576,
          577,
          578,
          579,
          580,
          581,
          582,
          583,
          584,
          585,
          586,
          587,
          588,
          589,
          590,
          591,
          592,
          593,
          594,
          595,
          596,
          597,
          598,
          599,
          600,
          601,
          602,
          603,
          604,
          605,
          606,
          607,
          608,
          609,
          610,
          611,
          612,
          613,
          614,
          615,
          616,
          617,
          618,
          619,
          620,
          621,
          622,
          623,
          624,
          625,
          626,
          627,
          628,
          629,
          630,
          631,
          632,
          633,
          634,
          635,
          636,
          637,
          638,
          639,
          640,
          641,
          642,
          643,
          644,
          645,
          646,
          647,
          648,
          649,
          650,
          651,
          652,
          653,
          654,
          655,
          656,
          657,
          658,
          659
         ],
         "y": [
          null,
          null,
          null,
          null,
          null,
          null,
          null,
          null,
          null,
          null,
          null,
          null,
          null,
          null,
          null,
          null,
          null,
          null,
          null,
          null,
          null,
          null,
          null,
          null,
          null,
          null,
          null,
          null,
          null,
          null,
          10559.593730450304,
          10618.124266317986,
          10672.85233879889,
          10722.935145301308,
          10760.395770001403,
          10782.28569136038,
          10798.207922701142,
          10816.030358790205,
          10835.099897335785,
          10855.157362481907,
          10873.599537950002,
          10877.099512507251,
          10866.838867285256,
          10856.140744621258,
          10841.611964544252,
          10810.751958847048,
          10777.403548152719,
          10752.696185113264,
          10725.047282549389,
          10693.08707734954,
          10666.61291532306,
          10651.079557764904,
          10630.838305815494,
          10601.448984767958,
          10581.236721014408,
          10568.995343530078,
          10555.67598509671,
          10540.001836405692,
          10513.143747521095,
          10477.504329512503,
          10448.584875556302,
          10426.534699929407,
          10403.795332672089,
          10387.10975592992,
          10380.95978781097,
          10380.005869817696,
          10386.051529184508,
          10393.865190502358,
          10393.387541164771,
          10387.21134346455,
          10378.26618389911,
          10371.06732899098,
          10368.498303333949,
          10370.530591001481,
          10371.670919700016,
          10367.579712476218,
          10353.989987236015,
          10333.05115069366,
          10310.271608223171,
          10286.2564965323,
          10259.87772647598,
          10228.24205028805,
          10193.86521754321,
          10155.1982903697,
          10112.671376292037,
          10061.796656274142,
          10001.974953987974,
          9940.467867186195,
          9878.035729069037,
          9816.616154795345,
          9759.534675819512,
          9709.05594363921,
          9660.607825604962,
          9612.276034456232,
          9571.57929069501,
          9540.055054716186,
          9509.477537572173,
          9474.491486709347,
          9437.062337729561,
          9396.12519813763,
          9350.74743313422,
          9309.360847949047,
          9276.046814027679,
          9243.647281423891,
          9206.288756834043,
          9164.042978487454,
          9121.411998423437,
          9093.746735819797,
          9081.37960629713,
          9075.780150815368,
          9074.164789000213,
          9069.5680577404,
          9062.448479832592,
          9052.0331707238,
          9035.057928214843,
          9013.497425589703,
          8991.383489899115,
          8969.521236546148,
          8949.477696609683,
          8930.206061171364,
          8908.992726857268,
          8886.222317465104,
          8864.746710408215,
          8843.131375956375,
          8818.05523895273,
          8791.586137440529,
          8764.461272410774,
          8736.345106569068,
          8707.514732673582,
          8678.951944940602,
          8651.52222972495,
          8620.942864316523,
          8587.62071656793,
          8553.692871491816,
          8514.799856859472,
          8475.496385037783,
          8446.466063094058,
          8424.861656006029,
          8406.628731176843,
          8391.587193564374,
          8379.433708778612,
          8370.997625034423,
          8361.254941919713,
          8347.815007182424,
          8332.48465401809,
          8317.792194277978,
          8303.96928000553,
          8291.616371638453,
          8280.891882416647,
          8269.953925060245,
          8257.286990360097,
          8241.095087846947,
          8222.776463005506,
          8204.262091659988,
          8185.015118570699,
          8166.117873470337,
          8147.940995746505,
          8130.652527999209,
          8114.196050680997,
          8096.0907550115535,
          8076.408239717808,
          8059.230753743597,
          8043.033573657658,
          8025.343345108164,
          8012.3467877201365,
          8008.560023779711,
          8004.141608560643,
          7981.708317684525,
          7945.875510388729,
          7908.5680779136965,
          7872.155149643727,
          7839.385949307507,
          7808.366668859468,
          7776.4438301408045,
          7742.767365320818,
          7707.514463357353,
          7672.645028211347,
          7638.801263667407,
          7606.069309156328,
          7575.991172589973,
          7553.054869680029,
          7539.522596173732,
          7526.413090760705,
          7510.556335341372,
          7497.8420692708705,
          7487.36581449207,
          7477.457601836904,
          7473.142661849778,
          7475.714688266436,
          7479.3318632116025,
          7484.617817569664,
          7495.036451087989,
          7507.745135055751,
          7520.62867804058,
          7538.142677566181,
          7560.872376736834,
          7583.478752674029,
          7606.070409507249,
          7627.754278916669,
          7647.409571177977,
          7667.2373991069235,
          7689.162160514983,
          7715.0527956072965,
          7745.843215735742,
          7779.595910033793,
          7813.6470411923965,
          7848.259514657288,
          7882.438780195689,
          7914.0991289373815,
          7944.668449085682,
          7978.537454053313,
          8016.117670520165,
          8056.353705737029,
          8101.20840810222,
          8148.0432795273555,
          8193.717638577222,
          8242.973305049247,
          8296.109881278357,
          8349.657582469868,
          8404.515154162124,
          8458.589197590903,
          8506.151879694888,
          8550.051054543923,
          8597.101538693973,
          8641.305787579397,
          8679.137190785814,
          8717.051675027911,
          8758.912393493394,
          8802.022239310922,
          8842.122613470232,
          8875.729998377714,
          8902.273663962233,
          8926.032978823125,
          8950.097626013887,
          8973.835559663938,
          8999.13982066673,
          9026.209627554905,
          9051.313598290544,
          9076.555176094398,
          9102.838995080654,
          9125.240893453778,
          9137.392225733758,
          9140.040368588905,
          9140.403883693762,
          9138.709745362992,
          9124.474306349231,
          9089.028021931641,
          9039.251904836816,
          8984.19077552127,
          8924.75739552443,
          8864.521006911404,
          8804.972846699045,
          8749.233724178466,
          8704.521519771139,
          8664.851256225302,
          8623.09620921925,
          8582.569681143836,
          8548.738274986299,
          8520.49255976364,
          8492.010922952271,
          8460.42848352901,
          8420.051170356805,
          8369.717978268945,
          8317.027711690873,
          8267.134889156176,
          8217.513714959758,
          8169.8754613789115,
          8126.80758331894,
          8085.59806766807,
          8043.6309553692045,
          8000.26680004258,
          7958.134614932146,
          7916.724629715314,
          7872.671202456209,
          7824.960116012171,
          7774.659277967605,
          7720.685807893433,
          7662.98120232134,
          7605.383294911966,
          7549.36314412798,
          7496.563884360465,
          7449.567608650852,
          7405.057991622452,
          7358.188301698476,
          7312.658176586863,
          7268.038338000753,
          7222.397464979281,
          7178.891853083336,
          7139.059741943961,
          7104.403724339787,
          7076.279292207473,
          7055.364087385685,
          7038.298940915894,
          7026.564622531301,
          7025.702844049034,
          7028.820496239178,
          7029.818304545969,
          7032.330348728302,
          7032.093366904874,
          7028.639312606701,
          7028.1655675289585,
          7036.772214086864,
          7061.477947481209,
          7093.322489775865,
          7115.126617903876,
          7139.105153427516,
          7185.10495083472,
          7244.402949887475,
          7310.336906151991,
          7383.793695081016,
          7455.69742356796,
          7525.960774862144,
          7595.114193838435,
          7655.662206728326,
          7712.417776565195,
          7767.8247287474,
          7819.206950208327,
          7865.634232035603,
          7907.380009276336,
          7945.750184860073,
          7981.7072651424305,
          8023.120900010052,
          8073.278660887888,
          8126.583667569632,
          8178.545746455324,
          8230.993847091784,
          8281.818975691647,
          8331.20676395635,
          8379.909305211066,
          8427.261856915075,
          8473.54171283419,
          8514.94806599216,
          8553.570189716029,
          8593.039738206857,
          8636.044035459347,
          8683.188412373216,
          8729.882880066212,
          8774.428089148263,
          8817.776651252438,
          8860.665699202553,
          8901.783679781965,
          8941.379179722197,
          8980.63270728384,
          9018.366185471408,
          9055.994096888957,
          9095.248014508263,
          9135.05184140481,
          9172.72199569975,
          9208.513323203208,
          9241.919839475959,
          9271.252254193716,
          9297.021743005387,
          9320.68775095138,
          9338.902891594433,
          9347.506076707512,
          9352.406325822329,
          9358.106615785548,
          9362.306965812284,
          9366.535694722006,
          9370.553289523501,
          9371.041879729346,
          9367.889595939385,
          9360.12722904789,
          9351.494466433713,
          9353.658558720592,
          9363.107919642547,
          9371.093384036454,
          9376.660862356577,
          9375.86864734465,
          9370.84985551348,
          9366.802322476282,
          9361.14810563394,
          9352.120191338647,
          9342.99477047185,
          9334.460645566225,
          9329.31410673732,
          9330.004862998558,
          9332.87815051077,
          9337.731133790425,
          9347.398504249013,
          9359.882479550106,
          9372.917839161606,
          9388.904985507754,
          9410.948259422148,
          9436.948293560616,
          9462.581240895885,
          9488.39620627587,
          9516.2367078211,
          9545.501432790623,
          9573.308846310167,
          9598.779811789267,
          9626.529758823248,
          9659.578987767623,
          9693.981412526893,
          9727.0079420284,
          9759.1401911512,
          9793.669983673988,
          9831.01334070382,
          9866.496130235528,
          9901.367430892238,
          9940.189159109606,
          9980.973385251295,
          10020.902268017911,
          10063.053728101357,
          10108.786085895917,
          10153.234154860009,
          10194.461450957908,
          10233.74029266812,
          10268.6049888584,
          10302.836588196868,
          10341.908585862577,
          10382.147723321592,
          10420.691255243897,
          10458.93181983603,
          10497.404184495637,
          10536.429978617507,
          10576.209026762357,
          10617.343566251813,
          10661.507876084643,
          10705.385083907287,
          10742.564167206721,
          10768.831966170339,
          10786.949519189127,
          10802.400050850732,
          10816.460345540774,
          10831.278920431749,
          10847.07443651251,
          10864.068611545725,
          10881.69049123278,
          10899.839164320583,
          10919.21687451858,
          10940.494226395796,
          10965.66338118659,
          10993.763383244355,
          11022.685597109317,
          11051.7308477812,
          11080.499137043178,
          11107.615902097528,
          11129.993187709386,
          11147.047091571425,
          11161.383969281105,
          11173.239516054356,
          11180.310049044303,
          11180.033754475826,
          11174.637160767561,
          11170.190525152648,
          11165.01151395953,
          11153.878365633282,
          11141.816549733147,
          11130.940282906475,
          11119.102562177126,
          11106.151947526987,
          11090.230803598666,
          11073.00487927749,
          11055.662449098993,
          11038.982354712847,
          11023.530527476009,
          11013.406575915935,
          11010.061643772755,
          11008.340363018458,
          11004.93476662556,
          10998.462911319657,
          10990.903311719056,
          10981.510074525751,
          10968.908886626821,
          10958.965492687772,
          10954.092033024888,
          10953.16789515064,
          10961.503550490026,
          10979.914165342403,
          11000.8285952027,
          11023.519790391543,
          11049.975127123718,
          11078.08056722023,
          11108.47003150587,
          11140.65891376524,
          11171.150839580958,
          11200.086393654317,
          11230.20550645483,
          11264.014593923588,
          11303.60978778392,
          11351.77123701922,
          11408.883851073824,
          11476.886903538132,
          11559.817156831603,
          11648.314069914006,
          11733.403857418163,
          11817.2119628412,
          11901.100224228416,
          11986.470861528376,
          12076.093125825557,
          12170.372270513933,
          12262.327110670765,
          12348.629517280218,
          12436.80190512494,
          12533.787656164288,
          12642.366133094096,
          12757.352861786143,
          12878.910901973859,
          13011.435224243283,
          13146.822164935764,
          13280.188248089715,
          13415.124748976195,
          13552.884212833742,
          13677.991848071833,
          13784.51092041647,
          13890.277042152895,
          14005.552060312519,
          14133.952451090481,
          14274.736651538591,
          14417.569796568398,
          14559.913983458315,
          14702.362663980279,
          14841.655036319964,
          14981.845309594024,
          15123.41657430974,
          15260.277107384518,
          15384.360640211691,
          15499.976039801408,
          15611.911688405986,
          15724.50772294176,
          15847.252127848707,
          15976.033916624881,
          16107.150886347994,
          16246.498726364338,
          16412.54741311672,
          16599.957564381497,
          16790.062283084495,
          16978.819556362763,
          17157.666807154907,
          17328.421036388347,
          17500.628333495464,
          17672.823399308312,
          17848.754320134736,
          18039.15188034631,
          18251.63345748044,
          18478.568648932418,
          18702.474425929435,
          18932.793476962946,
          19178.749920164715,
          19435.446669191275,
          19709.084509789973,
          20015.01782965008,
          20320.795457129916,
          20602.595115009448,
          20904.69557879613,
          21258.25324487986,
          21652.341134654256,
          22064.78929813298,
          22474.803199764458,
          22828.826476603845,
          23136.315160391452,
          23446.265125372018,
          23789.240300863334,
          24152.644376765296,
          24493.105535960116,
          24805.817572862477,
          25105.561655207275,
          25411.60847328532,
          25702.97420082218,
          25960.959642006994,
          26193.707314855506,
          26417.889920621186,
          26640.040029614625,
          26882.801196134416,
          27140.898707420904,
          27381.286053540796,
          27611.61599955297,
          27861.119786352378,
          28118.84462375785,
          28362.896419211742,
          28603.901726319033,
          28854.02857221164,
          29130.418777549836,
          29430.18056832203,
          29737.075987408407,
          30064.603573771754,
          30408.92374332331,
          30770.087176309207,
          31200.425549474232,
          31667.70965754304,
          32121.76055840701,
          32585.104306752608,
          33054.79871353769,
          33525.165514994194,
          33973.2349668968,
          34399.95261455575,
          34845.89903622649,
          35311.33168590849,
          35795.69261695299,
          36320.67487035907,
          36876.37066815566,
          37418.0298010663,
          37888.37564799019,
          38300.75577746802,
          38696.3809491234,
          39051.662181576175,
          39386.25467749585,
          39695.72478670394,
          39991.034996415285,
          40308.438966629255,
          40633.44299902374,
          40930.133893656835,
          41195.07063105625,
          41461.403766420946,
          41723.1677251763,
          41956.86879319626,
          42181.070062057566,
          42424.01372602525,
          42686.724689356546,
          43012.514434954835,
          43400.1127802906,
          43814.64795941295,
          44187.82419196406,
          44495.07964741974,
          44804.96497898661,
          45156.10011311796,
          45531.58951633549,
          45899.57479931397,
          46266.914132145845,
          46650.23027550332,
          47039.23366191745,
          47419.35457381363,
          47774.92784897003,
          48106.465899457544,
          48465.49996499109,
          48864.49725879132,
          49279.52766576453,
          49682.990614358205,
          50083.041291026675,
          null,
          null,
          null,
          null,
          null,
          null,
          null,
          null,
          null,
          null,
          null,
          null,
          null,
          null,
          null,
          null,
          null,
          null,
          null,
          null,
          null,
          null,
          null,
          null,
          null,
          null,
          null,
          null,
          null,
          null
         ]
        },
        {
         "line": {
          "color": "rgb(66, 244, 155)",
          "width": 2
         },
         "mode": "lines",
         "name": "Seasonal",
         "type": "scatter",
         "x": [
          0,
          1,
          2,
          3,
          4,
          5,
          6,
          7,
          8,
          9,
          10,
          11,
          12,
          13,
          14,
          15,
          16,
          17,
          18,
          19,
          20,
          21,
          22,
          23,
          24,
          25,
          26,
          27,
          28,
          29,
          30,
          31,
          32,
          33,
          34,
          35,
          36,
          37,
          38,
          39,
          40,
          41,
          42,
          43,
          44,
          45,
          46,
          47,
          48,
          49,
          50,
          51,
          52,
          53,
          54,
          55,
          56,
          57,
          58,
          59,
          60,
          61,
          62,
          63,
          64,
          65,
          66,
          67,
          68,
          69,
          70,
          71,
          72,
          73,
          74,
          75,
          76,
          77,
          78,
          79,
          80,
          81,
          82,
          83,
          84,
          85,
          86,
          87,
          88,
          89,
          90,
          91,
          92,
          93,
          94,
          95,
          96,
          97,
          98,
          99,
          100,
          101,
          102,
          103,
          104,
          105,
          106,
          107,
          108,
          109,
          110,
          111,
          112,
          113,
          114,
          115,
          116,
          117,
          118,
          119,
          120,
          121,
          122,
          123,
          124,
          125,
          126,
          127,
          128,
          129,
          130,
          131,
          132,
          133,
          134,
          135,
          136,
          137,
          138,
          139,
          140,
          141,
          142,
          143,
          144,
          145,
          146,
          147,
          148,
          149,
          150,
          151,
          152,
          153,
          154,
          155,
          156,
          157,
          158,
          159,
          160,
          161,
          162,
          163,
          164,
          165,
          166,
          167,
          168,
          169,
          170,
          171,
          172,
          173,
          174,
          175,
          176,
          177,
          178,
          179,
          180,
          181,
          182,
          183,
          184,
          185,
          186,
          187,
          188,
          189,
          190,
          191,
          192,
          193,
          194,
          195,
          196,
          197,
          198,
          199,
          200,
          201,
          202,
          203,
          204,
          205,
          206,
          207,
          208,
          209,
          210,
          211,
          212,
          213,
          214,
          215,
          216,
          217,
          218,
          219,
          220,
          221,
          222,
          223,
          224,
          225,
          226,
          227,
          228,
          229,
          230,
          231,
          232,
          233,
          234,
          235,
          236,
          237,
          238,
          239,
          240,
          241,
          242,
          243,
          244,
          245,
          246,
          247,
          248,
          249,
          250,
          251,
          252,
          253,
          254,
          255,
          256,
          257,
          258,
          259,
          260,
          261,
          262,
          263,
          264,
          265,
          266,
          267,
          268,
          269,
          270,
          271,
          272,
          273,
          274,
          275,
          276,
          277,
          278,
          279,
          280,
          281,
          282,
          283,
          284,
          285,
          286,
          287,
          288,
          289,
          290,
          291,
          292,
          293,
          294,
          295,
          296,
          297,
          298,
          299,
          300,
          301,
          302,
          303,
          304,
          305,
          306,
          307,
          308,
          309,
          310,
          311,
          312,
          313,
          314,
          315,
          316,
          317,
          318,
          319,
          320,
          321,
          322,
          323,
          324,
          325,
          326,
          327,
          328,
          329,
          330,
          331,
          332,
          333,
          334,
          335,
          336,
          337,
          338,
          339,
          340,
          341,
          342,
          343,
          344,
          345,
          346,
          347,
          348,
          349,
          350,
          351,
          352,
          353,
          354,
          355,
          356,
          357,
          358,
          359,
          360,
          361,
          362,
          363,
          364,
          365,
          366,
          367,
          368,
          369,
          370,
          371,
          372,
          373,
          374,
          375,
          376,
          377,
          378,
          379,
          380,
          381,
          382,
          383,
          384,
          385,
          386,
          387,
          388,
          389,
          390,
          391,
          392,
          393,
          394,
          395,
          396,
          397,
          398,
          399,
          400,
          401,
          402,
          403,
          404,
          405,
          406,
          407,
          408,
          409,
          410,
          411,
          412,
          413,
          414,
          415,
          416,
          417,
          418,
          419,
          420,
          421,
          422,
          423,
          424,
          425,
          426,
          427,
          428,
          429,
          430,
          431,
          432,
          433,
          434,
          435,
          436,
          437,
          438,
          439,
          440,
          441,
          442,
          443,
          444,
          445,
          446,
          447,
          448,
          449,
          450,
          451,
          452,
          453,
          454,
          455,
          456,
          457,
          458,
          459,
          460,
          461,
          462,
          463,
          464,
          465,
          466,
          467,
          468,
          469,
          470,
          471,
          472,
          473,
          474,
          475,
          476,
          477,
          478,
          479,
          480,
          481,
          482,
          483,
          484,
          485,
          486,
          487,
          488,
          489,
          490,
          491,
          492,
          493,
          494,
          495,
          496,
          497,
          498,
          499,
          500,
          501,
          502,
          503,
          504,
          505,
          506,
          507,
          508,
          509,
          510,
          511,
          512,
          513,
          514,
          515,
          516,
          517,
          518,
          519,
          520,
          521,
          522,
          523,
          524,
          525,
          526,
          527,
          528,
          529,
          530,
          531,
          532,
          533,
          534,
          535,
          536,
          537,
          538,
          539,
          540,
          541,
          542,
          543,
          544,
          545,
          546,
          547,
          548,
          549,
          550,
          551,
          552,
          553,
          554,
          555,
          556,
          557,
          558,
          559,
          560,
          561,
          562,
          563,
          564,
          565,
          566,
          567,
          568,
          569,
          570,
          571,
          572,
          573,
          574,
          575,
          576,
          577,
          578,
          579,
          580,
          581,
          582,
          583,
          584,
          585,
          586,
          587,
          588,
          589,
          590,
          591,
          592,
          593,
          594,
          595,
          596,
          597,
          598,
          599,
          600,
          601,
          602,
          603,
          604,
          605,
          606,
          607,
          608,
          609,
          610,
          611,
          612,
          613,
          614,
          615,
          616,
          617,
          618,
          619,
          620,
          621,
          622,
          623,
          624,
          625,
          626,
          627,
          628,
          629,
          630,
          631,
          632,
          633,
          634,
          635,
          636,
          637,
          638,
          639,
          640,
          641,
          642,
          643,
          644,
          645,
          646,
          647,
          648,
          649,
          650,
          651,
          652,
          653,
          654,
          655,
          656,
          657,
          658,
          659
         ],
         "y": [
          -536.4620532812069,
          -494.1057471759379,
          -464.67680221962365,
          -361.55289850924805,
          -444.8495966130684,
          -526.8283874811572,
          -310.595056806871,
          -620.8362688185852,
          -453.7003763095501,
          -21.20357253141424,
          -129.00381521470678,
          -78.43916278951771,
          -3.052009939821218,
          -41.06145184225866,
          -25.187581262791397,
          33.28501407500502,
          157.9141067849119,
          533.644494311162,
          637.3564082295321,
          604.6067184804568,
          781.9705147564815,
          786.8596963432931,
          421.2634068871153,
          -83.36018318386392,
          222.13973812549227,
          357.7295093240231,
          -21.297103118607495,
          -25.895504790423146,
          -152.8547496534025,
          126.47317555493731,
          419.63919018266955,
          466.2943442232618,
          633.485510691357,
          444.81307600068726,
          386.7564704228773,
          445.27601313221027,
          485.24490043298823,
          758.8487067351481,
          850.5100810651645,
          732.8543590445046,
          156.67367198637442,
          195.13337647781293,
          118.48003965445291,
          418.73223819747324,
          241.6632735956515,
          74.94567250460645,
          -155.27198177798812,
          -192.45408977337985,
          -146.08188703971052,
          -361.48845818785844,
          -594.3493171743366,
          -721.1554718276691,
          -505.2283705453951,
          -481.6448096117385,
          -569.1812478729604,
          -730.3471854028801,
          -796.9215910438068,
          -659.1234971028257,
          -350.8744308220807,
          -433.5090474949656,
          -536.4620532812069,
          -494.1057471759379,
          -464.67680221962365,
          -361.55289850924805,
          -444.8495966130684,
          -526.8283874811572,
          -310.595056806871,
          -620.8362688185852,
          -453.7003763095501,
          -21.20357253141424,
          -129.00381521470678,
          -78.43916278951771,
          -3.052009939821218,
          -41.06145184225866,
          -25.187581262791397,
          33.28501407500502,
          157.9141067849119,
          533.644494311162,
          637.3564082295321,
          604.6067184804568,
          781.9705147564815,
          786.8596963432931,
          421.2634068871153,
          -83.36018318386392,
          222.13973812549227,
          357.7295093240231,
          -21.297103118607495,
          -25.895504790423146,
          -152.8547496534025,
          126.47317555493731,
          419.63919018266955,
          466.2943442232618,
          633.485510691357,
          444.81307600068726,
          386.7564704228773,
          445.27601313221027,
          485.24490043298823,
          758.8487067351481,
          850.5100810651645,
          732.8543590445046,
          156.67367198637442,
          195.13337647781293,
          118.48003965445291,
          418.73223819747324,
          241.6632735956515,
          74.94567250460645,
          -155.27198177798812,
          -192.45408977337985,
          -146.08188703971052,
          -361.48845818785844,
          -594.3493171743366,
          -721.1554718276691,
          -505.2283705453951,
          -481.6448096117385,
          -569.1812478729604,
          -730.3471854028801,
          -796.9215910438068,
          -659.1234971028257,
          -350.8744308220807,
          -433.5090474949656,
          -536.4620532812069,
          -494.1057471759379,
          -464.67680221962365,
          -361.55289850924805,
          -444.8495966130684,
          -526.8283874811572,
          -310.595056806871,
          -620.8362688185852,
          -453.7003763095501,
          -21.20357253141424,
          -129.00381521470678,
          -78.43916278951771,
          -3.052009939821218,
          -41.06145184225866,
          -25.187581262791397,
          33.28501407500502,
          157.9141067849119,
          533.644494311162,
          637.3564082295321,
          604.6067184804568,
          781.9705147564815,
          786.8596963432931,
          421.2634068871153,
          -83.36018318386392,
          222.13973812549227,
          357.7295093240231,
          -21.297103118607495,
          -25.895504790423146,
          -152.8547496534025,
          126.47317555493731,
          419.63919018266955,
          466.2943442232618,
          633.485510691357,
          444.81307600068726,
          386.7564704228773,
          445.27601313221027,
          485.24490043298823,
          758.8487067351481,
          850.5100810651645,
          732.8543590445046,
          156.67367198637442,
          195.13337647781293,
          118.48003965445291,
          418.73223819747324,
          241.6632735956515,
          74.94567250460645,
          -155.27198177798812,
          -192.45408977337985,
          -146.08188703971052,
          -361.48845818785844,
          -594.3493171743366,
          -721.1554718276691,
          -505.2283705453951,
          -481.6448096117385,
          -569.1812478729604,
          -730.3471854028801,
          -796.9215910438068,
          -659.1234971028257,
          -350.8744308220807,
          -433.5090474949656,
          -536.4620532812069,
          -494.1057471759379,
          -464.67680221962365,
          -361.55289850924805,
          -444.8495966130684,
          -526.8283874811572,
          -310.595056806871,
          -620.8362688185852,
          -453.7003763095501,
          -21.20357253141424,
          -129.00381521470678,
          -78.43916278951771,
          -3.052009939821218,
          -41.06145184225866,
          -25.187581262791397,
          33.28501407500502,
          157.9141067849119,
          533.644494311162,
          637.3564082295321,
          604.6067184804568,
          781.9705147564815,
          786.8596963432931,
          421.2634068871153,
          -83.36018318386392,
          222.13973812549227,
          357.7295093240231,
          -21.297103118607495,
          -25.895504790423146,
          -152.8547496534025,
          126.47317555493731,
          419.63919018266955,
          466.2943442232618,
          633.485510691357,
          444.81307600068726,
          386.7564704228773,
          445.27601313221027,
          485.24490043298823,
          758.8487067351481,
          850.5100810651645,
          732.8543590445046,
          156.67367198637442,
          195.13337647781293,
          118.48003965445291,
          418.73223819747324,
          241.6632735956515,
          74.94567250460645,
          -155.27198177798812,
          -192.45408977337985,
          -146.08188703971052,
          -361.48845818785844,
          -594.3493171743366,
          -721.1554718276691,
          -505.2283705453951,
          -481.6448096117385,
          -569.1812478729604,
          -730.3471854028801,
          -796.9215910438068,
          -659.1234971028257,
          -350.8744308220807,
          -433.5090474949656,
          -536.4620532812069,
          -494.1057471759379,
          -464.67680221962365,
          -361.55289850924805,
          -444.8495966130684,
          -526.8283874811572,
          -310.595056806871,
          -620.8362688185852,
          -453.7003763095501,
          -21.20357253141424,
          -129.00381521470678,
          -78.43916278951771,
          -3.052009939821218,
          -41.06145184225866,
          -25.187581262791397,
          33.28501407500502,
          157.9141067849119,
          533.644494311162,
          637.3564082295321,
          604.6067184804568,
          781.9705147564815,
          786.8596963432931,
          421.2634068871153,
          -83.36018318386392,
          222.13973812549227,
          357.7295093240231,
          -21.297103118607495,
          -25.895504790423146,
          -152.8547496534025,
          126.47317555493731,
          419.63919018266955,
          466.2943442232618,
          633.485510691357,
          444.81307600068726,
          386.7564704228773,
          445.27601313221027,
          485.24490043298823,
          758.8487067351481,
          850.5100810651645,
          732.8543590445046,
          156.67367198637442,
          195.13337647781293,
          118.48003965445291,
          418.73223819747324,
          241.6632735956515,
          74.94567250460645,
          -155.27198177798812,
          -192.45408977337985,
          -146.08188703971052,
          -361.48845818785844,
          -594.3493171743366,
          -721.1554718276691,
          -505.2283705453951,
          -481.6448096117385,
          -569.1812478729604,
          -730.3471854028801,
          -796.9215910438068,
          -659.1234971028257,
          -350.8744308220807,
          -433.5090474949656,
          -536.4620532812069,
          -494.1057471759379,
          -464.67680221962365,
          -361.55289850924805,
          -444.8495966130684,
          -526.8283874811572,
          -310.595056806871,
          -620.8362688185852,
          -453.7003763095501,
          -21.20357253141424,
          -129.00381521470678,
          -78.43916278951771,
          -3.052009939821218,
          -41.06145184225866,
          -25.187581262791397,
          33.28501407500502,
          157.9141067849119,
          533.644494311162,
          637.3564082295321,
          604.6067184804568,
          781.9705147564815,
          786.8596963432931,
          421.2634068871153,
          -83.36018318386392,
          222.13973812549227,
          357.7295093240231,
          -21.297103118607495,
          -25.895504790423146,
          -152.8547496534025,
          126.47317555493731,
          419.63919018266955,
          466.2943442232618,
          633.485510691357,
          444.81307600068726,
          386.7564704228773,
          445.27601313221027,
          485.24490043298823,
          758.8487067351481,
          850.5100810651645,
          732.8543590445046,
          156.67367198637442,
          195.13337647781293,
          118.48003965445291,
          418.73223819747324,
          241.6632735956515,
          74.94567250460645,
          -155.27198177798812,
          -192.45408977337985,
          -146.08188703971052,
          -361.48845818785844,
          -594.3493171743366,
          -721.1554718276691,
          -505.2283705453951,
          -481.6448096117385,
          -569.1812478729604,
          -730.3471854028801,
          -796.9215910438068,
          -659.1234971028257,
          -350.8744308220807,
          -433.5090474949656,
          -536.4620532812069,
          -494.1057471759379,
          -464.67680221962365,
          -361.55289850924805,
          -444.8495966130684,
          -526.8283874811572,
          -310.595056806871,
          -620.8362688185852,
          -453.7003763095501,
          -21.20357253141424,
          -129.00381521470678,
          -78.43916278951771,
          -3.052009939821218,
          -41.06145184225866,
          -25.187581262791397,
          33.28501407500502,
          157.9141067849119,
          533.644494311162,
          637.3564082295321,
          604.6067184804568,
          781.9705147564815,
          786.8596963432931,
          421.2634068871153,
          -83.36018318386392,
          222.13973812549227,
          357.7295093240231,
          -21.297103118607495,
          -25.895504790423146,
          -152.8547496534025,
          126.47317555493731,
          419.63919018266955,
          466.2943442232618,
          633.485510691357,
          444.81307600068726,
          386.7564704228773,
          445.27601313221027,
          485.24490043298823,
          758.8487067351481,
          850.5100810651645,
          732.8543590445046,
          156.67367198637442,
          195.13337647781293,
          118.48003965445291,
          418.73223819747324,
          241.6632735956515,
          74.94567250460645,
          -155.27198177798812,
          -192.45408977337985,
          -146.08188703971052,
          -361.48845818785844,
          -594.3493171743366,
          -721.1554718276691,
          -505.2283705453951,
          -481.6448096117385,
          -569.1812478729604,
          -730.3471854028801,
          -796.9215910438068,
          -659.1234971028257,
          -350.8744308220807,
          -433.5090474949656,
          -536.4620532812069,
          -494.1057471759379,
          -464.67680221962365,
          -361.55289850924805,
          -444.8495966130684,
          -526.8283874811572,
          -310.595056806871,
          -620.8362688185852,
          -453.7003763095501,
          -21.20357253141424,
          -129.00381521470678,
          -78.43916278951771,
          -3.052009939821218,
          -41.06145184225866,
          -25.187581262791397,
          33.28501407500502,
          157.9141067849119,
          533.644494311162,
          637.3564082295321,
          604.6067184804568,
          781.9705147564815,
          786.8596963432931,
          421.2634068871153,
          -83.36018318386392,
          222.13973812549227,
          357.7295093240231,
          -21.297103118607495,
          -25.895504790423146,
          -152.8547496534025,
          126.47317555493731,
          419.63919018266955,
          466.2943442232618,
          633.485510691357,
          444.81307600068726,
          386.7564704228773,
          445.27601313221027,
          485.24490043298823,
          758.8487067351481,
          850.5100810651645,
          732.8543590445046,
          156.67367198637442,
          195.13337647781293,
          118.48003965445291,
          418.73223819747324,
          241.6632735956515,
          74.94567250460645,
          -155.27198177798812,
          -192.45408977337985,
          -146.08188703971052,
          -361.48845818785844,
          -594.3493171743366,
          -721.1554718276691,
          -505.2283705453951,
          -481.6448096117385,
          -569.1812478729604,
          -730.3471854028801,
          -796.9215910438068,
          -659.1234971028257,
          -350.8744308220807,
          -433.5090474949656,
          -536.4620532812069,
          -494.1057471759379,
          -464.67680221962365,
          -361.55289850924805,
          -444.8495966130684,
          -526.8283874811572,
          -310.595056806871,
          -620.8362688185852,
          -453.7003763095501,
          -21.20357253141424,
          -129.00381521470678,
          -78.43916278951771,
          -3.052009939821218,
          -41.06145184225866,
          -25.187581262791397,
          33.28501407500502,
          157.9141067849119,
          533.644494311162,
          637.3564082295321,
          604.6067184804568,
          781.9705147564815,
          786.8596963432931,
          421.2634068871153,
          -83.36018318386392,
          222.13973812549227,
          357.7295093240231,
          -21.297103118607495,
          -25.895504790423146,
          -152.8547496534025,
          126.47317555493731,
          419.63919018266955,
          466.2943442232618,
          633.485510691357,
          444.81307600068726,
          386.7564704228773,
          445.27601313221027,
          485.24490043298823,
          758.8487067351481,
          850.5100810651645,
          732.8543590445046,
          156.67367198637442,
          195.13337647781293,
          118.48003965445291,
          418.73223819747324,
          241.6632735956515,
          74.94567250460645,
          -155.27198177798812,
          -192.45408977337985,
          -146.08188703971052,
          -361.48845818785844,
          -594.3493171743366,
          -721.1554718276691,
          -505.2283705453951,
          -481.6448096117385,
          -569.1812478729604,
          -730.3471854028801,
          -796.9215910438068,
          -659.1234971028257,
          -350.8744308220807,
          -433.5090474949656,
          -536.4620532812069,
          -494.1057471759379,
          -464.67680221962365,
          -361.55289850924805,
          -444.8495966130684,
          -526.8283874811572,
          -310.595056806871,
          -620.8362688185852,
          -453.7003763095501,
          -21.20357253141424,
          -129.00381521470678,
          -78.43916278951771,
          -3.052009939821218,
          -41.06145184225866,
          -25.187581262791397,
          33.28501407500502,
          157.9141067849119,
          533.644494311162,
          637.3564082295321,
          604.6067184804568,
          781.9705147564815,
          786.8596963432931,
          421.2634068871153,
          -83.36018318386392,
          222.13973812549227,
          357.7295093240231,
          -21.297103118607495,
          -25.895504790423146,
          -152.8547496534025,
          126.47317555493731,
          419.63919018266955,
          466.2943442232618,
          633.485510691357,
          444.81307600068726,
          386.7564704228773,
          445.27601313221027,
          485.24490043298823,
          758.8487067351481,
          850.5100810651645,
          732.8543590445046,
          156.67367198637442,
          195.13337647781293,
          118.48003965445291,
          418.73223819747324,
          241.6632735956515,
          74.94567250460645,
          -155.27198177798812,
          -192.45408977337985,
          -146.08188703971052,
          -361.48845818785844,
          -594.3493171743366,
          -721.1554718276691,
          -505.2283705453951,
          -481.6448096117385,
          -569.1812478729604,
          -730.3471854028801,
          -796.9215910438068,
          -659.1234971028257,
          -350.8744308220807,
          -433.5090474949656,
          -536.4620532812069,
          -494.1057471759379,
          -464.67680221962365,
          -361.55289850924805,
          -444.8495966130684,
          -526.8283874811572,
          -310.595056806871,
          -620.8362688185852,
          -453.7003763095501,
          -21.20357253141424,
          -129.00381521470678,
          -78.43916278951771,
          -3.052009939821218,
          -41.06145184225866,
          -25.187581262791397,
          33.28501407500502,
          157.9141067849119,
          533.644494311162,
          637.3564082295321,
          604.6067184804568,
          781.9705147564815,
          786.8596963432931,
          421.2634068871153,
          -83.36018318386392,
          222.13973812549227,
          357.7295093240231,
          -21.297103118607495,
          -25.895504790423146,
          -152.8547496534025,
          126.47317555493731,
          419.63919018266955,
          466.2943442232618,
          633.485510691357,
          444.81307600068726,
          386.7564704228773,
          445.27601313221027,
          485.24490043298823,
          758.8487067351481,
          850.5100810651645,
          732.8543590445046,
          156.67367198637442,
          195.13337647781293,
          118.48003965445291,
          418.73223819747324,
          241.6632735956515,
          74.94567250460645,
          -155.27198177798812,
          -192.45408977337985,
          -146.08188703971052,
          -361.48845818785844,
          -594.3493171743366,
          -721.1554718276691,
          -505.2283705453951,
          -481.6448096117385,
          -569.1812478729604,
          -730.3471854028801,
          -796.9215910438068,
          -659.1234971028257,
          -350.8744308220807,
          -433.5090474949656
         ]
        },
        {
         "line": {
          "color": "rgb(209, 244, 66)",
          "width": 2
         },
         "mode": "lines",
         "name": "Residual",
         "type": "scatter",
         "x": [
          0,
          1,
          2,
          3,
          4,
          5,
          6,
          7,
          8,
          9,
          10,
          11,
          12,
          13,
          14,
          15,
          16,
          17,
          18,
          19,
          20,
          21,
          22,
          23,
          24,
          25,
          26,
          27,
          28,
          29,
          30,
          31,
          32,
          33,
          34,
          35,
          36,
          37,
          38,
          39,
          40,
          41,
          42,
          43,
          44,
          45,
          46,
          47,
          48,
          49,
          50,
          51,
          52,
          53,
          54,
          55,
          56,
          57,
          58,
          59,
          60,
          61,
          62,
          63,
          64,
          65,
          66,
          67,
          68,
          69,
          70,
          71,
          72,
          73,
          74,
          75,
          76,
          77,
          78,
          79,
          80,
          81,
          82,
          83,
          84,
          85,
          86,
          87,
          88,
          89,
          90,
          91,
          92,
          93,
          94,
          95,
          96,
          97,
          98,
          99,
          100,
          101,
          102,
          103,
          104,
          105,
          106,
          107,
          108,
          109,
          110,
          111,
          112,
          113,
          114,
          115,
          116,
          117,
          118,
          119,
          120,
          121,
          122,
          123,
          124,
          125,
          126,
          127,
          128,
          129,
          130,
          131,
          132,
          133,
          134,
          135,
          136,
          137,
          138,
          139,
          140,
          141,
          142,
          143,
          144,
          145,
          146,
          147,
          148,
          149,
          150,
          151,
          152,
          153,
          154,
          155,
          156,
          157,
          158,
          159,
          160,
          161,
          162,
          163,
          164,
          165,
          166,
          167,
          168,
          169,
          170,
          171,
          172,
          173,
          174,
          175,
          176,
          177,
          178,
          179,
          180,
          181,
          182,
          183,
          184,
          185,
          186,
          187,
          188,
          189,
          190,
          191,
          192,
          193,
          194,
          195,
          196,
          197,
          198,
          199,
          200,
          201,
          202,
          203,
          204,
          205,
          206,
          207,
          208,
          209,
          210,
          211,
          212,
          213,
          214,
          215,
          216,
          217,
          218,
          219,
          220,
          221,
          222,
          223,
          224,
          225,
          226,
          227,
          228,
          229,
          230,
          231,
          232,
          233,
          234,
          235,
          236,
          237,
          238,
          239,
          240,
          241,
          242,
          243,
          244,
          245,
          246,
          247,
          248,
          249,
          250,
          251,
          252,
          253,
          254,
          255,
          256,
          257,
          258,
          259,
          260,
          261,
          262,
          263,
          264,
          265,
          266,
          267,
          268,
          269,
          270,
          271,
          272,
          273,
          274,
          275,
          276,
          277,
          278,
          279,
          280,
          281,
          282,
          283,
          284,
          285,
          286,
          287,
          288,
          289,
          290,
          291,
          292,
          293,
          294,
          295,
          296,
          297,
          298,
          299,
          300,
          301,
          302,
          303,
          304,
          305,
          306,
          307,
          308,
          309,
          310,
          311,
          312,
          313,
          314,
          315,
          316,
          317,
          318,
          319,
          320,
          321,
          322,
          323,
          324,
          325,
          326,
          327,
          328,
          329,
          330,
          331,
          332,
          333,
          334,
          335,
          336,
          337,
          338,
          339,
          340,
          341,
          342,
          343,
          344,
          345,
          346,
          347,
          348,
          349,
          350,
          351,
          352,
          353,
          354,
          355,
          356,
          357,
          358,
          359,
          360,
          361,
          362,
          363,
          364,
          365,
          366,
          367,
          368,
          369,
          370,
          371,
          372,
          373,
          374,
          375,
          376,
          377,
          378,
          379,
          380,
          381,
          382,
          383,
          384,
          385,
          386,
          387,
          388,
          389,
          390,
          391,
          392,
          393,
          394,
          395,
          396,
          397,
          398,
          399,
          400,
          401,
          402,
          403,
          404,
          405,
          406,
          407,
          408,
          409,
          410,
          411,
          412,
          413,
          414,
          415,
          416,
          417,
          418,
          419,
          420,
          421,
          422,
          423,
          424,
          425,
          426,
          427,
          428,
          429,
          430,
          431,
          432,
          433,
          434,
          435,
          436,
          437,
          438,
          439,
          440,
          441,
          442,
          443,
          444,
          445,
          446,
          447,
          448,
          449,
          450,
          451,
          452,
          453,
          454,
          455,
          456,
          457,
          458,
          459,
          460,
          461,
          462,
          463,
          464,
          465,
          466,
          467,
          468,
          469,
          470,
          471,
          472,
          473,
          474,
          475,
          476,
          477,
          478,
          479,
          480,
          481,
          482,
          483,
          484,
          485,
          486,
          487,
          488,
          489,
          490,
          491,
          492,
          493,
          494,
          495,
          496,
          497,
          498,
          499,
          500,
          501,
          502,
          503,
          504,
          505,
          506,
          507,
          508,
          509,
          510,
          511,
          512,
          513,
          514,
          515,
          516,
          517,
          518,
          519,
          520,
          521,
          522,
          523,
          524,
          525,
          526,
          527,
          528,
          529,
          530,
          531,
          532,
          533,
          534,
          535,
          536,
          537,
          538,
          539,
          540,
          541,
          542,
          543,
          544,
          545,
          546,
          547,
          548,
          549,
          550,
          551,
          552,
          553,
          554,
          555,
          556,
          557,
          558,
          559,
          560,
          561,
          562,
          563,
          564,
          565,
          566,
          567,
          568,
          569,
          570,
          571,
          572,
          573,
          574,
          575,
          576,
          577,
          578,
          579,
          580,
          581,
          582,
          583,
          584,
          585,
          586,
          587,
          588,
          589,
          590,
          591,
          592,
          593,
          594,
          595,
          596,
          597,
          598,
          599,
          600,
          601,
          602,
          603,
          604,
          605,
          606,
          607,
          608,
          609,
          610,
          611,
          612,
          613,
          614,
          615,
          616,
          617,
          618,
          619,
          620,
          621,
          622,
          623,
          624,
          625,
          626,
          627,
          628,
          629,
          630,
          631,
          632,
          633,
          634,
          635,
          636,
          637,
          638,
          639,
          640,
          641,
          642,
          643,
          644,
          645,
          646,
          647,
          648,
          649,
          650,
          651,
          652,
          653,
          654,
          655,
          656,
          657,
          658,
          659
         ],
         "y": [
          null,
          null,
          null,
          null,
          null,
          null,
          null,
          null,
          null,
          null,
          null,
          null,
          null,
          null,
          null,
          null,
          null,
          null,
          null,
          null,
          null,
          null,
          null,
          null,
          null,
          null,
          null,
          null,
          null,
          null,
          604.0982233232758,
          500.1136564351081,
          122.25995421094319,
          -310.7215874109345,
          -729.838290317892,
          -871.8865518047514,
          -1706.028569515589,
          -1520.7044281390345,
          -1213.1611498072223,
          -907.7351724705062,
          -452.6587555137918,
          -622.0753182781547,
          -914.593891226556,
          -1572.2814461340527,
          -1066.322839226093,
          -1110.973392012135,
          -893.9270393556352,
          -1075.3279896961747,
          -1039.5870319004462,
          -791.1497024513112,
          -214.51661927080477,
          155.18046104190012,
          349.46080427745386,
          665.0279695603042,
          808.8368510282595,
          1837.1136186886458,
          1998.826180351545,
          1830.665136870744,
          1639.0794250431659,
          1775.3469109434363,
          1666.6482066432281,
          1445.803923500671,
          1456.1151105890265,
          1111.9520057149332,
          502.56043811427645,
          157.91858933059154,
          155.25075088304578,
          523.3026875857203,
          352.83987969622757,
          249.60144666083193,
          502.901973937695,
          -98.50453874716435,
          -319.14183171626485,
          -65.80154061767311,
          -190.94124918059964,
          -300.2077872514436,
          -166.15846705114342,
          -693.2573211278778,
          -904.9590027297833,
          -1371.6676465479077,
          -1507.0746720173697,
          -1421.6142979290937,
          -988.4043473009183,
          -121.02370058569635,
          187.4391033831704,
          144.12135364937927,
          584.1976309253782,
          745.2346412095643,
          700.0180311356576,
          517.6318279533434,
          121.87887477844612,
          45.43930706231271,
          -230.47693142174523,
          162.64971320032305,
          358.2698249485891,
          356.58228968641737,
          321.9427347836682,
          19.232882913608478,
          -70.83994968329966,
          65.8696273298716,
          482.20156599289146,
          669.792540613399,
          643.7858888539845,
          316.4988103443615,
          429.55301902729695,
          184.2380709482742,
          -517.2050010514203,
          -649.7694140604351,
          -896.0735784489126,
          -555.5019560209205,
          -405.86171960269803,
          -275.79595483034086,
          -194.88138322345236,
          -312.85546373313247,
          -220.91479815414675,
          -136.42442353637148,
          -86.44963862577265,
          -330.13636530827125,
          -557.8289960657271,
          -287.1292615381836,
          -33.7626809347139,
          168.6714806054644,
          -1.1656058972723145,
          -147.5552134089737,
          -14.658665276601994,
          43.55365649796147,
          -189.676384415192,
          -50.98593994797568,
          -220.97647792002846,
          -694.9067397393958,
          -562.9182873730756,
          -522.206080808435,
          -362.12230877873355,
          -313.0496697342263,
          -753.0072884955243,
          -1058.6807592482326,
          -723.7958511561069,
          360.2619693700834,
          369.298535786293,
          480.4523371387105,
          222.07524714247518,
          35.31647468448023,
          390.1702320257395,
          890.558185843405,
          726.3981213403564,
          542.0932049457692,
          974.5636327369189,
          1078.2554065721918,
          1207.7678155972476,
          841.0918672810903,
          301.72863295374606,
          103.34896307878711,
          40.33278412690504,
          143.84516882636376,
          162.51604380572167,
          136.54524273538112,
          22.46970123577927,
          -349.8584840075283,
          -494.6882044618021,
          -314.91591567463036,
          145.7949196616686,
          -138.8553744446209,
          -63.08059134396039,
          -596.6589419054976,
          -912.2050791744401,
          -840.9955256311467,
          -702.8566931482236,
          -827.3377645291309,
          -658.9136934388727,
          -294.9301857172152,
          244.37004806018467,
          493.8339759937505,
          350.63063159318193,
          58.51150453163899,
          135.95575733805765,
          341.8833772843543,
          401.21427177998953,
          349.30915480315207,
          149.91513753832754,
          390.19499812429416,
          479.033641143561,
          415.4844354178542,
          238.81979925634352,
          61.643480237517224,
          119.29408065922581,
          266.3649911490023,
          -2.4890524036546253,
          237.41671365811624,
          10.846079414923395,
          -667.9446512715297,
          -585.2577172059987,
          -268.3541424970815,
          -353.8538626620408,
          -331.205766826933,
          -284.71670522139715,
          -90.10182777920258,
          -444.97329019227396,
          -928.776939809056,
          -1043.9337317712902,
          -1060.1552176609712,
          -1150.494658396135,
          -1130.3858859320756,
          -838.4034502906384,
          -463.43484032082165,
          -805.9240954627988,
          -1098.8989167970353,
          -608.9215446069979,
          -534.6238045658534,
          -331.21716967221386,
          -537.2213059581145,
          -468.2795307189576,
          -246.78874037054726,
          -791.2699873918624,
          -657.8862691484885,
          -421.438924078416,
          -527.2782889001364,
          -625.3243601581598,
          -480.34688365072645,
          -456.4755198877417,
          -462.953537768199,
          237.5417076989728,
          190.5317758928312,
          178.63572761261224,
          -371.125777154824,
          -236.775494297926,
          -88.3973768948716,
          -126.17696289438288,
          -183.13281707269442,
          -334.4051164960184,
          -50.504955781739454,
          442.15478530756354,
          860.5580443248525,
          910.228749721367,
          902.4436959801317,
          937.6248914395088,
          1103.6564305627696,
          1147.7480776356658,
          938.2102795890019,
          477.2576601943487,
          733.8372038356056,
          1100.6381852835393,
          1133.4502139663475,
          1137.6813393431064,
          1301.8713977931786,
          1228.5355096752844,
          1360.0704801675752,
          1565.8065232689805,
          1867.8306223970476,
          1731.5709834153633,
          1240.3374282310813,
          1170.0166930904566,
          994.0537147317912,
          1100.21427725941,
          1435.4027604041983,
          942.5832134086704,
          1033.4342272193664,
          919.9140029086743,
          787.8631889990573,
          577.2014911977243,
          393.414825866089,
          -208.97094922181134,
          -410.7498192279447,
          -92.4759261911309,
          452.54561985425767,
          67.92400729057738,
          172.35864789510885,
          642.7150967925804,
          660.2312924666179,
          1087.0493279037469,
          928.1090298024728,
          633.9260860225845,
          145.41922608425733,
          -668.0886796191704,
          -369.279482670657,
          -361.7219410873797,
          -1553.1064294178705,
          -2911.7044919857963,
          -3011.684627089172,
          -3155.070327799933,
          -3296.93803188467,
          -2339.663108483292,
          -2359.433049133443,
          -1758.516815865058,
          -1415.5314626394843,
          -1385.2405863258741,
          -1210.7914618154698,
          -961.2131841897088,
          -333.190584223136,
          -330.85013828746753,
          -71.17496485704146,
          210.10165889193377,
          -106.30612717713962,
          -428.24651483609665,
          -270.6459874412656,
          -4.758410205360974,
          9.95086868008707,
          491.5738572531352,
          441.61370534623666,
          92.15741508441755,
          201.545464745076,
          600.5062935779333,
          775.415229991738,
          705.7005300523576,
          573.0847510170499,
          302.65630454373496,
          258.80140033202804,
          79.55141822253148,
          128.30508483857454,
          28.050456167694563,
          -563.7425687868665,
          -412.0271982065437,
          -375.61982394445454,
          -438.1346252954196,
          -447.6322845353201,
          -636.7039623423461,
          -933.9542672308697,
          -970.9680538104008,
          -1095.4614079090634,
          -1023.110655181085,
          -1005.6218516765656,
          -1159.884171077973,
          -1094.009687253066,
          -763.6640468131686,
          202.49889582752417,
          493.5905002673095,
          195.91942830440308,
          613.4676667535236,
          674.5813294354733,
          545.5510539429629,
          377.1786488938406,
          271.101243264639,
          510.9532919392322,
          737.4062507864941,
          689.3565665310787,
          -335.3150701257257,
          -421.70209139547484,
          -440.85934772214927,
          -487.41384402173856,
          -91.10660229298333,
          -69.78299732355151,
          345.10692489267274,
          490.3677062997766,
          622.706419123991,
          233.25424972410514,
          373.12827765990767,
          109.12833925358896,
          144.86953711949639,
          225.51599469888544,
          56.65282780273071,
          -61.22655729425355,
          182.5138080896786,
          454.28729013370116,
          506.0449075381561,
          596.9363128952084,
          728.9672540195949,
          924.6082185888433,
          1024.0577985049256,
          1177.3994275352102,
          536.2576985603296,
          763.3950810164542,
          907.4490984833546,
          763.2411099893891,
          722.7628334998324,
          735.5470082444738,
          804.0058001406048,
          952.2424273677174,
          579.4553149296389,
          655.5799323066484,
          504.81340753888725,
          53.59233223066599,
          6.634510964770527,
          210.88623003181897,
          93.58929985321389,
          104.32261158077895,
          17.315078902693173,
          -61.03544115009922,
          -139.7149430856985,
          -384.33783450633393,
          -336.8699711581281,
          -515.0800268725405,
          -910.3597635476559,
          -979.1675909420712,
          -704.0084533764252,
          -271.33073691530285,
          -542.9647923781107,
          -669.4853261817448,
          -275.2574075621565,
          -324.25876748951544,
          -298.78345140961613,
          -608.0145865489349,
          -956.359784941405,
          -876.6795264362308,
          -1024.0354486999827,
          -792.0837200553608,
          -786.0892900028068,
          -1003.9202462310332,
          -1040.1243480032845,
          -1340.4238004894369,
          -1438.467177795076,
          -1414.0986522346925,
          -875.3885956771861,
          -1045.642479068144,
          -1004.4968772063735,
          -1319.5500613250892,
          -1195.641931602911,
          -1050.4642403111272,
          -730.0428818720419,
          -675.2049913652615,
          -581.378155198494,
          -384.1195336382691,
          -128.08925982501478,
          173.35119944344638,
          520.3090751575178,
          1007.8325824687638,
          1168.1480450323756,
          1227.4593472250951,
          1416.8764516948575,
          1652.3019483566,
          1023.1133922795993,
          983.6250338960172,
          1037.380921234765,
          1190.838273607271,
          1433.3084828346625,
          1275.564455463955,
          1313.46452186472,
          1367.6808127703393,
          1363.4399789962372,
          1389.4093101545595,
          1035.6891804186755,
          672.4614854610061,
          964.9688829691063,
          1014.8983222258933,
          888.1538290434395,
          1103.6214897835287,
          1166.9055717316533,
          712.5006491250443,
          561.1134832983957,
          103.06271870388616,
          -207.50678704074346,
          -128.56193161509043,
          -209.3882159736819,
          -453.2658100577621,
          -196.4131440134857,
          249.45114618748062,
          46.16272141135562,
          -20.815696810710904,
          465.3341485084415,
          557.0374496787293,
          885.6807366071039,
          318.8396106130486,
          -499.67817315548695,
          -1181.1702016799018,
          -1455.712415736502,
          -1316.0182362076569,
          -1282.5973848666492,
          -1337.6798350824956,
          -1320.6055368241396,
          -1432.8953866970433,
          -1557.3287778902566,
          -1367.9347272664604,
          -767.9458365278366,
          -682.0381465359634,
          -335.2932046126685,
          -505.2108771126182,
          -317.8945991750858,
          -108.63563067173422,
          214.9613000311939,
          154.7444487039532,
          -138.37948595900173,
          -150.6258782101006,
          22.844823422646186,
          144.79065257577872,
          126.67764186932203,
          119.87604827526428,
          178.29873984000335,
          468.417596469674,
          355.266111309709,
          200.24984937077852,
          -123.69287452318764,
          -302.04785888844077,
          -217.14780409606556,
          -252.69165050465364,
          -238.57246718564528,
          -416.0866976287432,
          -493.81961044083454,
          -387.0383420345257,
          -439.42470500735914,
          137.92703474820235,
          -86.77348564754249,
          -517.6709691917406,
          -497.07817804073005,
          -686.431548897616,
          -844.2100255077863,
          -942.7329823819767,
          -1067.8649460258512,
          -1142.109222201965,
          -1213.0156093545024,
          -1445.3086892926676,
          -1057.5114122707978,
          -682.5893710363715,
          -995.4555216431578,
          -1036.6420094170874,
          -780.1599687603498,
          -401.81437577417114,
          -532.0411880123487,
          -697.6209988307696,
          -538.4153750426253,
          -543.8857608394234,
          -242.91211285012326,
          -631.4093136679339,
          -1240.2695886583838,
          -1413.4341482633436,
          -1435.8286789134477,
          -556.3176947380118,
          214.49945134282075,
          -225.76418149550778,
          -542.9274894176469,
          -761.3014275433662,
          -1023.1998309027083,
          -751.0729196747965,
          46.7197898385333,
          248.43141685763555,
          -65.10177062153029,
          -529.8849346974107,
          -115.76465178347792,
          596.3527864919462,
          1439.9426626589893,
          1245.4106098312452,
          1503.7087816331968,
          1915.1358788433688,
          1698.1708664686275,
          1668.6936037141475,
          1695.1979818204159,
          1688.9693461304744,
          -79.23393119904574,
          -533.4174436907517,
          -369.3565932254171,
          -51.93110856582871,
          331.55897398561086,
          519.4810496267792,
          54.72848331701516,
          67.58433469429673,
          -428.45404109573354,
          -961.1629751248345,
          -1012.5970518269535,
          -1178.8686018226103,
          -2005.5613725896528,
          -2765.890917683587,
          -3307.925828167178,
          -4516.26220626362,
          -4228.02848569025,
          -3944.828893070315,
          -4281.878932772949,
          -4395.576506627323,
          -4049.7338750427843,
          -1909.5582343351232,
          -2079.117765012666,
          -2278.300522464271,
          -2454.55315043964,
          -3048.114085700553,
          -3645.099752616253,
          -3449.778669427272,
          -3619.899649618717,
          -2540.28518417104,
          -1837.828319069928,
          -455.24174674492536,
          -395.968451283296,
          -914.7123955847679,
          432.9693714142209,
          636.2070787990187,
          506.28930719934084,
          1687.2334622181252,
          3979.848442726168,
          2280.8908317411433,
          2456.1508704495373,
          4722.645381973271,
          7517.596997675117,
          8639.831288792237,
          8774.772830588823,
          7793.997617035435,
          2452.726678185167,
          2523.3562178644834,
          1970.3904053533583,
          5034.925730968309,
          3701.599174966403,
          2794.9737207104745,
          1406.0835527695317,
          1392.7277977805472,
          1693.6608803610852,
          -281.46685480471865,
          -2777.253101474317,
          -4294.157855152296,
          -4560.986603850067,
          -5181.660718599589,
          -4378.489109071446,
          -5968.812300204546,
          -7105.3212266108385,
          -6933.246737929823,
          -4293.382542029086,
          -5503.813331693239,
          -6321.039054584818,
          -6433.36206120058,
          -5751.760691328879,
          -4260.4229222407575,
          -3475.0060373856577,
          -3566.2901236902794,
          -1831.917181816776,
          -2848.4592379895066,
          -773.6989048492239,
          4018.969732737367,
          2915.223095622369,
          2950.542051043363,
          3791.81947064493,
          3127.087179022746,
          4130.599452333285,
          3024.1479529203243,
          3531.1517835235213,
          4848.690128104043,
          5356.37997367525,
          6212.358258173,
          8839.087747419362,
          9214.73258556969,
          6867.694044406893,
          1277.2702801221637,
          1471.6792312982157,
          1162.0053406383245,
          -2187.2801071539675,
          -2123.424100815217,
          -4711.688312601187,
          -2567.9775671000325,
          null,
          null,
          null,
          null,
          null,
          null,
          null,
          null,
          null,
          null,
          null,
          null,
          null,
          null,
          null,
          null,
          null,
          null,
          null,
          null,
          null,
          null,
          null,
          null,
          null,
          null,
          null,
          null,
          null,
          null
         ]
        },
        {
         "line": {
          "color": "rgb(66, 134, 244)",
          "width": 2
         },
         "mode": "lines",
         "name": "Observed",
         "type": "scatter",
         "x": [
          0,
          1,
          2,
          3,
          4,
          5,
          6,
          7,
          8,
          9,
          10,
          11,
          12,
          13,
          14,
          15,
          16,
          17,
          18,
          19,
          20,
          21,
          22,
          23,
          24,
          25,
          26,
          27,
          28,
          29,
          30,
          31,
          32,
          33,
          34,
          35,
          36,
          37,
          38,
          39,
          40,
          41,
          42,
          43,
          44,
          45,
          46,
          47,
          48,
          49,
          50,
          51,
          52,
          53,
          54,
          55,
          56,
          57,
          58,
          59,
          60,
          61,
          62,
          63,
          64,
          65,
          66,
          67,
          68,
          69,
          70,
          71,
          72,
          73,
          74,
          75,
          76,
          77,
          78,
          79,
          80,
          81,
          82,
          83,
          84,
          85,
          86,
          87,
          88,
          89,
          90,
          91,
          92,
          93,
          94,
          95,
          96,
          97,
          98,
          99,
          100,
          101,
          102,
          103,
          104,
          105,
          106,
          107,
          108,
          109,
          110,
          111,
          112,
          113,
          114,
          115,
          116,
          117,
          118,
          119,
          120,
          121,
          122,
          123,
          124,
          125,
          126,
          127,
          128,
          129,
          130,
          131,
          132,
          133,
          134,
          135,
          136,
          137,
          138,
          139,
          140,
          141,
          142,
          143,
          144,
          145,
          146,
          147,
          148,
          149,
          150,
          151,
          152,
          153,
          154,
          155,
          156,
          157,
          158,
          159,
          160,
          161,
          162,
          163,
          164,
          165,
          166,
          167,
          168,
          169,
          170,
          171,
          172,
          173,
          174,
          175,
          176,
          177,
          178,
          179,
          180,
          181,
          182,
          183,
          184,
          185,
          186,
          187,
          188,
          189,
          190,
          191,
          192,
          193,
          194,
          195,
          196,
          197,
          198,
          199,
          200,
          201,
          202,
          203,
          204,
          205,
          206,
          207,
          208,
          209,
          210,
          211,
          212,
          213,
          214,
          215,
          216,
          217,
          218,
          219,
          220,
          221,
          222,
          223,
          224,
          225,
          226,
          227,
          228,
          229,
          230,
          231,
          232,
          233,
          234,
          235,
          236,
          237,
          238,
          239,
          240,
          241,
          242,
          243,
          244,
          245,
          246,
          247,
          248,
          249,
          250,
          251,
          252,
          253,
          254,
          255,
          256,
          257,
          258,
          259,
          260,
          261,
          262,
          263,
          264,
          265,
          266,
          267,
          268,
          269,
          270,
          271,
          272,
          273,
          274,
          275,
          276,
          277,
          278,
          279,
          280,
          281,
          282,
          283,
          284,
          285,
          286,
          287,
          288,
          289,
          290,
          291,
          292,
          293,
          294,
          295,
          296,
          297,
          298,
          299,
          300,
          301,
          302,
          303,
          304,
          305,
          306,
          307,
          308,
          309,
          310,
          311,
          312,
          313,
          314,
          315,
          316,
          317,
          318,
          319,
          320,
          321,
          322,
          323,
          324,
          325,
          326,
          327,
          328,
          329,
          330,
          331,
          332,
          333,
          334,
          335,
          336,
          337,
          338,
          339,
          340,
          341,
          342,
          343,
          344,
          345,
          346,
          347,
          348,
          349,
          350,
          351,
          352,
          353,
          354,
          355,
          356,
          357,
          358,
          359,
          360,
          361,
          362,
          363,
          364,
          365,
          366,
          367,
          368,
          369,
          370,
          371,
          372,
          373,
          374,
          375,
          376,
          377,
          378,
          379,
          380,
          381,
          382,
          383,
          384,
          385,
          386,
          387,
          388,
          389,
          390,
          391,
          392,
          393,
          394,
          395,
          396,
          397,
          398,
          399,
          400,
          401,
          402,
          403,
          404,
          405,
          406,
          407,
          408,
          409,
          410,
          411,
          412,
          413,
          414,
          415,
          416,
          417,
          418,
          419,
          420,
          421,
          422,
          423,
          424,
          425,
          426,
          427,
          428,
          429,
          430,
          431,
          432,
          433,
          434,
          435,
          436,
          437,
          438,
          439,
          440,
          441,
          442,
          443,
          444,
          445,
          446,
          447,
          448,
          449,
          450,
          451,
          452,
          453,
          454,
          455,
          456,
          457,
          458,
          459,
          460,
          461,
          462,
          463,
          464,
          465,
          466,
          467,
          468,
          469,
          470,
          471,
          472,
          473,
          474,
          475,
          476,
          477,
          478,
          479,
          480,
          481,
          482,
          483,
          484,
          485,
          486,
          487,
          488,
          489,
          490,
          491,
          492,
          493,
          494,
          495,
          496,
          497,
          498,
          499,
          500,
          501,
          502,
          503,
          504,
          505,
          506,
          507,
          508,
          509,
          510,
          511,
          512,
          513,
          514,
          515,
          516,
          517,
          518,
          519,
          520,
          521,
          522,
          523,
          524,
          525,
          526,
          527,
          528,
          529,
          530,
          531,
          532,
          533,
          534,
          535,
          536,
          537,
          538,
          539,
          540,
          541,
          542,
          543,
          544,
          545,
          546,
          547,
          548,
          549,
          550,
          551,
          552,
          553,
          554,
          555,
          556,
          557,
          558,
          559,
          560,
          561,
          562,
          563,
          564,
          565,
          566,
          567,
          568,
          569,
          570,
          571,
          572,
          573,
          574,
          575,
          576,
          577,
          578,
          579,
          580,
          581,
          582,
          583,
          584,
          585,
          586,
          587,
          588,
          589,
          590,
          591,
          592,
          593,
          594,
          595,
          596,
          597,
          598,
          599,
          600,
          601,
          602,
          603,
          604,
          605,
          606,
          607,
          608,
          609,
          610,
          611,
          612,
          613,
          614,
          615,
          616,
          617,
          618,
          619,
          620,
          621,
          622,
          623,
          624,
          625,
          626,
          627,
          628,
          629,
          630,
          631,
          632,
          633,
          634,
          635,
          636,
          637,
          638,
          639,
          640,
          641,
          642,
          643,
          644,
          645,
          646,
          647,
          648,
          649,
          650,
          651,
          652,
          653,
          654,
          655,
          656,
          657,
          658,
          659
         ],
         "y": [
          7896.83001328662,
          8036.509587763997,
          8169.588231822863,
          8353.217492064301,
          8727.687036371808,
          9095.289101530438,
          9235.84643250591,
          9152.500069336693,
          9148.013959014454,
          9353.226485596455,
          9801.486018448264,
          10724.805004758333,
          10746.900511013213,
          10846.846268886111,
          11315.817028152778,
          12643.582684068057,
          11804.629165520835,
          11679.438350060458,
          11854.537295204309,
          11542.551910965278,
          10688.3166698925,
          10303.94725500368,
          11345.214704756945,
          11759.042504677083,
          11139.493770149722,
          11415.369265018246,
          11311.476748027972,
          11794.103580294362,
          12513.873100013898,
          12648.777229872221,
          11583.33114395625,
          11584.532266976355,
          11428.59780370119,
          10857.02663389106,
          10417.313950106389,
          10355.675152687838,
          9577.424253618541,
          10054.174637386319,
          10472.448828593728,
          10680.276549055905,
          10577.614454422584,
          10450.15757070691,
          10070.725015713153,
          9702.591536684678,
          10016.95239891381,
          9774.724239339519,
          9728.204527019096,
          9484.91410564371,
          9539.378363609232,
          9540.448916710371,
          9857.746978877918,
          10085.104546979135,
          10475.070739547553,
          10784.832144716524,
          10820.892324169707,
          11675.761776815843,
          11757.580574404448,
          11711.54347617361,
          11801.34874174218,
          11819.342192960974,
          11578.771028918323,
          11378.23287625414,
          11395.233641041492,
          11137.508863135605,
          10438.670629312179,
          10011.09607166713,
          10230.707223260682,
          10296.331609269493,
          10292.527044551449,
          10615.609217593968,
          10752.164342622098,
          10194.123627454297,
          10046.304461677862,
          10263.66759854155,
          10155.542089256625,
          10100.656939299779,
          10345.745626969783,
          10173.438323876944,
          10042.66901372292,
          9519.19556846485,
          9534.77356921509,
          9593.48744870225,
          9626.724277129408,
          9950.81440660014,
          10522.2502178007,
          10563.647519247545,
          10564.875481794745,
          10659.807003605336,
          10425.199010551292,
          10460.721158303626,
          10301.052740780628,
          10220.789594924785,
          10063.616404874574,
          10219.738823657242,
          10316.605586066476,
          10341.913357534813,
          10316.66517278883,
          10252.573076358103,
          10216.732469111426,
          10194.849184512006,
          9989.622671113486,
          10174.286765040259,
          10038.312742536116,
          9978.878329965726,
          9877.505049456991,
          9423.226721940335,
          8448.935015594028,
          8251.523231985982,
          8039.224140808507,
          8158.789736606589,
          8073.9537522231785,
          8072.61663108239,
          8362.338726063745,
          8257.53289737893,
          8244.961882187736,
          8146.725816650452,
          8108.012260229536,
          7980.2613741350515,
          8040.7742697218755,
          8209.567752138215,
          8338.767992641348,
          8560.788050894631,
          8398.90430229132,
          8334.023264038153,
          8358.546977063059,
          8308.311406457333,
          8264.18983118871,
          8064.522897802507,
          8032.837878444004,
          7962.841632669792,
          7959.600127137167,
          8020.29762071857,
          8222.446397849375,
          8199.58174991533,
          7736.604987101156,
          7450.100639864555,
          7880.584318722863,
          9318.768119687275,
          9413.283675192668,
          9476.646249183541,
          9383.479470677568,
          9193.173796062196,
          9172.688580832568,
          9155.013009841965,
          9281.022513483938,
          9217.61490854777,
          9257.235809623842,
          9343.976273420221,
          9335.804948360492,
          9237.518967896272,
          8978.654813496512,
          8810.738395148996,
          8896.594757823768,
          8792.92033648704,
          8734.287632799298,
          8747.939129337929,
          8655.655597415272,
          8539.642750726829,
          8470.01792728436,
          8514.029198381428,
          8378.876831365851,
          8115.508755776789,
          8098.433021968151,
          7847.416641400139,
          7341.804982141348,
          7242.5101706531705,
          7146.012933634432,
          6961.916463382015,
          7140.879929910146,
          7252.149434008623,
          7522.175880529575,
          7612.064453473588,
          7653.7689299072545,
          7353.310525060705,
          7309.541874785915,
          7319.050655238827,
          7276.93770894753,
          7328.986921367733,
          7405.110015872575,
          7532.677123219301,
          7495.626457542383,
          7460.901284415649,
          7300.556087797425,
          7210.646917069641,
          7172.286553317028,
          7226.902418159915,
          7164.373492626379,
          7089.723106689309,
          7032.860391371809,
          6790.183639408659,
          6770.356285148959,
          7148.24314580139,
          7150.839262453889,
          7148.361459371388,
          7228.238391081993,
          7504.055563032636,
          7296.419569266667,
          7210.937964009355,
          7221.176955374911,
          7191.861071997463,
          7298.71325546727,
          7345.635970926201,
          7297.912752203773,
          7199.048192231056,
          7195.811552696487,
          7072.477633719384,
          7218.040866931682,
          7321.9194708394125,
          7430.027209611765,
          7533.920318682505,
          7929.897113517025,
          8235.62327437288,
          7898.569229036523,
          7888.135214954419,
          8113.360825871817,
          8111.715362809296,
          8102.893845324075,
          8574.611704362778,
          8743.692143647291,
          8674.415975438429,
          8852.80457727625,
          8891.817032065532,
          8847.166821810988,
          8644.707999736622,
          8646.193566877122,
          8665.685486395549,
          8435.60273035554,
          8383.32548664732,
          8321.535235775193,
          8430.129199500634,
          8723.53546651094,
          9041.676236459416,
          9331.033357999097,
          9370.89651238228,
          9342.279203230486,
          9372.44906582662,
          9377.036114146764,
          9330.40038077672,
          9202.938405466666,
          9403.167151421294,
          9689.41702545611,
          9776.736692524168,
          9813.044905712388,
          10080.722382977692,
          9922.395658425208,
          9957.71639903565,
          10344.23948839375,
          10286.246258415278,
          10262.061382627084,
          10143.891251224097,
          9905.533884787154,
          9720.587398641319,
          9846.395991498055,
          10098.862828333078,
          9582.24688837118,
          9689.81545051362,
          9660.397790837422,
          9870.245958296518,
          9735.050459190896,
          9490.032467298817,
          9033.42804906368,
          8796.161047472153,
          8698.50545896493,
          8686.213148361267,
          8557.198634572245,
          8747.60187217889,
          8791.293455052884,
          8761.143370995134,
          9019.792645918415,
          9098.213160726615,
          9053.832076247834,
          8569.848185239665,
          7882.121460787501,
          7948.20479578624,
          7849.994645347669,
          6666.8288616819445,
          5294.226216340625,
          5410.145281967316,
          5300.823048177198,
          4985.279471287815,
          5313.574447863547,
          5285.267935995222,
          5765.021215411847,
          6361.389077256465,
          6169.0808638566405,
          6132.19254868989,
          6105.912299011584,
          6653.24717908682,
          6662.127716616783,
          6671.740301294887,
          6692.03163392507,
          6227.902488380876,
          6104.824055534402,
          6274.273825478297,
          6451.763185970713,
          6308.424179516385,
          6724.470570755298,
          6814.820556971713,
          6773.3763511672105,
          6796.675729856812,
          7092.209807825685,
          7318.081696902664,
          7302.501675313943,
          7304.8543422836665,
          6972.933325834542,
          6871.078166278387,
          6954.06131225038,
          6751.871765907465,
          6884.686986010135,
          6798.8475537627355,
          6914.6664101467095,
          7071.901788128172,
          7153.9275586031945,
          7166.968470350747,
          7050.526232960057,
          6867.155475591535,
          7006.153003182838,
          7303.817318437702,
          7521.625762324783,
          7544.735051663964,
          7603.793608820939,
          7715.970909100279,
          7730.878020961834,
          8245.722380213292,
          8894.275984848126,
          8784.64278472021,
          8873.989539326563,
          8979.8925886014,
          8772.605609500626,
          8930.913681363852,
          9164.282146281499,
          9492.195702154653,
          9924.46195119388,
          9727.209380738623,
          8687.485435756498,
          8706.762334109952,
          8774.268432777051,
          9045.862951861673,
          9577.180130024619,
          9523.737060923506,
          9403.564276661013,
          9626.880262499786,
          9721.819166062283,
          9670.352673392987,
          9670.785648144516,
          9279.322026266458,
          9124.649396746318,
          9205.783900625256,
          9119.084263966228,
          8819.204823993847,
          8859.416745109058,
          9030.15356131142,
          9321.50428794414,
          9454.194394877903,
          9507.292082854146,
          9546.667359008292,
          9585.242823246666,
          9880.582896244669,
          9551.918962460255,
          9700.43932304499,
          9742.028924931494,
          9637.024958752836,
          9618.213260328099,
          9725.488576168938,
          9712.814762248128,
          9788.521959529107,
          9639.953642159222,
          9411.40452584464,
          9426.981678573988,
          9403.238615212731,
          9244.433018226346,
          9493.595172876241,
          9442.65748125204,
          9406.255930210371,
          9326.588143206127,
          9301.563679662226,
          9348.204026697771,
          9482.184810315599,
          9638.217570861829,
          9436.92519585693,
          9231.493230758932,
          9180.609944562828,
          9106.159939018444,
          9056.257339322981,
          9116.123239307997,
          9150.825424038163,
          9191.841695595105,
          9166.08243554116,
          9093.863231727604,
          9091.76743531617,
          9062.059217030532,
          9216.144576610279,
          9269.029049758998,
          9346.71076847222,
          9327.67512244847,
          9200.495958052377,
          9238.790536103692,
          9249.43824694953,
          9278.539033505616,
          9220.12313770205,
          9221.474235418795,
          9130.464282660963,
          9134.88543046599,
          9162.23590497374,
          9154.807427888658,
          9177.715587053488,
          9309.146587307878,
          9366.08121152948,
          9541.144946620196,
          9557.22859637074,
          9619.470008863225,
          9834.34345093737,
          10435.77195985602,
          10985.119592693056,
          11096.370981655053,
          11033.542140439722,
          11196.163887413408,
          11610.522017505587,
          11333.746837542161,
          11255.501070308339,
          11243.48303516028,
          11465.564492601672,
          11755.581199804166,
          11716.41160780544,
          11685.075270792426,
          11672.13134572093,
          11899.919358701876,
          11632.641652881699,
          11463.679295341904,
          11551.097077250175,
          11755.18194227298,
          11876.953385832172,
          11850.765200290209,
          12056.323421185625,
          12164.40358757818,
          11797.51651098125,
          11799.526727126486,
          11744.323115112576,
          11559.842808898175,
          11623.091878436791,
          11733.966268063905,
          11506.833402339887,
          11405.160311917933,
          11346.124717479443,
          11442.939620304409,
          11507.10433766596,
          11609.048559349363,
          11685.020310521588,
          11874.642536686848,
          11576.25306907446,
          11039.063579204309,
          10391.276090070347,
          10268.003898553521,
          10201.799719070521,
          10159.82153465522,
          10146.578532762562,
          10188.169891084857,
          10339.35989595404,
          10303.242946947663,
          10373.259994796503,
          10393.662602084098,
          10511.558141261507,
          10774.09014676084,
          10895.031435610606,
          10892.677561047387,
          10925.275534520644,
          11013.781351278094,
          10915.458254081213,
          10677.042177491314,
          10467.799828944444,
          10429.32410145101,
          10447.154971139653,
          10671.424398447645,
          10716.311805883755,
          10717.587523472914,
          10878.729324832035,
          10729.49535984686,
          10741.21274592227,
          10755.638201109561,
          10528.457687540182,
          10549.999930406648,
          10604.973839338629,
          10705.634581668555,
          10699.247307400141,
          10621.1479497777,
          10734.447340398323,
          10983.384095603933,
          11334.302728770817,
          11360.626362271323,
          11447.596319805221,
          11450.01113257012,
          11405.5015588268,
          11415.065075223158,
          11364.835083055983,
          11343.749377836297,
          11424.963448037328,
          11587.264630524505,
          11845.688666804637,
          12458.755897932593,
          12933.452571687369,
          12933.337158049088,
          13030.40593501592,
          13056.22818710296,
          13067.709653875707,
          13368.090398184977,
          13444.619430909723,
          13330.564563991662,
          13435.770794682672,
          13738.185588586955,
          13769.800513425595,
          13596.939398092683,
          13612.774179418233,
          13900.019495758188,
          14730.15041758264,
          15583.101231359722,
          15342.928405946443,
          15202.59451839986,
          15381.907919403473,
          15327.286289963864,
          15593.693127775694,
          15927.901184766668,
          16290.816921184156,
          16029.412185657804,
          15995.998189848056,
          16372.397348176512,
          17083.845872113274,
          17884.6282452625,
          17843.01880314236,
          18336.44645095625,
          18711.314227810417,
          18432.242585682638,
          18448.166465381943,
          18862.793010583333,
          19056.078856653472,
          17390.736701274305,
          16987.868828386807,
          17312.290464663194,
          17991.41982026078,
          18913.478020126477,
          19264.72192229653,
          18953.713099227083,
          19282.56309730833,
          19121.886986334724,
          18998.079583495834,
          19145.148466569426,
          19198.998589492363,
          18942.096815483335,
          18265.613948152084,
          18303.16309365625,
          17937.337420969423,
          18471.794175698888,
          19113.04710453162,
          19161.334182659248,
          19352.60234239375,
          20077.72292045972,
          22616.832315699998,
          22884.613914634723,
          23360.905627054166,
          23594.41173107521,
          23259.466833602084,
          23097.830404147222,
          23530.788341771527,
          23219.253677889585,
          24016.39466225972,
          25267.11261518998,
          27043.38647,
          26964.020499138893,
          26671.00809917778,
          28141.234408113196,
          28881.524878111806,
          29288.824916593752,
          30757.42953276042,
          33467.36252562916,
          31856.122685291666,
          32273.087909194444,
          34904.99738251389,
          38067.44547187986,
          39807.603738850696,
          40395.370087963194,
          39727.27752555417,
          34277.11000771458,
          34840.25015274931,
          34673.97475176042,
          38508.45668270347,
          37468.42796355625,
          36843.15436011188,
          35650.76418554729,
          36046.172744233656,
          36858.91067922986,
          35152.73730396041,
          32949.07245171042,
          31861.057341175692,
          32351.81482667084,
          32225.070119778866,
          33353.08542052361,
          31997.221463515973,
          31149.41936392153,
          31793.884442463197,
          35051.467813852774,
          34053.71261722708,
          33450.93785876323,
          33705.97519064722,
          34713.69640010833,
          36573.09481030625,
          37541.54813242222,
          37630.04921400487,
          39814.356554572616,
          38711.774555249474,
          41196.61444486648,
          46684.4908495625,
          45798.7337153625,
          46272.21566854444,
          47603.41542011806,
          47273.849919144544,
          48600.491518490235,
          47862.39794598194,
          48845.16600342639,
          50913.92413875069,
          51893.31118121875,
          53083.8791087993,
          56271.28853767917,
          57040.82594383044,
          54708.31202510764,
          48968.83794590833,
          49800.28486888125,
          49985.23481495344,
          46655.92004851875,
          47130.20806015889,
          44818.447552103615,
          47641.53689948158,
          48617.289320901386,
          50429.449015790684,
          49398.25039857084,
          47717.64330027986,
          48371.543537970036,
          50218.21680438112,
          50798.354212407234,
          53980.84726167916,
          55375.366241257994,
          56272.596972013904,
          56826.56003304931,
          58802.60156770642,
          60455.844831486414,
          57507.73450910987,
          55339.80479183195,
          56158.01731986032,
          58472.11732155981,
          58283.54799432522,
          58779.76938655648,
          57312.598536458274,
          56787.14842211057,
          54703.38774047083,
          55123.99385491754,
          52121.68411029951,
          53241.037488505215,
          55193.357259559045,
          55832.95882390712,
          56913.993819261836,
          58346.91226829547,
          58764.349363
         ]
        }
       ],
       "layout": {
        "template": {
         "data": {
          "bar": [
           {
            "error_x": {
             "color": "#2a3f5f"
            },
            "error_y": {
             "color": "#2a3f5f"
            },
            "marker": {
             "line": {
              "color": "#E5ECF6",
              "width": 0.5
             },
             "pattern": {
              "fillmode": "overlay",
              "size": 10,
              "solidity": 0.2
             }
            },
            "type": "bar"
           }
          ],
          "barpolar": [
           {
            "marker": {
             "line": {
              "color": "#E5ECF6",
              "width": 0.5
             },
             "pattern": {
              "fillmode": "overlay",
              "size": 10,
              "solidity": 0.2
             }
            },
            "type": "barpolar"
           }
          ],
          "carpet": [
           {
            "aaxis": {
             "endlinecolor": "#2a3f5f",
             "gridcolor": "white",
             "linecolor": "white",
             "minorgridcolor": "white",
             "startlinecolor": "#2a3f5f"
            },
            "baxis": {
             "endlinecolor": "#2a3f5f",
             "gridcolor": "white",
             "linecolor": "white",
             "minorgridcolor": "white",
             "startlinecolor": "#2a3f5f"
            },
            "type": "carpet"
           }
          ],
          "choropleth": [
           {
            "colorbar": {
             "outlinewidth": 0,
             "ticks": ""
            },
            "type": "choropleth"
           }
          ],
          "contour": [
           {
            "colorbar": {
             "outlinewidth": 0,
             "ticks": ""
            },
            "colorscale": [
             [
              0,
              "#0d0887"
             ],
             [
              0.1111111111111111,
              "#46039f"
             ],
             [
              0.2222222222222222,
              "#7201a8"
             ],
             [
              0.3333333333333333,
              "#9c179e"
             ],
             [
              0.4444444444444444,
              "#bd3786"
             ],
             [
              0.5555555555555556,
              "#d8576b"
             ],
             [
              0.6666666666666666,
              "#ed7953"
             ],
             [
              0.7777777777777778,
              "#fb9f3a"
             ],
             [
              0.8888888888888888,
              "#fdca26"
             ],
             [
              1,
              "#f0f921"
             ]
            ],
            "type": "contour"
           }
          ],
          "contourcarpet": [
           {
            "colorbar": {
             "outlinewidth": 0,
             "ticks": ""
            },
            "type": "contourcarpet"
           }
          ],
          "heatmap": [
           {
            "colorbar": {
             "outlinewidth": 0,
             "ticks": ""
            },
            "colorscale": [
             [
              0,
              "#0d0887"
             ],
             [
              0.1111111111111111,
              "#46039f"
             ],
             [
              0.2222222222222222,
              "#7201a8"
             ],
             [
              0.3333333333333333,
              "#9c179e"
             ],
             [
              0.4444444444444444,
              "#bd3786"
             ],
             [
              0.5555555555555556,
              "#d8576b"
             ],
             [
              0.6666666666666666,
              "#ed7953"
             ],
             [
              0.7777777777777778,
              "#fb9f3a"
             ],
             [
              0.8888888888888888,
              "#fdca26"
             ],
             [
              1,
              "#f0f921"
             ]
            ],
            "type": "heatmap"
           }
          ],
          "heatmapgl": [
           {
            "colorbar": {
             "outlinewidth": 0,
             "ticks": ""
            },
            "colorscale": [
             [
              0,
              "#0d0887"
             ],
             [
              0.1111111111111111,
              "#46039f"
             ],
             [
              0.2222222222222222,
              "#7201a8"
             ],
             [
              0.3333333333333333,
              "#9c179e"
             ],
             [
              0.4444444444444444,
              "#bd3786"
             ],
             [
              0.5555555555555556,
              "#d8576b"
             ],
             [
              0.6666666666666666,
              "#ed7953"
             ],
             [
              0.7777777777777778,
              "#fb9f3a"
             ],
             [
              0.8888888888888888,
              "#fdca26"
             ],
             [
              1,
              "#f0f921"
             ]
            ],
            "type": "heatmapgl"
           }
          ],
          "histogram": [
           {
            "marker": {
             "pattern": {
              "fillmode": "overlay",
              "size": 10,
              "solidity": 0.2
             }
            },
            "type": "histogram"
           }
          ],
          "histogram2d": [
           {
            "colorbar": {
             "outlinewidth": 0,
             "ticks": ""
            },
            "colorscale": [
             [
              0,
              "#0d0887"
             ],
             [
              0.1111111111111111,
              "#46039f"
             ],
             [
              0.2222222222222222,
              "#7201a8"
             ],
             [
              0.3333333333333333,
              "#9c179e"
             ],
             [
              0.4444444444444444,
              "#bd3786"
             ],
             [
              0.5555555555555556,
              "#d8576b"
             ],
             [
              0.6666666666666666,
              "#ed7953"
             ],
             [
              0.7777777777777778,
              "#fb9f3a"
             ],
             [
              0.8888888888888888,
              "#fdca26"
             ],
             [
              1,
              "#f0f921"
             ]
            ],
            "type": "histogram2d"
           }
          ],
          "histogram2dcontour": [
           {
            "colorbar": {
             "outlinewidth": 0,
             "ticks": ""
            },
            "colorscale": [
             [
              0,
              "#0d0887"
             ],
             [
              0.1111111111111111,
              "#46039f"
             ],
             [
              0.2222222222222222,
              "#7201a8"
             ],
             [
              0.3333333333333333,
              "#9c179e"
             ],
             [
              0.4444444444444444,
              "#bd3786"
             ],
             [
              0.5555555555555556,
              "#d8576b"
             ],
             [
              0.6666666666666666,
              "#ed7953"
             ],
             [
              0.7777777777777778,
              "#fb9f3a"
             ],
             [
              0.8888888888888888,
              "#fdca26"
             ],
             [
              1,
              "#f0f921"
             ]
            ],
            "type": "histogram2dcontour"
           }
          ],
          "mesh3d": [
           {
            "colorbar": {
             "outlinewidth": 0,
             "ticks": ""
            },
            "type": "mesh3d"
           }
          ],
          "parcoords": [
           {
            "line": {
             "colorbar": {
              "outlinewidth": 0,
              "ticks": ""
             }
            },
            "type": "parcoords"
           }
          ],
          "pie": [
           {
            "automargin": true,
            "type": "pie"
           }
          ],
          "scatter": [
           {
            "fillpattern": {
             "fillmode": "overlay",
             "size": 10,
             "solidity": 0.2
            },
            "type": "scatter"
           }
          ],
          "scatter3d": [
           {
            "line": {
             "colorbar": {
              "outlinewidth": 0,
              "ticks": ""
             }
            },
            "marker": {
             "colorbar": {
              "outlinewidth": 0,
              "ticks": ""
             }
            },
            "type": "scatter3d"
           }
          ],
          "scattercarpet": [
           {
            "marker": {
             "colorbar": {
              "outlinewidth": 0,
              "ticks": ""
             }
            },
            "type": "scattercarpet"
           }
          ],
          "scattergeo": [
           {
            "marker": {
             "colorbar": {
              "outlinewidth": 0,
              "ticks": ""
             }
            },
            "type": "scattergeo"
           }
          ],
          "scattergl": [
           {
            "marker": {
             "colorbar": {
              "outlinewidth": 0,
              "ticks": ""
             }
            },
            "type": "scattergl"
           }
          ],
          "scattermapbox": [
           {
            "marker": {
             "colorbar": {
              "outlinewidth": 0,
              "ticks": ""
             }
            },
            "type": "scattermapbox"
           }
          ],
          "scatterpolar": [
           {
            "marker": {
             "colorbar": {
              "outlinewidth": 0,
              "ticks": ""
             }
            },
            "type": "scatterpolar"
           }
          ],
          "scatterpolargl": [
           {
            "marker": {
             "colorbar": {
              "outlinewidth": 0,
              "ticks": ""
             }
            },
            "type": "scatterpolargl"
           }
          ],
          "scatterternary": [
           {
            "marker": {
             "colorbar": {
              "outlinewidth": 0,
              "ticks": ""
             }
            },
            "type": "scatterternary"
           }
          ],
          "surface": [
           {
            "colorbar": {
             "outlinewidth": 0,
             "ticks": ""
            },
            "colorscale": [
             [
              0,
              "#0d0887"
             ],
             [
              0.1111111111111111,
              "#46039f"
             ],
             [
              0.2222222222222222,
              "#7201a8"
             ],
             [
              0.3333333333333333,
              "#9c179e"
             ],
             [
              0.4444444444444444,
              "#bd3786"
             ],
             [
              0.5555555555555556,
              "#d8576b"
             ],
             [
              0.6666666666666666,
              "#ed7953"
             ],
             [
              0.7777777777777778,
              "#fb9f3a"
             ],
             [
              0.8888888888888888,
              "#fdca26"
             ],
             [
              1,
              "#f0f921"
             ]
            ],
            "type": "surface"
           }
          ],
          "table": [
           {
            "cells": {
             "fill": {
              "color": "#EBF0F8"
             },
             "line": {
              "color": "white"
             }
            },
            "header": {
             "fill": {
              "color": "#C8D4E3"
             },
             "line": {
              "color": "white"
             }
            },
            "type": "table"
           }
          ]
         },
         "layout": {
          "annotationdefaults": {
           "arrowcolor": "#2a3f5f",
           "arrowhead": 0,
           "arrowwidth": 1
          },
          "autotypenumbers": "strict",
          "coloraxis": {
           "colorbar": {
            "outlinewidth": 0,
            "ticks": ""
           }
          },
          "colorscale": {
           "diverging": [
            [
             0,
             "#8e0152"
            ],
            [
             0.1,
             "#c51b7d"
            ],
            [
             0.2,
             "#de77ae"
            ],
            [
             0.3,
             "#f1b6da"
            ],
            [
             0.4,
             "#fde0ef"
            ],
            [
             0.5,
             "#f7f7f7"
            ],
            [
             0.6,
             "#e6f5d0"
            ],
            [
             0.7,
             "#b8e186"
            ],
            [
             0.8,
             "#7fbc41"
            ],
            [
             0.9,
             "#4d9221"
            ],
            [
             1,
             "#276419"
            ]
           ],
           "sequential": [
            [
             0,
             "#0d0887"
            ],
            [
             0.1111111111111111,
             "#46039f"
            ],
            [
             0.2222222222222222,
             "#7201a8"
            ],
            [
             0.3333333333333333,
             "#9c179e"
            ],
            [
             0.4444444444444444,
             "#bd3786"
            ],
            [
             0.5555555555555556,
             "#d8576b"
            ],
            [
             0.6666666666666666,
             "#ed7953"
            ],
            [
             0.7777777777777778,
             "#fb9f3a"
            ],
            [
             0.8888888888888888,
             "#fdca26"
            ],
            [
             1,
             "#f0f921"
            ]
           ],
           "sequentialminus": [
            [
             0,
             "#0d0887"
            ],
            [
             0.1111111111111111,
             "#46039f"
            ],
            [
             0.2222222222222222,
             "#7201a8"
            ],
            [
             0.3333333333333333,
             "#9c179e"
            ],
            [
             0.4444444444444444,
             "#bd3786"
            ],
            [
             0.5555555555555556,
             "#d8576b"
            ],
            [
             0.6666666666666666,
             "#ed7953"
            ],
            [
             0.7777777777777778,
             "#fb9f3a"
            ],
            [
             0.8888888888888888,
             "#fdca26"
            ],
            [
             1,
             "#f0f921"
            ]
           ]
          },
          "colorway": [
           "#636efa",
           "#EF553B",
           "#00cc96",
           "#ab63fa",
           "#FFA15A",
           "#19d3f3",
           "#FF6692",
           "#B6E880",
           "#FF97FF",
           "#FECB52"
          ],
          "font": {
           "color": "#2a3f5f"
          },
          "geo": {
           "bgcolor": "white",
           "lakecolor": "white",
           "landcolor": "#E5ECF6",
           "showlakes": true,
           "showland": true,
           "subunitcolor": "white"
          },
          "hoverlabel": {
           "align": "left"
          },
          "hovermode": "closest",
          "mapbox": {
           "style": "light"
          },
          "paper_bgcolor": "white",
          "plot_bgcolor": "#E5ECF6",
          "polar": {
           "angularaxis": {
            "gridcolor": "white",
            "linecolor": "white",
            "ticks": ""
           },
           "bgcolor": "#E5ECF6",
           "radialaxis": {
            "gridcolor": "white",
            "linecolor": "white",
            "ticks": ""
           }
          },
          "scene": {
           "xaxis": {
            "backgroundcolor": "#E5ECF6",
            "gridcolor": "white",
            "gridwidth": 2,
            "linecolor": "white",
            "showbackground": true,
            "ticks": "",
            "zerolinecolor": "white"
           },
           "yaxis": {
            "backgroundcolor": "#E5ECF6",
            "gridcolor": "white",
            "gridwidth": 2,
            "linecolor": "white",
            "showbackground": true,
            "ticks": "",
            "zerolinecolor": "white"
           },
           "zaxis": {
            "backgroundcolor": "#E5ECF6",
            "gridcolor": "white",
            "gridwidth": 2,
            "linecolor": "white",
            "showbackground": true,
            "ticks": "",
            "zerolinecolor": "white"
           }
          },
          "shapedefaults": {
           "line": {
            "color": "#2a3f5f"
           }
          },
          "ternary": {
           "aaxis": {
            "gridcolor": "white",
            "linecolor": "white",
            "ticks": ""
           },
           "baxis": {
            "gridcolor": "white",
            "linecolor": "white",
            "ticks": ""
           },
           "bgcolor": "#E5ECF6",
           "caxis": {
            "gridcolor": "white",
            "linecolor": "white",
            "ticks": ""
           }
          },
          "title": {
           "x": 0.05
          },
          "xaxis": {
           "automargin": true,
           "gridcolor": "white",
           "linecolor": "white",
           "ticks": "",
           "title": {
            "standoff": 15
           },
           "zerolinecolor": "white",
           "zerolinewidth": 2
          },
          "yaxis": {
           "automargin": true,
           "gridcolor": "white",
           "linecolor": "white",
           "ticks": "",
           "title": {
            "standoff": 15
           },
           "zerolinecolor": "white",
           "zerolinewidth": 2
          }
         }
        },
        "title": {
         "text": "Seasonal decomposition"
        },
        "xaxis": {
         "title": {
          "text": "Time"
         }
        },
        "yaxis": {
         "title": {
          "text": "Price, USD"
         }
        }
       }
      },
      "text/html": [
       "<div>                            <div id=\"8723f3c7-22de-4075-8e21-6541e80bec45\" class=\"plotly-graph-div\" style=\"height:525px; width:100%;\"></div>            <script type=\"text/javascript\">                require([\"plotly\"], function(Plotly) {                    window.PLOTLYENV=window.PLOTLYENV || {};                                    if (document.getElementById(\"8723f3c7-22de-4075-8e21-6541e80bec45\")) {                    Plotly.newPlot(                        \"8723f3c7-22de-4075-8e21-6541e80bec45\",                        [{\"line\":{\"color\":\"rgb(244, 146, 65)\",\"width\":4},\"mode\":\"lines\",\"name\":\"Trend\",\"x\":[0,1,2,3,4,5,6,7,8,9,10,11,12,13,14,15,16,17,18,19,20,21,22,23,24,25,26,27,28,29,30,31,32,33,34,35,36,37,38,39,40,41,42,43,44,45,46,47,48,49,50,51,52,53,54,55,56,57,58,59,60,61,62,63,64,65,66,67,68,69,70,71,72,73,74,75,76,77,78,79,80,81,82,83,84,85,86,87,88,89,90,91,92,93,94,95,96,97,98,99,100,101,102,103,104,105,106,107,108,109,110,111,112,113,114,115,116,117,118,119,120,121,122,123,124,125,126,127,128,129,130,131,132,133,134,135,136,137,138,139,140,141,142,143,144,145,146,147,148,149,150,151,152,153,154,155,156,157,158,159,160,161,162,163,164,165,166,167,168,169,170,171,172,173,174,175,176,177,178,179,180,181,182,183,184,185,186,187,188,189,190,191,192,193,194,195,196,197,198,199,200,201,202,203,204,205,206,207,208,209,210,211,212,213,214,215,216,217,218,219,220,221,222,223,224,225,226,227,228,229,230,231,232,233,234,235,236,237,238,239,240,241,242,243,244,245,246,247,248,249,250,251,252,253,254,255,256,257,258,259,260,261,262,263,264,265,266,267,268,269,270,271,272,273,274,275,276,277,278,279,280,281,282,283,284,285,286,287,288,289,290,291,292,293,294,295,296,297,298,299,300,301,302,303,304,305,306,307,308,309,310,311,312,313,314,315,316,317,318,319,320,321,322,323,324,325,326,327,328,329,330,331,332,333,334,335,336,337,338,339,340,341,342,343,344,345,346,347,348,349,350,351,352,353,354,355,356,357,358,359,360,361,362,363,364,365,366,367,368,369,370,371,372,373,374,375,376,377,378,379,380,381,382,383,384,385,386,387,388,389,390,391,392,393,394,395,396,397,398,399,400,401,402,403,404,405,406,407,408,409,410,411,412,413,414,415,416,417,418,419,420,421,422,423,424,425,426,427,428,429,430,431,432,433,434,435,436,437,438,439,440,441,442,443,444,445,446,447,448,449,450,451,452,453,454,455,456,457,458,459,460,461,462,463,464,465,466,467,468,469,470,471,472,473,474,475,476,477,478,479,480,481,482,483,484,485,486,487,488,489,490,491,492,493,494,495,496,497,498,499,500,501,502,503,504,505,506,507,508,509,510,511,512,513,514,515,516,517,518,519,520,521,522,523,524,525,526,527,528,529,530,531,532,533,534,535,536,537,538,539,540,541,542,543,544,545,546,547,548,549,550,551,552,553,554,555,556,557,558,559,560,561,562,563,564,565,566,567,568,569,570,571,572,573,574,575,576,577,578,579,580,581,582,583,584,585,586,587,588,589,590,591,592,593,594,595,596,597,598,599,600,601,602,603,604,605,606,607,608,609,610,611,612,613,614,615,616,617,618,619,620,621,622,623,624,625,626,627,628,629,630,631,632,633,634,635,636,637,638,639,640,641,642,643,644,645,646,647,648,649,650,651,652,653,654,655,656,657,658,659],\"y\":[null,null,null,null,null,null,null,null,null,null,null,null,null,null,null,null,null,null,null,null,null,null,null,null,null,null,null,null,null,null,10559.593730450304,10618.124266317986,10672.85233879889,10722.935145301308,10760.395770001403,10782.28569136038,10798.207922701142,10816.030358790205,10835.099897335785,10855.157362481907,10873.599537950002,10877.099512507251,10866.838867285256,10856.140744621258,10841.611964544252,10810.751958847048,10777.403548152719,10752.696185113264,10725.047282549389,10693.08707734954,10666.61291532306,10651.079557764904,10630.838305815494,10601.448984767958,10581.236721014408,10568.995343530078,10555.67598509671,10540.001836405692,10513.143747521095,10477.504329512503,10448.584875556302,10426.534699929407,10403.795332672089,10387.10975592992,10380.95978781097,10380.005869817696,10386.051529184508,10393.865190502358,10393.387541164771,10387.21134346455,10378.26618389911,10371.06732899098,10368.498303333949,10370.530591001481,10371.670919700016,10367.579712476218,10353.989987236015,10333.05115069366,10310.271608223171,10286.2564965323,10259.87772647598,10228.24205028805,10193.86521754321,10155.1982903697,10112.671376292037,10061.796656274142,10001.974953987974,9940.467867186195,9878.035729069037,9816.616154795345,9759.534675819512,9709.05594363921,9660.607825604962,9612.276034456232,9571.57929069501,9540.055054716186,9509.477537572173,9474.491486709347,9437.062337729561,9396.12519813763,9350.74743313422,9309.360847949047,9276.046814027679,9243.647281423891,9206.288756834043,9164.042978487454,9121.411998423437,9093.746735819797,9081.37960629713,9075.780150815368,9074.164789000213,9069.5680577404,9062.448479832592,9052.0331707238,9035.057928214843,9013.497425589703,8991.383489899115,8969.521236546148,8949.477696609683,8930.206061171364,8908.992726857268,8886.222317465104,8864.746710408215,8843.131375956375,8818.05523895273,8791.586137440529,8764.461272410774,8736.345106569068,8707.514732673582,8678.951944940602,8651.52222972495,8620.942864316523,8587.62071656793,8553.692871491816,8514.799856859472,8475.496385037783,8446.466063094058,8424.861656006029,8406.628731176843,8391.587193564374,8379.433708778612,8370.997625034423,8361.254941919713,8347.815007182424,8332.48465401809,8317.792194277978,8303.96928000553,8291.616371638453,8280.891882416647,8269.953925060245,8257.286990360097,8241.095087846947,8222.776463005506,8204.262091659988,8185.015118570699,8166.117873470337,8147.940995746505,8130.652527999209,8114.196050680997,8096.0907550115535,8076.408239717808,8059.230753743597,8043.033573657658,8025.343345108164,8012.3467877201365,8008.560023779711,8004.141608560643,7981.708317684525,7945.875510388729,7908.5680779136965,7872.155149643727,7839.385949307507,7808.366668859468,7776.4438301408045,7742.767365320818,7707.514463357353,7672.645028211347,7638.801263667407,7606.069309156328,7575.991172589973,7553.054869680029,7539.522596173732,7526.413090760705,7510.556335341372,7497.8420692708705,7487.36581449207,7477.457601836904,7473.142661849778,7475.714688266436,7479.3318632116025,7484.617817569664,7495.036451087989,7507.745135055751,7520.62867804058,7538.142677566181,7560.872376736834,7583.478752674029,7606.070409507249,7627.754278916669,7647.409571177977,7667.2373991069235,7689.162160514983,7715.0527956072965,7745.843215735742,7779.595910033793,7813.6470411923965,7848.259514657288,7882.438780195689,7914.0991289373815,7944.668449085682,7978.537454053313,8016.117670520165,8056.353705737029,8101.20840810222,8148.0432795273555,8193.717638577222,8242.973305049247,8296.109881278357,8349.657582469868,8404.515154162124,8458.589197590903,8506.151879694888,8550.051054543923,8597.101538693973,8641.305787579397,8679.137190785814,8717.051675027911,8758.912393493394,8802.022239310922,8842.122613470232,8875.729998377714,8902.273663962233,8926.032978823125,8950.097626013887,8973.835559663938,8999.13982066673,9026.209627554905,9051.313598290544,9076.555176094398,9102.838995080654,9125.240893453778,9137.392225733758,9140.040368588905,9140.403883693762,9138.709745362992,9124.474306349231,9089.028021931641,9039.251904836816,8984.19077552127,8924.75739552443,8864.521006911404,8804.972846699045,8749.233724178466,8704.521519771139,8664.851256225302,8623.09620921925,8582.569681143836,8548.738274986299,8520.49255976364,8492.010922952271,8460.42848352901,8420.051170356805,8369.717978268945,8317.027711690873,8267.134889156176,8217.513714959758,8169.8754613789115,8126.80758331894,8085.59806766807,8043.6309553692045,8000.26680004258,7958.134614932146,7916.724629715314,7872.671202456209,7824.960116012171,7774.659277967605,7720.685807893433,7662.98120232134,7605.383294911966,7549.36314412798,7496.563884360465,7449.567608650852,7405.057991622452,7358.188301698476,7312.658176586863,7268.038338000753,7222.397464979281,7178.891853083336,7139.059741943961,7104.403724339787,7076.279292207473,7055.364087385685,7038.298940915894,7026.564622531301,7025.702844049034,7028.820496239178,7029.818304545969,7032.330348728302,7032.093366904874,7028.639312606701,7028.1655675289585,7036.772214086864,7061.477947481209,7093.322489775865,7115.126617903876,7139.105153427516,7185.10495083472,7244.402949887475,7310.336906151991,7383.793695081016,7455.69742356796,7525.960774862144,7595.114193838435,7655.662206728326,7712.417776565195,7767.8247287474,7819.206950208327,7865.634232035603,7907.380009276336,7945.750184860073,7981.7072651424305,8023.120900010052,8073.278660887888,8126.583667569632,8178.545746455324,8230.993847091784,8281.818975691647,8331.20676395635,8379.909305211066,8427.261856915075,8473.54171283419,8514.94806599216,8553.570189716029,8593.039738206857,8636.044035459347,8683.188412373216,8729.882880066212,8774.428089148263,8817.776651252438,8860.665699202553,8901.783679781965,8941.379179722197,8980.63270728384,9018.366185471408,9055.994096888957,9095.248014508263,9135.05184140481,9172.72199569975,9208.513323203208,9241.919839475959,9271.252254193716,9297.021743005387,9320.68775095138,9338.902891594433,9347.506076707512,9352.406325822329,9358.106615785548,9362.306965812284,9366.535694722006,9370.553289523501,9371.041879729346,9367.889595939385,9360.12722904789,9351.494466433713,9353.658558720592,9363.107919642547,9371.093384036454,9376.660862356577,9375.86864734465,9370.84985551348,9366.802322476282,9361.14810563394,9352.120191338647,9342.99477047185,9334.460645566225,9329.31410673732,9330.004862998558,9332.87815051077,9337.731133790425,9347.398504249013,9359.882479550106,9372.917839161606,9388.904985507754,9410.948259422148,9436.948293560616,9462.581240895885,9488.39620627587,9516.2367078211,9545.501432790623,9573.308846310167,9598.779811789267,9626.529758823248,9659.578987767623,9693.981412526893,9727.0079420284,9759.1401911512,9793.669983673988,9831.01334070382,9866.496130235528,9901.367430892238,9940.189159109606,9980.973385251295,10020.902268017911,10063.053728101357,10108.786085895917,10153.234154860009,10194.461450957908,10233.74029266812,10268.6049888584,10302.836588196868,10341.908585862577,10382.147723321592,10420.691255243897,10458.93181983603,10497.404184495637,10536.429978617507,10576.209026762357,10617.343566251813,10661.507876084643,10705.385083907287,10742.564167206721,10768.831966170339,10786.949519189127,10802.400050850732,10816.460345540774,10831.278920431749,10847.07443651251,10864.068611545725,10881.69049123278,10899.839164320583,10919.21687451858,10940.494226395796,10965.66338118659,10993.763383244355,11022.685597109317,11051.7308477812,11080.499137043178,11107.615902097528,11129.993187709386,11147.047091571425,11161.383969281105,11173.239516054356,11180.310049044303,11180.033754475826,11174.637160767561,11170.190525152648,11165.01151395953,11153.878365633282,11141.816549733147,11130.940282906475,11119.102562177126,11106.151947526987,11090.230803598666,11073.00487927749,11055.662449098993,11038.982354712847,11023.530527476009,11013.406575915935,11010.061643772755,11008.340363018458,11004.93476662556,10998.462911319657,10990.903311719056,10981.510074525751,10968.908886626821,10958.965492687772,10954.092033024888,10953.16789515064,10961.503550490026,10979.914165342403,11000.8285952027,11023.519790391543,11049.975127123718,11078.08056722023,11108.47003150587,11140.65891376524,11171.150839580958,11200.086393654317,11230.20550645483,11264.014593923588,11303.60978778392,11351.77123701922,11408.883851073824,11476.886903538132,11559.817156831603,11648.314069914006,11733.403857418163,11817.2119628412,11901.100224228416,11986.470861528376,12076.093125825557,12170.372270513933,12262.327110670765,12348.629517280218,12436.80190512494,12533.787656164288,12642.366133094096,12757.352861786143,12878.910901973859,13011.435224243283,13146.822164935764,13280.188248089715,13415.124748976195,13552.884212833742,13677.991848071833,13784.51092041647,13890.277042152895,14005.552060312519,14133.952451090481,14274.736651538591,14417.569796568398,14559.913983458315,14702.362663980279,14841.655036319964,14981.845309594024,15123.41657430974,15260.277107384518,15384.360640211691,15499.976039801408,15611.911688405986,15724.50772294176,15847.252127848707,15976.033916624881,16107.150886347994,16246.498726364338,16412.54741311672,16599.957564381497,16790.062283084495,16978.819556362763,17157.666807154907,17328.421036388347,17500.628333495464,17672.823399308312,17848.754320134736,18039.15188034631,18251.63345748044,18478.568648932418,18702.474425929435,18932.793476962946,19178.749920164715,19435.446669191275,19709.084509789973,20015.01782965008,20320.795457129916,20602.595115009448,20904.69557879613,21258.25324487986,21652.341134654256,22064.78929813298,22474.803199764458,22828.826476603845,23136.315160391452,23446.265125372018,23789.240300863334,24152.644376765296,24493.105535960116,24805.817572862477,25105.561655207275,25411.60847328532,25702.97420082218,25960.959642006994,26193.707314855506,26417.889920621186,26640.040029614625,26882.801196134416,27140.898707420904,27381.286053540796,27611.61599955297,27861.119786352378,28118.84462375785,28362.896419211742,28603.901726319033,28854.02857221164,29130.418777549836,29430.18056832203,29737.075987408407,30064.603573771754,30408.92374332331,30770.087176309207,31200.425549474232,31667.70965754304,32121.76055840701,32585.104306752608,33054.79871353769,33525.165514994194,33973.2349668968,34399.95261455575,34845.89903622649,35311.33168590849,35795.69261695299,36320.67487035907,36876.37066815566,37418.0298010663,37888.37564799019,38300.75577746802,38696.3809491234,39051.662181576175,39386.25467749585,39695.72478670394,39991.034996415285,40308.438966629255,40633.44299902374,40930.133893656835,41195.07063105625,41461.403766420946,41723.1677251763,41956.86879319626,42181.070062057566,42424.01372602525,42686.724689356546,43012.514434954835,43400.1127802906,43814.64795941295,44187.82419196406,44495.07964741974,44804.96497898661,45156.10011311796,45531.58951633549,45899.57479931397,46266.914132145845,46650.23027550332,47039.23366191745,47419.35457381363,47774.92784897003,48106.465899457544,48465.49996499109,48864.49725879132,49279.52766576453,49682.990614358205,50083.041291026675,null,null,null,null,null,null,null,null,null,null,null,null,null,null,null,null,null,null,null,null,null,null,null,null,null,null,null,null,null,null],\"type\":\"scatter\"},{\"line\":{\"color\":\"rgb(66, 244, 155)\",\"width\":2},\"mode\":\"lines\",\"name\":\"Seasonal\",\"x\":[0,1,2,3,4,5,6,7,8,9,10,11,12,13,14,15,16,17,18,19,20,21,22,23,24,25,26,27,28,29,30,31,32,33,34,35,36,37,38,39,40,41,42,43,44,45,46,47,48,49,50,51,52,53,54,55,56,57,58,59,60,61,62,63,64,65,66,67,68,69,70,71,72,73,74,75,76,77,78,79,80,81,82,83,84,85,86,87,88,89,90,91,92,93,94,95,96,97,98,99,100,101,102,103,104,105,106,107,108,109,110,111,112,113,114,115,116,117,118,119,120,121,122,123,124,125,126,127,128,129,130,131,132,133,134,135,136,137,138,139,140,141,142,143,144,145,146,147,148,149,150,151,152,153,154,155,156,157,158,159,160,161,162,163,164,165,166,167,168,169,170,171,172,173,174,175,176,177,178,179,180,181,182,183,184,185,186,187,188,189,190,191,192,193,194,195,196,197,198,199,200,201,202,203,204,205,206,207,208,209,210,211,212,213,214,215,216,217,218,219,220,221,222,223,224,225,226,227,228,229,230,231,232,233,234,235,236,237,238,239,240,241,242,243,244,245,246,247,248,249,250,251,252,253,254,255,256,257,258,259,260,261,262,263,264,265,266,267,268,269,270,271,272,273,274,275,276,277,278,279,280,281,282,283,284,285,286,287,288,289,290,291,292,293,294,295,296,297,298,299,300,301,302,303,304,305,306,307,308,309,310,311,312,313,314,315,316,317,318,319,320,321,322,323,324,325,326,327,328,329,330,331,332,333,334,335,336,337,338,339,340,341,342,343,344,345,346,347,348,349,350,351,352,353,354,355,356,357,358,359,360,361,362,363,364,365,366,367,368,369,370,371,372,373,374,375,376,377,378,379,380,381,382,383,384,385,386,387,388,389,390,391,392,393,394,395,396,397,398,399,400,401,402,403,404,405,406,407,408,409,410,411,412,413,414,415,416,417,418,419,420,421,422,423,424,425,426,427,428,429,430,431,432,433,434,435,436,437,438,439,440,441,442,443,444,445,446,447,448,449,450,451,452,453,454,455,456,457,458,459,460,461,462,463,464,465,466,467,468,469,470,471,472,473,474,475,476,477,478,479,480,481,482,483,484,485,486,487,488,489,490,491,492,493,494,495,496,497,498,499,500,501,502,503,504,505,506,507,508,509,510,511,512,513,514,515,516,517,518,519,520,521,522,523,524,525,526,527,528,529,530,531,532,533,534,535,536,537,538,539,540,541,542,543,544,545,546,547,548,549,550,551,552,553,554,555,556,557,558,559,560,561,562,563,564,565,566,567,568,569,570,571,572,573,574,575,576,577,578,579,580,581,582,583,584,585,586,587,588,589,590,591,592,593,594,595,596,597,598,599,600,601,602,603,604,605,606,607,608,609,610,611,612,613,614,615,616,617,618,619,620,621,622,623,624,625,626,627,628,629,630,631,632,633,634,635,636,637,638,639,640,641,642,643,644,645,646,647,648,649,650,651,652,653,654,655,656,657,658,659],\"y\":[-536.4620532812069,-494.1057471759379,-464.67680221962365,-361.55289850924805,-444.8495966130684,-526.8283874811572,-310.595056806871,-620.8362688185852,-453.7003763095501,-21.20357253141424,-129.00381521470678,-78.43916278951771,-3.052009939821218,-41.06145184225866,-25.187581262791397,33.28501407500502,157.9141067849119,533.644494311162,637.3564082295321,604.6067184804568,781.9705147564815,786.8596963432931,421.2634068871153,-83.36018318386392,222.13973812549227,357.7295093240231,-21.297103118607495,-25.895504790423146,-152.8547496534025,126.47317555493731,419.63919018266955,466.2943442232618,633.485510691357,444.81307600068726,386.7564704228773,445.27601313221027,485.24490043298823,758.8487067351481,850.5100810651645,732.8543590445046,156.67367198637442,195.13337647781293,118.48003965445291,418.73223819747324,241.6632735956515,74.94567250460645,-155.27198177798812,-192.45408977337985,-146.08188703971052,-361.48845818785844,-594.3493171743366,-721.1554718276691,-505.2283705453951,-481.6448096117385,-569.1812478729604,-730.3471854028801,-796.9215910438068,-659.1234971028257,-350.8744308220807,-433.5090474949656,-536.4620532812069,-494.1057471759379,-464.67680221962365,-361.55289850924805,-444.8495966130684,-526.8283874811572,-310.595056806871,-620.8362688185852,-453.7003763095501,-21.20357253141424,-129.00381521470678,-78.43916278951771,-3.052009939821218,-41.06145184225866,-25.187581262791397,33.28501407500502,157.9141067849119,533.644494311162,637.3564082295321,604.6067184804568,781.9705147564815,786.8596963432931,421.2634068871153,-83.36018318386392,222.13973812549227,357.7295093240231,-21.297103118607495,-25.895504790423146,-152.8547496534025,126.47317555493731,419.63919018266955,466.2943442232618,633.485510691357,444.81307600068726,386.7564704228773,445.27601313221027,485.24490043298823,758.8487067351481,850.5100810651645,732.8543590445046,156.67367198637442,195.13337647781293,118.48003965445291,418.73223819747324,241.6632735956515,74.94567250460645,-155.27198177798812,-192.45408977337985,-146.08188703971052,-361.48845818785844,-594.3493171743366,-721.1554718276691,-505.2283705453951,-481.6448096117385,-569.1812478729604,-730.3471854028801,-796.9215910438068,-659.1234971028257,-350.8744308220807,-433.5090474949656,-536.4620532812069,-494.1057471759379,-464.67680221962365,-361.55289850924805,-444.8495966130684,-526.8283874811572,-310.595056806871,-620.8362688185852,-453.7003763095501,-21.20357253141424,-129.00381521470678,-78.43916278951771,-3.052009939821218,-41.06145184225866,-25.187581262791397,33.28501407500502,157.9141067849119,533.644494311162,637.3564082295321,604.6067184804568,781.9705147564815,786.8596963432931,421.2634068871153,-83.36018318386392,222.13973812549227,357.7295093240231,-21.297103118607495,-25.895504790423146,-152.8547496534025,126.47317555493731,419.63919018266955,466.2943442232618,633.485510691357,444.81307600068726,386.7564704228773,445.27601313221027,485.24490043298823,758.8487067351481,850.5100810651645,732.8543590445046,156.67367198637442,195.13337647781293,118.48003965445291,418.73223819747324,241.6632735956515,74.94567250460645,-155.27198177798812,-192.45408977337985,-146.08188703971052,-361.48845818785844,-594.3493171743366,-721.1554718276691,-505.2283705453951,-481.6448096117385,-569.1812478729604,-730.3471854028801,-796.9215910438068,-659.1234971028257,-350.8744308220807,-433.5090474949656,-536.4620532812069,-494.1057471759379,-464.67680221962365,-361.55289850924805,-444.8495966130684,-526.8283874811572,-310.595056806871,-620.8362688185852,-453.7003763095501,-21.20357253141424,-129.00381521470678,-78.43916278951771,-3.052009939821218,-41.06145184225866,-25.187581262791397,33.28501407500502,157.9141067849119,533.644494311162,637.3564082295321,604.6067184804568,781.9705147564815,786.8596963432931,421.2634068871153,-83.36018318386392,222.13973812549227,357.7295093240231,-21.297103118607495,-25.895504790423146,-152.8547496534025,126.47317555493731,419.63919018266955,466.2943442232618,633.485510691357,444.81307600068726,386.7564704228773,445.27601313221027,485.24490043298823,758.8487067351481,850.5100810651645,732.8543590445046,156.67367198637442,195.13337647781293,118.48003965445291,418.73223819747324,241.6632735956515,74.94567250460645,-155.27198177798812,-192.45408977337985,-146.08188703971052,-361.48845818785844,-594.3493171743366,-721.1554718276691,-505.2283705453951,-481.6448096117385,-569.1812478729604,-730.3471854028801,-796.9215910438068,-659.1234971028257,-350.8744308220807,-433.5090474949656,-536.4620532812069,-494.1057471759379,-464.67680221962365,-361.55289850924805,-444.8495966130684,-526.8283874811572,-310.595056806871,-620.8362688185852,-453.7003763095501,-21.20357253141424,-129.00381521470678,-78.43916278951771,-3.052009939821218,-41.06145184225866,-25.187581262791397,33.28501407500502,157.9141067849119,533.644494311162,637.3564082295321,604.6067184804568,781.9705147564815,786.8596963432931,421.2634068871153,-83.36018318386392,222.13973812549227,357.7295093240231,-21.297103118607495,-25.895504790423146,-152.8547496534025,126.47317555493731,419.63919018266955,466.2943442232618,633.485510691357,444.81307600068726,386.7564704228773,445.27601313221027,485.24490043298823,758.8487067351481,850.5100810651645,732.8543590445046,156.67367198637442,195.13337647781293,118.48003965445291,418.73223819747324,241.6632735956515,74.94567250460645,-155.27198177798812,-192.45408977337985,-146.08188703971052,-361.48845818785844,-594.3493171743366,-721.1554718276691,-505.2283705453951,-481.6448096117385,-569.1812478729604,-730.3471854028801,-796.9215910438068,-659.1234971028257,-350.8744308220807,-433.5090474949656,-536.4620532812069,-494.1057471759379,-464.67680221962365,-361.55289850924805,-444.8495966130684,-526.8283874811572,-310.595056806871,-620.8362688185852,-453.7003763095501,-21.20357253141424,-129.00381521470678,-78.43916278951771,-3.052009939821218,-41.06145184225866,-25.187581262791397,33.28501407500502,157.9141067849119,533.644494311162,637.3564082295321,604.6067184804568,781.9705147564815,786.8596963432931,421.2634068871153,-83.36018318386392,222.13973812549227,357.7295093240231,-21.297103118607495,-25.895504790423146,-152.8547496534025,126.47317555493731,419.63919018266955,466.2943442232618,633.485510691357,444.81307600068726,386.7564704228773,445.27601313221027,485.24490043298823,758.8487067351481,850.5100810651645,732.8543590445046,156.67367198637442,195.13337647781293,118.48003965445291,418.73223819747324,241.6632735956515,74.94567250460645,-155.27198177798812,-192.45408977337985,-146.08188703971052,-361.48845818785844,-594.3493171743366,-721.1554718276691,-505.2283705453951,-481.6448096117385,-569.1812478729604,-730.3471854028801,-796.9215910438068,-659.1234971028257,-350.8744308220807,-433.5090474949656,-536.4620532812069,-494.1057471759379,-464.67680221962365,-361.55289850924805,-444.8495966130684,-526.8283874811572,-310.595056806871,-620.8362688185852,-453.7003763095501,-21.20357253141424,-129.00381521470678,-78.43916278951771,-3.052009939821218,-41.06145184225866,-25.187581262791397,33.28501407500502,157.9141067849119,533.644494311162,637.3564082295321,604.6067184804568,781.9705147564815,786.8596963432931,421.2634068871153,-83.36018318386392,222.13973812549227,357.7295093240231,-21.297103118607495,-25.895504790423146,-152.8547496534025,126.47317555493731,419.63919018266955,466.2943442232618,633.485510691357,444.81307600068726,386.7564704228773,445.27601313221027,485.24490043298823,758.8487067351481,850.5100810651645,732.8543590445046,156.67367198637442,195.13337647781293,118.48003965445291,418.73223819747324,241.6632735956515,74.94567250460645,-155.27198177798812,-192.45408977337985,-146.08188703971052,-361.48845818785844,-594.3493171743366,-721.1554718276691,-505.2283705453951,-481.6448096117385,-569.1812478729604,-730.3471854028801,-796.9215910438068,-659.1234971028257,-350.8744308220807,-433.5090474949656,-536.4620532812069,-494.1057471759379,-464.67680221962365,-361.55289850924805,-444.8495966130684,-526.8283874811572,-310.595056806871,-620.8362688185852,-453.7003763095501,-21.20357253141424,-129.00381521470678,-78.43916278951771,-3.052009939821218,-41.06145184225866,-25.187581262791397,33.28501407500502,157.9141067849119,533.644494311162,637.3564082295321,604.6067184804568,781.9705147564815,786.8596963432931,421.2634068871153,-83.36018318386392,222.13973812549227,357.7295093240231,-21.297103118607495,-25.895504790423146,-152.8547496534025,126.47317555493731,419.63919018266955,466.2943442232618,633.485510691357,444.81307600068726,386.7564704228773,445.27601313221027,485.24490043298823,758.8487067351481,850.5100810651645,732.8543590445046,156.67367198637442,195.13337647781293,118.48003965445291,418.73223819747324,241.6632735956515,74.94567250460645,-155.27198177798812,-192.45408977337985,-146.08188703971052,-361.48845818785844,-594.3493171743366,-721.1554718276691,-505.2283705453951,-481.6448096117385,-569.1812478729604,-730.3471854028801,-796.9215910438068,-659.1234971028257,-350.8744308220807,-433.5090474949656,-536.4620532812069,-494.1057471759379,-464.67680221962365,-361.55289850924805,-444.8495966130684,-526.8283874811572,-310.595056806871,-620.8362688185852,-453.7003763095501,-21.20357253141424,-129.00381521470678,-78.43916278951771,-3.052009939821218,-41.06145184225866,-25.187581262791397,33.28501407500502,157.9141067849119,533.644494311162,637.3564082295321,604.6067184804568,781.9705147564815,786.8596963432931,421.2634068871153,-83.36018318386392,222.13973812549227,357.7295093240231,-21.297103118607495,-25.895504790423146,-152.8547496534025,126.47317555493731,419.63919018266955,466.2943442232618,633.485510691357,444.81307600068726,386.7564704228773,445.27601313221027,485.24490043298823,758.8487067351481,850.5100810651645,732.8543590445046,156.67367198637442,195.13337647781293,118.48003965445291,418.73223819747324,241.6632735956515,74.94567250460645,-155.27198177798812,-192.45408977337985,-146.08188703971052,-361.48845818785844,-594.3493171743366,-721.1554718276691,-505.2283705453951,-481.6448096117385,-569.1812478729604,-730.3471854028801,-796.9215910438068,-659.1234971028257,-350.8744308220807,-433.5090474949656,-536.4620532812069,-494.1057471759379,-464.67680221962365,-361.55289850924805,-444.8495966130684,-526.8283874811572,-310.595056806871,-620.8362688185852,-453.7003763095501,-21.20357253141424,-129.00381521470678,-78.43916278951771,-3.052009939821218,-41.06145184225866,-25.187581262791397,33.28501407500502,157.9141067849119,533.644494311162,637.3564082295321,604.6067184804568,781.9705147564815,786.8596963432931,421.2634068871153,-83.36018318386392,222.13973812549227,357.7295093240231,-21.297103118607495,-25.895504790423146,-152.8547496534025,126.47317555493731,419.63919018266955,466.2943442232618,633.485510691357,444.81307600068726,386.7564704228773,445.27601313221027,485.24490043298823,758.8487067351481,850.5100810651645,732.8543590445046,156.67367198637442,195.13337647781293,118.48003965445291,418.73223819747324,241.6632735956515,74.94567250460645,-155.27198177798812,-192.45408977337985,-146.08188703971052,-361.48845818785844,-594.3493171743366,-721.1554718276691,-505.2283705453951,-481.6448096117385,-569.1812478729604,-730.3471854028801,-796.9215910438068,-659.1234971028257,-350.8744308220807,-433.5090474949656,-536.4620532812069,-494.1057471759379,-464.67680221962365,-361.55289850924805,-444.8495966130684,-526.8283874811572,-310.595056806871,-620.8362688185852,-453.7003763095501,-21.20357253141424,-129.00381521470678,-78.43916278951771,-3.052009939821218,-41.06145184225866,-25.187581262791397,33.28501407500502,157.9141067849119,533.644494311162,637.3564082295321,604.6067184804568,781.9705147564815,786.8596963432931,421.2634068871153,-83.36018318386392,222.13973812549227,357.7295093240231,-21.297103118607495,-25.895504790423146,-152.8547496534025,126.47317555493731,419.63919018266955,466.2943442232618,633.485510691357,444.81307600068726,386.7564704228773,445.27601313221027,485.24490043298823,758.8487067351481,850.5100810651645,732.8543590445046,156.67367198637442,195.13337647781293,118.48003965445291,418.73223819747324,241.6632735956515,74.94567250460645,-155.27198177798812,-192.45408977337985,-146.08188703971052,-361.48845818785844,-594.3493171743366,-721.1554718276691,-505.2283705453951,-481.6448096117385,-569.1812478729604,-730.3471854028801,-796.9215910438068,-659.1234971028257,-350.8744308220807,-433.5090474949656],\"type\":\"scatter\"},{\"line\":{\"color\":\"rgb(209, 244, 66)\",\"width\":2},\"mode\":\"lines\",\"name\":\"Residual\",\"x\":[0,1,2,3,4,5,6,7,8,9,10,11,12,13,14,15,16,17,18,19,20,21,22,23,24,25,26,27,28,29,30,31,32,33,34,35,36,37,38,39,40,41,42,43,44,45,46,47,48,49,50,51,52,53,54,55,56,57,58,59,60,61,62,63,64,65,66,67,68,69,70,71,72,73,74,75,76,77,78,79,80,81,82,83,84,85,86,87,88,89,90,91,92,93,94,95,96,97,98,99,100,101,102,103,104,105,106,107,108,109,110,111,112,113,114,115,116,117,118,119,120,121,122,123,124,125,126,127,128,129,130,131,132,133,134,135,136,137,138,139,140,141,142,143,144,145,146,147,148,149,150,151,152,153,154,155,156,157,158,159,160,161,162,163,164,165,166,167,168,169,170,171,172,173,174,175,176,177,178,179,180,181,182,183,184,185,186,187,188,189,190,191,192,193,194,195,196,197,198,199,200,201,202,203,204,205,206,207,208,209,210,211,212,213,214,215,216,217,218,219,220,221,222,223,224,225,226,227,228,229,230,231,232,233,234,235,236,237,238,239,240,241,242,243,244,245,246,247,248,249,250,251,252,253,254,255,256,257,258,259,260,261,262,263,264,265,266,267,268,269,270,271,272,273,274,275,276,277,278,279,280,281,282,283,284,285,286,287,288,289,290,291,292,293,294,295,296,297,298,299,300,301,302,303,304,305,306,307,308,309,310,311,312,313,314,315,316,317,318,319,320,321,322,323,324,325,326,327,328,329,330,331,332,333,334,335,336,337,338,339,340,341,342,343,344,345,346,347,348,349,350,351,352,353,354,355,356,357,358,359,360,361,362,363,364,365,366,367,368,369,370,371,372,373,374,375,376,377,378,379,380,381,382,383,384,385,386,387,388,389,390,391,392,393,394,395,396,397,398,399,400,401,402,403,404,405,406,407,408,409,410,411,412,413,414,415,416,417,418,419,420,421,422,423,424,425,426,427,428,429,430,431,432,433,434,435,436,437,438,439,440,441,442,443,444,445,446,447,448,449,450,451,452,453,454,455,456,457,458,459,460,461,462,463,464,465,466,467,468,469,470,471,472,473,474,475,476,477,478,479,480,481,482,483,484,485,486,487,488,489,490,491,492,493,494,495,496,497,498,499,500,501,502,503,504,505,506,507,508,509,510,511,512,513,514,515,516,517,518,519,520,521,522,523,524,525,526,527,528,529,530,531,532,533,534,535,536,537,538,539,540,541,542,543,544,545,546,547,548,549,550,551,552,553,554,555,556,557,558,559,560,561,562,563,564,565,566,567,568,569,570,571,572,573,574,575,576,577,578,579,580,581,582,583,584,585,586,587,588,589,590,591,592,593,594,595,596,597,598,599,600,601,602,603,604,605,606,607,608,609,610,611,612,613,614,615,616,617,618,619,620,621,622,623,624,625,626,627,628,629,630,631,632,633,634,635,636,637,638,639,640,641,642,643,644,645,646,647,648,649,650,651,652,653,654,655,656,657,658,659],\"y\":[null,null,null,null,null,null,null,null,null,null,null,null,null,null,null,null,null,null,null,null,null,null,null,null,null,null,null,null,null,null,604.0982233232758,500.1136564351081,122.25995421094319,-310.7215874109345,-729.838290317892,-871.8865518047514,-1706.028569515589,-1520.7044281390345,-1213.1611498072223,-907.7351724705062,-452.6587555137918,-622.0753182781547,-914.593891226556,-1572.2814461340527,-1066.322839226093,-1110.973392012135,-893.9270393556352,-1075.3279896961747,-1039.5870319004462,-791.1497024513112,-214.51661927080477,155.18046104190012,349.46080427745386,665.0279695603042,808.8368510282595,1837.1136186886458,1998.826180351545,1830.665136870744,1639.0794250431659,1775.3469109434363,1666.6482066432281,1445.803923500671,1456.1151105890265,1111.9520057149332,502.56043811427645,157.91858933059154,155.25075088304578,523.3026875857203,352.83987969622757,249.60144666083193,502.901973937695,-98.50453874716435,-319.14183171626485,-65.80154061767311,-190.94124918059964,-300.2077872514436,-166.15846705114342,-693.2573211278778,-904.9590027297833,-1371.6676465479077,-1507.0746720173697,-1421.6142979290937,-988.4043473009183,-121.02370058569635,187.4391033831704,144.12135364937927,584.1976309253782,745.2346412095643,700.0180311356576,517.6318279533434,121.87887477844612,45.43930706231271,-230.47693142174523,162.64971320032305,358.2698249485891,356.58228968641737,321.9427347836682,19.232882913608478,-70.83994968329966,65.8696273298716,482.20156599289146,669.792540613399,643.7858888539845,316.4988103443615,429.55301902729695,184.2380709482742,-517.2050010514203,-649.7694140604351,-896.0735784489126,-555.5019560209205,-405.86171960269803,-275.79595483034086,-194.88138322345236,-312.85546373313247,-220.91479815414675,-136.42442353637148,-86.44963862577265,-330.13636530827125,-557.8289960657271,-287.1292615381836,-33.7626809347139,168.6714806054644,-1.1656058972723145,-147.5552134089737,-14.658665276601994,43.55365649796147,-189.676384415192,-50.98593994797568,-220.97647792002846,-694.9067397393958,-562.9182873730756,-522.206080808435,-362.12230877873355,-313.0496697342263,-753.0072884955243,-1058.6807592482326,-723.7958511561069,360.2619693700834,369.298535786293,480.4523371387105,222.07524714247518,35.31647468448023,390.1702320257395,890.558185843405,726.3981213403564,542.0932049457692,974.5636327369189,1078.2554065721918,1207.7678155972476,841.0918672810903,301.72863295374606,103.34896307878711,40.33278412690504,143.84516882636376,162.51604380572167,136.54524273538112,22.46970123577927,-349.8584840075283,-494.6882044618021,-314.91591567463036,145.7949196616686,-138.8553744446209,-63.08059134396039,-596.6589419054976,-912.2050791744401,-840.9955256311467,-702.8566931482236,-827.3377645291309,-658.9136934388727,-294.9301857172152,244.37004806018467,493.8339759937505,350.63063159318193,58.51150453163899,135.95575733805765,341.8833772843543,401.21427177998953,349.30915480315207,149.91513753832754,390.19499812429416,479.033641143561,415.4844354178542,238.81979925634352,61.643480237517224,119.29408065922581,266.3649911490023,-2.4890524036546253,237.41671365811624,10.846079414923395,-667.9446512715297,-585.2577172059987,-268.3541424970815,-353.8538626620408,-331.205766826933,-284.71670522139715,-90.10182777920258,-444.97329019227396,-928.776939809056,-1043.9337317712902,-1060.1552176609712,-1150.494658396135,-1130.3858859320756,-838.4034502906384,-463.43484032082165,-805.9240954627988,-1098.8989167970353,-608.9215446069979,-534.6238045658534,-331.21716967221386,-537.2213059581145,-468.2795307189576,-246.78874037054726,-791.2699873918624,-657.8862691484885,-421.438924078416,-527.2782889001364,-625.3243601581598,-480.34688365072645,-456.4755198877417,-462.953537768199,237.5417076989728,190.5317758928312,178.63572761261224,-371.125777154824,-236.775494297926,-88.3973768948716,-126.17696289438288,-183.13281707269442,-334.4051164960184,-50.504955781739454,442.15478530756354,860.5580443248525,910.228749721367,902.4436959801317,937.6248914395088,1103.6564305627696,1147.7480776356658,938.2102795890019,477.2576601943487,733.8372038356056,1100.6381852835393,1133.4502139663475,1137.6813393431064,1301.8713977931786,1228.5355096752844,1360.0704801675752,1565.8065232689805,1867.8306223970476,1731.5709834153633,1240.3374282310813,1170.0166930904566,994.0537147317912,1100.21427725941,1435.4027604041983,942.5832134086704,1033.4342272193664,919.9140029086743,787.8631889990573,577.2014911977243,393.414825866089,-208.97094922181134,-410.7498192279447,-92.4759261911309,452.54561985425767,67.92400729057738,172.35864789510885,642.7150967925804,660.2312924666179,1087.0493279037469,928.1090298024728,633.9260860225845,145.41922608425733,-668.0886796191704,-369.279482670657,-361.7219410873797,-1553.1064294178705,-2911.7044919857963,-3011.684627089172,-3155.070327799933,-3296.93803188467,-2339.663108483292,-2359.433049133443,-1758.516815865058,-1415.5314626394843,-1385.2405863258741,-1210.7914618154698,-961.2131841897088,-333.190584223136,-330.85013828746753,-71.17496485704146,210.10165889193377,-106.30612717713962,-428.24651483609665,-270.6459874412656,-4.758410205360974,9.95086868008707,491.5738572531352,441.61370534623666,92.15741508441755,201.545464745076,600.5062935779333,775.415229991738,705.7005300523576,573.0847510170499,302.65630454373496,258.80140033202804,79.55141822253148,128.30508483857454,28.050456167694563,-563.7425687868665,-412.0271982065437,-375.61982394445454,-438.1346252954196,-447.6322845353201,-636.7039623423461,-933.9542672308697,-970.9680538104008,-1095.4614079090634,-1023.110655181085,-1005.6218516765656,-1159.884171077973,-1094.009687253066,-763.6640468131686,202.49889582752417,493.5905002673095,195.91942830440308,613.4676667535236,674.5813294354733,545.5510539429629,377.1786488938406,271.101243264639,510.9532919392322,737.4062507864941,689.3565665310787,-335.3150701257257,-421.70209139547484,-440.85934772214927,-487.41384402173856,-91.10660229298333,-69.78299732355151,345.10692489267274,490.3677062997766,622.706419123991,233.25424972410514,373.12827765990767,109.12833925358896,144.86953711949639,225.51599469888544,56.65282780273071,-61.22655729425355,182.5138080896786,454.28729013370116,506.0449075381561,596.9363128952084,728.9672540195949,924.6082185888433,1024.0577985049256,1177.3994275352102,536.2576985603296,763.3950810164542,907.4490984833546,763.2411099893891,722.7628334998324,735.5470082444738,804.0058001406048,952.2424273677174,579.4553149296389,655.5799323066484,504.81340753888725,53.59233223066599,6.634510964770527,210.88623003181897,93.58929985321389,104.32261158077895,17.315078902693173,-61.03544115009922,-139.7149430856985,-384.33783450633393,-336.8699711581281,-515.0800268725405,-910.3597635476559,-979.1675909420712,-704.0084533764252,-271.33073691530285,-542.9647923781107,-669.4853261817448,-275.2574075621565,-324.25876748951544,-298.78345140961613,-608.0145865489349,-956.359784941405,-876.6795264362308,-1024.0354486999827,-792.0837200553608,-786.0892900028068,-1003.9202462310332,-1040.1243480032845,-1340.4238004894369,-1438.467177795076,-1414.0986522346925,-875.3885956771861,-1045.642479068144,-1004.4968772063735,-1319.5500613250892,-1195.641931602911,-1050.4642403111272,-730.0428818720419,-675.2049913652615,-581.378155198494,-384.1195336382691,-128.08925982501478,173.35119944344638,520.3090751575178,1007.8325824687638,1168.1480450323756,1227.4593472250951,1416.8764516948575,1652.3019483566,1023.1133922795993,983.6250338960172,1037.380921234765,1190.838273607271,1433.3084828346625,1275.564455463955,1313.46452186472,1367.6808127703393,1363.4399789962372,1389.4093101545595,1035.6891804186755,672.4614854610061,964.9688829691063,1014.8983222258933,888.1538290434395,1103.6214897835287,1166.9055717316533,712.5006491250443,561.1134832983957,103.06271870388616,-207.50678704074346,-128.56193161509043,-209.3882159736819,-453.2658100577621,-196.4131440134857,249.45114618748062,46.16272141135562,-20.815696810710904,465.3341485084415,557.0374496787293,885.6807366071039,318.8396106130486,-499.67817315548695,-1181.1702016799018,-1455.712415736502,-1316.0182362076569,-1282.5973848666492,-1337.6798350824956,-1320.6055368241396,-1432.8953866970433,-1557.3287778902566,-1367.9347272664604,-767.9458365278366,-682.0381465359634,-335.2932046126685,-505.2108771126182,-317.8945991750858,-108.63563067173422,214.9613000311939,154.7444487039532,-138.37948595900173,-150.6258782101006,22.844823422646186,144.79065257577872,126.67764186932203,119.87604827526428,178.29873984000335,468.417596469674,355.266111309709,200.24984937077852,-123.69287452318764,-302.04785888844077,-217.14780409606556,-252.69165050465364,-238.57246718564528,-416.0866976287432,-493.81961044083454,-387.0383420345257,-439.42470500735914,137.92703474820235,-86.77348564754249,-517.6709691917406,-497.07817804073005,-686.431548897616,-844.2100255077863,-942.7329823819767,-1067.8649460258512,-1142.109222201965,-1213.0156093545024,-1445.3086892926676,-1057.5114122707978,-682.5893710363715,-995.4555216431578,-1036.6420094170874,-780.1599687603498,-401.81437577417114,-532.0411880123487,-697.6209988307696,-538.4153750426253,-543.8857608394234,-242.91211285012326,-631.4093136679339,-1240.2695886583838,-1413.4341482633436,-1435.8286789134477,-556.3176947380118,214.49945134282075,-225.76418149550778,-542.9274894176469,-761.3014275433662,-1023.1998309027083,-751.0729196747965,46.7197898385333,248.43141685763555,-65.10177062153029,-529.8849346974107,-115.76465178347792,596.3527864919462,1439.9426626589893,1245.4106098312452,1503.7087816331968,1915.1358788433688,1698.1708664686275,1668.6936037141475,1695.1979818204159,1688.9693461304744,-79.23393119904574,-533.4174436907517,-369.3565932254171,-51.93110856582871,331.55897398561086,519.4810496267792,54.72848331701516,67.58433469429673,-428.45404109573354,-961.1629751248345,-1012.5970518269535,-1178.8686018226103,-2005.5613725896528,-2765.890917683587,-3307.925828167178,-4516.26220626362,-4228.02848569025,-3944.828893070315,-4281.878932772949,-4395.576506627323,-4049.7338750427843,-1909.5582343351232,-2079.117765012666,-2278.300522464271,-2454.55315043964,-3048.114085700553,-3645.099752616253,-3449.778669427272,-3619.899649618717,-2540.28518417104,-1837.828319069928,-455.24174674492536,-395.968451283296,-914.7123955847679,432.9693714142209,636.2070787990187,506.28930719934084,1687.2334622181252,3979.848442726168,2280.8908317411433,2456.1508704495373,4722.645381973271,7517.596997675117,8639.831288792237,8774.772830588823,7793.997617035435,2452.726678185167,2523.3562178644834,1970.3904053533583,5034.925730968309,3701.599174966403,2794.9737207104745,1406.0835527695317,1392.7277977805472,1693.6608803610852,-281.46685480471865,-2777.253101474317,-4294.157855152296,-4560.986603850067,-5181.660718599589,-4378.489109071446,-5968.812300204546,-7105.3212266108385,-6933.246737929823,-4293.382542029086,-5503.813331693239,-6321.039054584818,-6433.36206120058,-5751.760691328879,-4260.4229222407575,-3475.0060373856577,-3566.2901236902794,-1831.917181816776,-2848.4592379895066,-773.6989048492239,4018.969732737367,2915.223095622369,2950.542051043363,3791.81947064493,3127.087179022746,4130.599452333285,3024.1479529203243,3531.1517835235213,4848.690128104043,5356.37997367525,6212.358258173,8839.087747419362,9214.73258556969,6867.694044406893,1277.2702801221637,1471.6792312982157,1162.0053406383245,-2187.2801071539675,-2123.424100815217,-4711.688312601187,-2567.9775671000325,null,null,null,null,null,null,null,null,null,null,null,null,null,null,null,null,null,null,null,null,null,null,null,null,null,null,null,null,null,null],\"type\":\"scatter\"},{\"line\":{\"color\":\"rgb(66, 134, 244)\",\"width\":2},\"mode\":\"lines\",\"name\":\"Observed\",\"x\":[0,1,2,3,4,5,6,7,8,9,10,11,12,13,14,15,16,17,18,19,20,21,22,23,24,25,26,27,28,29,30,31,32,33,34,35,36,37,38,39,40,41,42,43,44,45,46,47,48,49,50,51,52,53,54,55,56,57,58,59,60,61,62,63,64,65,66,67,68,69,70,71,72,73,74,75,76,77,78,79,80,81,82,83,84,85,86,87,88,89,90,91,92,93,94,95,96,97,98,99,100,101,102,103,104,105,106,107,108,109,110,111,112,113,114,115,116,117,118,119,120,121,122,123,124,125,126,127,128,129,130,131,132,133,134,135,136,137,138,139,140,141,142,143,144,145,146,147,148,149,150,151,152,153,154,155,156,157,158,159,160,161,162,163,164,165,166,167,168,169,170,171,172,173,174,175,176,177,178,179,180,181,182,183,184,185,186,187,188,189,190,191,192,193,194,195,196,197,198,199,200,201,202,203,204,205,206,207,208,209,210,211,212,213,214,215,216,217,218,219,220,221,222,223,224,225,226,227,228,229,230,231,232,233,234,235,236,237,238,239,240,241,242,243,244,245,246,247,248,249,250,251,252,253,254,255,256,257,258,259,260,261,262,263,264,265,266,267,268,269,270,271,272,273,274,275,276,277,278,279,280,281,282,283,284,285,286,287,288,289,290,291,292,293,294,295,296,297,298,299,300,301,302,303,304,305,306,307,308,309,310,311,312,313,314,315,316,317,318,319,320,321,322,323,324,325,326,327,328,329,330,331,332,333,334,335,336,337,338,339,340,341,342,343,344,345,346,347,348,349,350,351,352,353,354,355,356,357,358,359,360,361,362,363,364,365,366,367,368,369,370,371,372,373,374,375,376,377,378,379,380,381,382,383,384,385,386,387,388,389,390,391,392,393,394,395,396,397,398,399,400,401,402,403,404,405,406,407,408,409,410,411,412,413,414,415,416,417,418,419,420,421,422,423,424,425,426,427,428,429,430,431,432,433,434,435,436,437,438,439,440,441,442,443,444,445,446,447,448,449,450,451,452,453,454,455,456,457,458,459,460,461,462,463,464,465,466,467,468,469,470,471,472,473,474,475,476,477,478,479,480,481,482,483,484,485,486,487,488,489,490,491,492,493,494,495,496,497,498,499,500,501,502,503,504,505,506,507,508,509,510,511,512,513,514,515,516,517,518,519,520,521,522,523,524,525,526,527,528,529,530,531,532,533,534,535,536,537,538,539,540,541,542,543,544,545,546,547,548,549,550,551,552,553,554,555,556,557,558,559,560,561,562,563,564,565,566,567,568,569,570,571,572,573,574,575,576,577,578,579,580,581,582,583,584,585,586,587,588,589,590,591,592,593,594,595,596,597,598,599,600,601,602,603,604,605,606,607,608,609,610,611,612,613,614,615,616,617,618,619,620,621,622,623,624,625,626,627,628,629,630,631,632,633,634,635,636,637,638,639,640,641,642,643,644,645,646,647,648,649,650,651,652,653,654,655,656,657,658,659],\"y\":[7896.83001328662,8036.509587763997,8169.588231822863,8353.217492064301,8727.687036371808,9095.289101530438,9235.84643250591,9152.500069336693,9148.013959014454,9353.226485596455,9801.486018448264,10724.805004758333,10746.900511013213,10846.846268886111,11315.817028152778,12643.582684068057,11804.629165520835,11679.438350060458,11854.537295204309,11542.551910965278,10688.3166698925,10303.94725500368,11345.214704756945,11759.042504677083,11139.493770149722,11415.369265018246,11311.476748027972,11794.103580294362,12513.873100013898,12648.777229872221,11583.33114395625,11584.532266976355,11428.59780370119,10857.02663389106,10417.313950106389,10355.675152687838,9577.424253618541,10054.174637386319,10472.448828593728,10680.276549055905,10577.614454422584,10450.15757070691,10070.725015713153,9702.591536684678,10016.95239891381,9774.724239339519,9728.204527019096,9484.91410564371,9539.378363609232,9540.448916710371,9857.746978877918,10085.104546979135,10475.070739547553,10784.832144716524,10820.892324169707,11675.761776815843,11757.580574404448,11711.54347617361,11801.34874174218,11819.342192960974,11578.771028918323,11378.23287625414,11395.233641041492,11137.508863135605,10438.670629312179,10011.09607166713,10230.707223260682,10296.331609269493,10292.527044551449,10615.609217593968,10752.164342622098,10194.123627454297,10046.304461677862,10263.66759854155,10155.542089256625,10100.656939299779,10345.745626969783,10173.438323876944,10042.66901372292,9519.19556846485,9534.77356921509,9593.48744870225,9626.724277129408,9950.81440660014,10522.2502178007,10563.647519247545,10564.875481794745,10659.807003605336,10425.199010551292,10460.721158303626,10301.052740780628,10220.789594924785,10063.616404874574,10219.738823657242,10316.605586066476,10341.913357534813,10316.66517278883,10252.573076358103,10216.732469111426,10194.849184512006,9989.622671113486,10174.286765040259,10038.312742536116,9978.878329965726,9877.505049456991,9423.226721940335,8448.935015594028,8251.523231985982,8039.224140808507,8158.789736606589,8073.9537522231785,8072.61663108239,8362.338726063745,8257.53289737893,8244.961882187736,8146.725816650452,8108.012260229536,7980.2613741350515,8040.7742697218755,8209.567752138215,8338.767992641348,8560.788050894631,8398.90430229132,8334.023264038153,8358.546977063059,8308.311406457333,8264.18983118871,8064.522897802507,8032.837878444004,7962.841632669792,7959.600127137167,8020.29762071857,8222.446397849375,8199.58174991533,7736.604987101156,7450.100639864555,7880.584318722863,9318.768119687275,9413.283675192668,9476.646249183541,9383.479470677568,9193.173796062196,9172.688580832568,9155.013009841965,9281.022513483938,9217.61490854777,9257.235809623842,9343.976273420221,9335.804948360492,9237.518967896272,8978.654813496512,8810.738395148996,8896.594757823768,8792.92033648704,8734.287632799298,8747.939129337929,8655.655597415272,8539.642750726829,8470.01792728436,8514.029198381428,8378.876831365851,8115.508755776789,8098.433021968151,7847.416641400139,7341.804982141348,7242.5101706531705,7146.012933634432,6961.916463382015,7140.879929910146,7252.149434008623,7522.175880529575,7612.064453473588,7653.7689299072545,7353.310525060705,7309.541874785915,7319.050655238827,7276.93770894753,7328.986921367733,7405.110015872575,7532.677123219301,7495.626457542383,7460.901284415649,7300.556087797425,7210.646917069641,7172.286553317028,7226.902418159915,7164.373492626379,7089.723106689309,7032.860391371809,6790.183639408659,6770.356285148959,7148.24314580139,7150.839262453889,7148.361459371388,7228.238391081993,7504.055563032636,7296.419569266667,7210.937964009355,7221.176955374911,7191.861071997463,7298.71325546727,7345.635970926201,7297.912752203773,7199.048192231056,7195.811552696487,7072.477633719384,7218.040866931682,7321.9194708394125,7430.027209611765,7533.920318682505,7929.897113517025,8235.62327437288,7898.569229036523,7888.135214954419,8113.360825871817,8111.715362809296,8102.893845324075,8574.611704362778,8743.692143647291,8674.415975438429,8852.80457727625,8891.817032065532,8847.166821810988,8644.707999736622,8646.193566877122,8665.685486395549,8435.60273035554,8383.32548664732,8321.535235775193,8430.129199500634,8723.53546651094,9041.676236459416,9331.033357999097,9370.89651238228,9342.279203230486,9372.44906582662,9377.036114146764,9330.40038077672,9202.938405466666,9403.167151421294,9689.41702545611,9776.736692524168,9813.044905712388,10080.722382977692,9922.395658425208,9957.71639903565,10344.23948839375,10286.246258415278,10262.061382627084,10143.891251224097,9905.533884787154,9720.587398641319,9846.395991498055,10098.862828333078,9582.24688837118,9689.81545051362,9660.397790837422,9870.245958296518,9735.050459190896,9490.032467298817,9033.42804906368,8796.161047472153,8698.50545896493,8686.213148361267,8557.198634572245,8747.60187217889,8791.293455052884,8761.143370995134,9019.792645918415,9098.213160726615,9053.832076247834,8569.848185239665,7882.121460787501,7948.20479578624,7849.994645347669,6666.8288616819445,5294.226216340625,5410.145281967316,5300.823048177198,4985.279471287815,5313.574447863547,5285.267935995222,5765.021215411847,6361.389077256465,6169.0808638566405,6132.19254868989,6105.912299011584,6653.24717908682,6662.127716616783,6671.740301294887,6692.03163392507,6227.902488380876,6104.824055534402,6274.273825478297,6451.763185970713,6308.424179516385,6724.470570755298,6814.820556971713,6773.3763511672105,6796.675729856812,7092.209807825685,7318.081696902664,7302.501675313943,7304.8543422836665,6972.933325834542,6871.078166278387,6954.06131225038,6751.871765907465,6884.686986010135,6798.8475537627355,6914.6664101467095,7071.901788128172,7153.9275586031945,7166.968470350747,7050.526232960057,6867.155475591535,7006.153003182838,7303.817318437702,7521.625762324783,7544.735051663964,7603.793608820939,7715.970909100279,7730.878020961834,8245.722380213292,8894.275984848126,8784.64278472021,8873.989539326563,8979.8925886014,8772.605609500626,8930.913681363852,9164.282146281499,9492.195702154653,9924.46195119388,9727.209380738623,8687.485435756498,8706.762334109952,8774.268432777051,9045.862951861673,9577.180130024619,9523.737060923506,9403.564276661013,9626.880262499786,9721.819166062283,9670.352673392987,9670.785648144516,9279.322026266458,9124.649396746318,9205.783900625256,9119.084263966228,8819.204823993847,8859.416745109058,9030.15356131142,9321.50428794414,9454.194394877903,9507.292082854146,9546.667359008292,9585.242823246666,9880.582896244669,9551.918962460255,9700.43932304499,9742.028924931494,9637.024958752836,9618.213260328099,9725.488576168938,9712.814762248128,9788.521959529107,9639.953642159222,9411.40452584464,9426.981678573988,9403.238615212731,9244.433018226346,9493.595172876241,9442.65748125204,9406.255930210371,9326.588143206127,9301.563679662226,9348.204026697771,9482.184810315599,9638.217570861829,9436.92519585693,9231.493230758932,9180.609944562828,9106.159939018444,9056.257339322981,9116.123239307997,9150.825424038163,9191.841695595105,9166.08243554116,9093.863231727604,9091.76743531617,9062.059217030532,9216.144576610279,9269.029049758998,9346.71076847222,9327.67512244847,9200.495958052377,9238.790536103692,9249.43824694953,9278.539033505616,9220.12313770205,9221.474235418795,9130.464282660963,9134.88543046599,9162.23590497374,9154.807427888658,9177.715587053488,9309.146587307878,9366.08121152948,9541.144946620196,9557.22859637074,9619.470008863225,9834.34345093737,10435.77195985602,10985.119592693056,11096.370981655053,11033.542140439722,11196.163887413408,11610.522017505587,11333.746837542161,11255.501070308339,11243.48303516028,11465.564492601672,11755.581199804166,11716.41160780544,11685.075270792426,11672.13134572093,11899.919358701876,11632.641652881699,11463.679295341904,11551.097077250175,11755.18194227298,11876.953385832172,11850.765200290209,12056.323421185625,12164.40358757818,11797.51651098125,11799.526727126486,11744.323115112576,11559.842808898175,11623.091878436791,11733.966268063905,11506.833402339887,11405.160311917933,11346.124717479443,11442.939620304409,11507.10433766596,11609.048559349363,11685.020310521588,11874.642536686848,11576.25306907446,11039.063579204309,10391.276090070347,10268.003898553521,10201.799719070521,10159.82153465522,10146.578532762562,10188.169891084857,10339.35989595404,10303.242946947663,10373.259994796503,10393.662602084098,10511.558141261507,10774.09014676084,10895.031435610606,10892.677561047387,10925.275534520644,11013.781351278094,10915.458254081213,10677.042177491314,10467.799828944444,10429.32410145101,10447.154971139653,10671.424398447645,10716.311805883755,10717.587523472914,10878.729324832035,10729.49535984686,10741.21274592227,10755.638201109561,10528.457687540182,10549.999930406648,10604.973839338629,10705.634581668555,10699.247307400141,10621.1479497777,10734.447340398323,10983.384095603933,11334.302728770817,11360.626362271323,11447.596319805221,11450.01113257012,11405.5015588268,11415.065075223158,11364.835083055983,11343.749377836297,11424.963448037328,11587.264630524505,11845.688666804637,12458.755897932593,12933.452571687369,12933.337158049088,13030.40593501592,13056.22818710296,13067.709653875707,13368.090398184977,13444.619430909723,13330.564563991662,13435.770794682672,13738.185588586955,13769.800513425595,13596.939398092683,13612.774179418233,13900.019495758188,14730.15041758264,15583.101231359722,15342.928405946443,15202.59451839986,15381.907919403473,15327.286289963864,15593.693127775694,15927.901184766668,16290.816921184156,16029.412185657804,15995.998189848056,16372.397348176512,17083.845872113274,17884.6282452625,17843.01880314236,18336.44645095625,18711.314227810417,18432.242585682638,18448.166465381943,18862.793010583333,19056.078856653472,17390.736701274305,16987.868828386807,17312.290464663194,17991.41982026078,18913.478020126477,19264.72192229653,18953.713099227083,19282.56309730833,19121.886986334724,18998.079583495834,19145.148466569426,19198.998589492363,18942.096815483335,18265.613948152084,18303.16309365625,17937.337420969423,18471.794175698888,19113.04710453162,19161.334182659248,19352.60234239375,20077.72292045972,22616.832315699998,22884.613914634723,23360.905627054166,23594.41173107521,23259.466833602084,23097.830404147222,23530.788341771527,23219.253677889585,24016.39466225972,25267.11261518998,27043.38647,26964.020499138893,26671.00809917778,28141.234408113196,28881.524878111806,29288.824916593752,30757.42953276042,33467.36252562916,31856.122685291666,32273.087909194444,34904.99738251389,38067.44547187986,39807.603738850696,40395.370087963194,39727.27752555417,34277.11000771458,34840.25015274931,34673.97475176042,38508.45668270347,37468.42796355625,36843.15436011188,35650.76418554729,36046.172744233656,36858.91067922986,35152.73730396041,32949.07245171042,31861.057341175692,32351.81482667084,32225.070119778866,33353.08542052361,31997.221463515973,31149.41936392153,31793.884442463197,35051.467813852774,34053.71261722708,33450.93785876323,33705.97519064722,34713.69640010833,36573.09481030625,37541.54813242222,37630.04921400487,39814.356554572616,38711.774555249474,41196.61444486648,46684.4908495625,45798.7337153625,46272.21566854444,47603.41542011806,47273.849919144544,48600.491518490235,47862.39794598194,48845.16600342639,50913.92413875069,51893.31118121875,53083.8791087993,56271.28853767917,57040.82594383044,54708.31202510764,48968.83794590833,49800.28486888125,49985.23481495344,46655.92004851875,47130.20806015889,44818.447552103615,47641.53689948158,48617.289320901386,50429.449015790684,49398.25039857084,47717.64330027986,48371.543537970036,50218.21680438112,50798.354212407234,53980.84726167916,55375.366241257994,56272.596972013904,56826.56003304931,58802.60156770642,60455.844831486414,57507.73450910987,55339.80479183195,56158.01731986032,58472.11732155981,58283.54799432522,58779.76938655648,57312.598536458274,56787.14842211057,54703.38774047083,55123.99385491754,52121.68411029951,53241.037488505215,55193.357259559045,55832.95882390712,56913.993819261836,58346.91226829547,58764.349363],\"type\":\"scatter\"}],                        {\"template\":{\"data\":{\"barpolar\":[{\"marker\":{\"line\":{\"color\":\"#E5ECF6\",\"width\":0.5},\"pattern\":{\"fillmode\":\"overlay\",\"size\":10,\"solidity\":0.2}},\"type\":\"barpolar\"}],\"bar\":[{\"error_x\":{\"color\":\"#2a3f5f\"},\"error_y\":{\"color\":\"#2a3f5f\"},\"marker\":{\"line\":{\"color\":\"#E5ECF6\",\"width\":0.5},\"pattern\":{\"fillmode\":\"overlay\",\"size\":10,\"solidity\":0.2}},\"type\":\"bar\"}],\"carpet\":[{\"aaxis\":{\"endlinecolor\":\"#2a3f5f\",\"gridcolor\":\"white\",\"linecolor\":\"white\",\"minorgridcolor\":\"white\",\"startlinecolor\":\"#2a3f5f\"},\"baxis\":{\"endlinecolor\":\"#2a3f5f\",\"gridcolor\":\"white\",\"linecolor\":\"white\",\"minorgridcolor\":\"white\",\"startlinecolor\":\"#2a3f5f\"},\"type\":\"carpet\"}],\"choropleth\":[{\"colorbar\":{\"outlinewidth\":0,\"ticks\":\"\"},\"type\":\"choropleth\"}],\"contourcarpet\":[{\"colorbar\":{\"outlinewidth\":0,\"ticks\":\"\"},\"type\":\"contourcarpet\"}],\"contour\":[{\"colorbar\":{\"outlinewidth\":0,\"ticks\":\"\"},\"colorscale\":[[0.0,\"#0d0887\"],[0.1111111111111111,\"#46039f\"],[0.2222222222222222,\"#7201a8\"],[0.3333333333333333,\"#9c179e\"],[0.4444444444444444,\"#bd3786\"],[0.5555555555555556,\"#d8576b\"],[0.6666666666666666,\"#ed7953\"],[0.7777777777777778,\"#fb9f3a\"],[0.8888888888888888,\"#fdca26\"],[1.0,\"#f0f921\"]],\"type\":\"contour\"}],\"heatmapgl\":[{\"colorbar\":{\"outlinewidth\":0,\"ticks\":\"\"},\"colorscale\":[[0.0,\"#0d0887\"],[0.1111111111111111,\"#46039f\"],[0.2222222222222222,\"#7201a8\"],[0.3333333333333333,\"#9c179e\"],[0.4444444444444444,\"#bd3786\"],[0.5555555555555556,\"#d8576b\"],[0.6666666666666666,\"#ed7953\"],[0.7777777777777778,\"#fb9f3a\"],[0.8888888888888888,\"#fdca26\"],[1.0,\"#f0f921\"]],\"type\":\"heatmapgl\"}],\"heatmap\":[{\"colorbar\":{\"outlinewidth\":0,\"ticks\":\"\"},\"colorscale\":[[0.0,\"#0d0887\"],[0.1111111111111111,\"#46039f\"],[0.2222222222222222,\"#7201a8\"],[0.3333333333333333,\"#9c179e\"],[0.4444444444444444,\"#bd3786\"],[0.5555555555555556,\"#d8576b\"],[0.6666666666666666,\"#ed7953\"],[0.7777777777777778,\"#fb9f3a\"],[0.8888888888888888,\"#fdca26\"],[1.0,\"#f0f921\"]],\"type\":\"heatmap\"}],\"histogram2dcontour\":[{\"colorbar\":{\"outlinewidth\":0,\"ticks\":\"\"},\"colorscale\":[[0.0,\"#0d0887\"],[0.1111111111111111,\"#46039f\"],[0.2222222222222222,\"#7201a8\"],[0.3333333333333333,\"#9c179e\"],[0.4444444444444444,\"#bd3786\"],[0.5555555555555556,\"#d8576b\"],[0.6666666666666666,\"#ed7953\"],[0.7777777777777778,\"#fb9f3a\"],[0.8888888888888888,\"#fdca26\"],[1.0,\"#f0f921\"]],\"type\":\"histogram2dcontour\"}],\"histogram2d\":[{\"colorbar\":{\"outlinewidth\":0,\"ticks\":\"\"},\"colorscale\":[[0.0,\"#0d0887\"],[0.1111111111111111,\"#46039f\"],[0.2222222222222222,\"#7201a8\"],[0.3333333333333333,\"#9c179e\"],[0.4444444444444444,\"#bd3786\"],[0.5555555555555556,\"#d8576b\"],[0.6666666666666666,\"#ed7953\"],[0.7777777777777778,\"#fb9f3a\"],[0.8888888888888888,\"#fdca26\"],[1.0,\"#f0f921\"]],\"type\":\"histogram2d\"}],\"histogram\":[{\"marker\":{\"pattern\":{\"fillmode\":\"overlay\",\"size\":10,\"solidity\":0.2}},\"type\":\"histogram\"}],\"mesh3d\":[{\"colorbar\":{\"outlinewidth\":0,\"ticks\":\"\"},\"type\":\"mesh3d\"}],\"parcoords\":[{\"line\":{\"colorbar\":{\"outlinewidth\":0,\"ticks\":\"\"}},\"type\":\"parcoords\"}],\"pie\":[{\"automargin\":true,\"type\":\"pie\"}],\"scatter3d\":[{\"line\":{\"colorbar\":{\"outlinewidth\":0,\"ticks\":\"\"}},\"marker\":{\"colorbar\":{\"outlinewidth\":0,\"ticks\":\"\"}},\"type\":\"scatter3d\"}],\"scattercarpet\":[{\"marker\":{\"colorbar\":{\"outlinewidth\":0,\"ticks\":\"\"}},\"type\":\"scattercarpet\"}],\"scattergeo\":[{\"marker\":{\"colorbar\":{\"outlinewidth\":0,\"ticks\":\"\"}},\"type\":\"scattergeo\"}],\"scattergl\":[{\"marker\":{\"colorbar\":{\"outlinewidth\":0,\"ticks\":\"\"}},\"type\":\"scattergl\"}],\"scattermapbox\":[{\"marker\":{\"colorbar\":{\"outlinewidth\":0,\"ticks\":\"\"}},\"type\":\"scattermapbox\"}],\"scatterpolargl\":[{\"marker\":{\"colorbar\":{\"outlinewidth\":0,\"ticks\":\"\"}},\"type\":\"scatterpolargl\"}],\"scatterpolar\":[{\"marker\":{\"colorbar\":{\"outlinewidth\":0,\"ticks\":\"\"}},\"type\":\"scatterpolar\"}],\"scatter\":[{\"fillpattern\":{\"fillmode\":\"overlay\",\"size\":10,\"solidity\":0.2},\"type\":\"scatter\"}],\"scatterternary\":[{\"marker\":{\"colorbar\":{\"outlinewidth\":0,\"ticks\":\"\"}},\"type\":\"scatterternary\"}],\"surface\":[{\"colorbar\":{\"outlinewidth\":0,\"ticks\":\"\"},\"colorscale\":[[0.0,\"#0d0887\"],[0.1111111111111111,\"#46039f\"],[0.2222222222222222,\"#7201a8\"],[0.3333333333333333,\"#9c179e\"],[0.4444444444444444,\"#bd3786\"],[0.5555555555555556,\"#d8576b\"],[0.6666666666666666,\"#ed7953\"],[0.7777777777777778,\"#fb9f3a\"],[0.8888888888888888,\"#fdca26\"],[1.0,\"#f0f921\"]],\"type\":\"surface\"}],\"table\":[{\"cells\":{\"fill\":{\"color\":\"#EBF0F8\"},\"line\":{\"color\":\"white\"}},\"header\":{\"fill\":{\"color\":\"#C8D4E3\"},\"line\":{\"color\":\"white\"}},\"type\":\"table\"}]},\"layout\":{\"annotationdefaults\":{\"arrowcolor\":\"#2a3f5f\",\"arrowhead\":0,\"arrowwidth\":1},\"autotypenumbers\":\"strict\",\"coloraxis\":{\"colorbar\":{\"outlinewidth\":0,\"ticks\":\"\"}},\"colorscale\":{\"diverging\":[[0,\"#8e0152\"],[0.1,\"#c51b7d\"],[0.2,\"#de77ae\"],[0.3,\"#f1b6da\"],[0.4,\"#fde0ef\"],[0.5,\"#f7f7f7\"],[0.6,\"#e6f5d0\"],[0.7,\"#b8e186\"],[0.8,\"#7fbc41\"],[0.9,\"#4d9221\"],[1,\"#276419\"]],\"sequential\":[[0.0,\"#0d0887\"],[0.1111111111111111,\"#46039f\"],[0.2222222222222222,\"#7201a8\"],[0.3333333333333333,\"#9c179e\"],[0.4444444444444444,\"#bd3786\"],[0.5555555555555556,\"#d8576b\"],[0.6666666666666666,\"#ed7953\"],[0.7777777777777778,\"#fb9f3a\"],[0.8888888888888888,\"#fdca26\"],[1.0,\"#f0f921\"]],\"sequentialminus\":[[0.0,\"#0d0887\"],[0.1111111111111111,\"#46039f\"],[0.2222222222222222,\"#7201a8\"],[0.3333333333333333,\"#9c179e\"],[0.4444444444444444,\"#bd3786\"],[0.5555555555555556,\"#d8576b\"],[0.6666666666666666,\"#ed7953\"],[0.7777777777777778,\"#fb9f3a\"],[0.8888888888888888,\"#fdca26\"],[1.0,\"#f0f921\"]]},\"colorway\":[\"#636efa\",\"#EF553B\",\"#00cc96\",\"#ab63fa\",\"#FFA15A\",\"#19d3f3\",\"#FF6692\",\"#B6E880\",\"#FF97FF\",\"#FECB52\"],\"font\":{\"color\":\"#2a3f5f\"},\"geo\":{\"bgcolor\":\"white\",\"lakecolor\":\"white\",\"landcolor\":\"#E5ECF6\",\"showlakes\":true,\"showland\":true,\"subunitcolor\":\"white\"},\"hoverlabel\":{\"align\":\"left\"},\"hovermode\":\"closest\",\"mapbox\":{\"style\":\"light\"},\"paper_bgcolor\":\"white\",\"plot_bgcolor\":\"#E5ECF6\",\"polar\":{\"angularaxis\":{\"gridcolor\":\"white\",\"linecolor\":\"white\",\"ticks\":\"\"},\"bgcolor\":\"#E5ECF6\",\"radialaxis\":{\"gridcolor\":\"white\",\"linecolor\":\"white\",\"ticks\":\"\"}},\"scene\":{\"xaxis\":{\"backgroundcolor\":\"#E5ECF6\",\"gridcolor\":\"white\",\"gridwidth\":2,\"linecolor\":\"white\",\"showbackground\":true,\"ticks\":\"\",\"zerolinecolor\":\"white\"},\"yaxis\":{\"backgroundcolor\":\"#E5ECF6\",\"gridcolor\":\"white\",\"gridwidth\":2,\"linecolor\":\"white\",\"showbackground\":true,\"ticks\":\"\",\"zerolinecolor\":\"white\"},\"zaxis\":{\"backgroundcolor\":\"#E5ECF6\",\"gridcolor\":\"white\",\"gridwidth\":2,\"linecolor\":\"white\",\"showbackground\":true,\"ticks\":\"\",\"zerolinecolor\":\"white\"}},\"shapedefaults\":{\"line\":{\"color\":\"#2a3f5f\"}},\"ternary\":{\"aaxis\":{\"gridcolor\":\"white\",\"linecolor\":\"white\",\"ticks\":\"\"},\"baxis\":{\"gridcolor\":\"white\",\"linecolor\":\"white\",\"ticks\":\"\"},\"bgcolor\":\"#E5ECF6\",\"caxis\":{\"gridcolor\":\"white\",\"linecolor\":\"white\",\"ticks\":\"\"}},\"title\":{\"x\":0.05},\"xaxis\":{\"automargin\":true,\"gridcolor\":\"white\",\"linecolor\":\"white\",\"ticks\":\"\",\"title\":{\"standoff\":15},\"zerolinecolor\":\"white\",\"zerolinewidth\":2},\"yaxis\":{\"automargin\":true,\"gridcolor\":\"white\",\"linecolor\":\"white\",\"ticks\":\"\",\"title\":{\"standoff\":15},\"zerolinecolor\":\"white\",\"zerolinewidth\":2}}},\"title\":{\"text\":\"Seasonal decomposition\"},\"xaxis\":{\"title\":{\"text\":\"Time\"}},\"yaxis\":{\"title\":{\"text\":\"Price, USD\"}}},                        {\"responsive\": true}                    ).then(function(){\n",
       "                            \n",
       "var gd = document.getElementById('8723f3c7-22de-4075-8e21-6541e80bec45');\n",
       "var x = new MutationObserver(function (mutations, observer) {{\n",
       "        var display = window.getComputedStyle(gd).display;\n",
       "        if (!display || display === 'none') {{\n",
       "            console.log([gd, 'removed!']);\n",
       "            Plotly.purge(gd);\n",
       "            observer.disconnect();\n",
       "        }}\n",
       "}});\n",
       "\n",
       "// Listen for the removal of the full notebook cells\n",
       "var notebookContainer = gd.closest('#notebook-container');\n",
       "if (notebookContainer) {{\n",
       "    x.observe(notebookContainer, {childList: true});\n",
       "}}\n",
       "\n",
       "// Listen for the clearing of the current output cell\n",
       "var outputEl = gd.closest('.output');\n",
       "if (outputEl) {{\n",
       "    x.observe(outputEl, {childList: true});\n",
       "}}\n",
       "\n",
       "                        })                };                });            </script>        </div>"
      ]
     },
     "metadata": {},
     "output_type": "display_data"
    }
   ],
   "source": [
    "trace1 = go.Scatter(x = np.arange(0, len(s.trend), 1),y = s.trend,mode = 'lines',name = 'Trend',\n",
    "    line = dict(color = ('rgb(244, 146, 65)'), width = 4))\n",
    "trace2 = go.Scatter(x = np.arange(0, len(s.seasonal), 1),y = s.seasonal,mode = 'lines',name = 'Seasonal',\n",
    "    line = dict(color = ('rgb(66, 244, 155)'), width = 2))\n",
    "\n",
    "trace3 = go.Scatter(x = np.arange(0, len(s.resid), 1),y = s.resid,mode = 'lines',name = 'Residual',\n",
    "    line = dict(color = ('rgb(209, 244, 66)'), width = 2))\n",
    "\n",
    "trace4 = go.Scatter(x = np.arange(0, len(s.observed), 1),y = s.observed,mode = 'lines',name = 'Observed',\n",
    "    line = dict(color = ('rgb(66, 134, 244)'), width = 2))\n",
    "\n",
    "data = [trace1, trace2, trace3, trace4]\n",
    "layout = dict(title = 'Seasonal decomposition', xaxis = dict(title = 'Time'), yaxis = dict(title = 'Price, USD'))\n",
    "fig = dict(data=data, layout=layout)\n",
    "py.iplot(fig, filename='seasonal_decomposition')"
   ]
  },
  {
   "cell_type": "markdown",
   "metadata": {
    "_cell_guid": "6ff4d4d1-b71c-41c5-86da-fc24ba0d99f2",
    "_uuid": "7f24bdcd4ef464b01aaa7cb2cc59a351b579f7c6"
   },
   "source": [
    "The next thing we do is an examination of the **autocorrelation**. It is it is the similarity between observations as a function of the time lag between them. It is important for finding repeating patterns in the data. "
   ]
  },
  {
   "cell_type": "code",
   "execution_count": 12,
   "metadata": {
    "_cell_guid": "edbcd456-92f3-43ad-a8a7-71885235952c",
    "_uuid": "cdc6e24a71f9e2b22e18cebf5b9ce2cbde2b9931"
   },
   "outputs": [
    {
     "data": {
      "image/png": "[encoded data removed]",
      "text/plain": [
       "<Figure size 1080x504 with 2 Axes>"
      ]
     },
     "metadata": {
      "needs_background": "light"
     },
     "output_type": "display_data"
    }
   ],
   "source": [
    "plt.figure(figsize=(15,7))\n",
    "ax = plt.subplot(211)\n",
    "sm.graphics.tsa.plot_acf(working_data.Weighted_Price.values.squeeze(), lags=48, ax=ax)\n",
    "ax = plt.subplot(212)\n",
    "sm.graphics.tsa.plot_pacf(working_data.Weighted_Price.values.squeeze(), lags=48, ax=ax)\n",
    "plt.tight_layout()\n",
    "plt.show()"
   ]
  },
  {
   "cell_type": "markdown",
   "metadata": {
    "_cell_guid": "cdeb0390-cc75-4127-92bd-9a3d9a951839",
    "_uuid": "091b8085cbdc42fc0bbec0f6283465435d75d52a"
   },
   "source": [
    "Now we need to recover our df_train and df_test datasets:"
   ]
  },
  {
   "cell_type": "code",
   "execution_count": 13,
   "metadata": {
    "_cell_guid": "bc2dde80-4e57-4dbc-99ee-7e75ea277e80",
    "_uuid": "e0c18a544ec36d8eb784590742e79850b694816a"
   },
   "outputs": [],
   "source": [
    "df_train = working_data[:-60]\n",
    "df_test = working_data[-60:]"
   ]
  },
  {
   "cell_type": "markdown",
   "metadata": {
    "_cell_guid": "c26c777e-6d50-4fad-83a7-192cb1f83cc6",
    "_uuid": "d0ee3d170b35a09734d6dbac177a426c3e17dc04"
   },
   "source": [
    "# Data preparation\n",
    "\n",
    "We need to prepare our dataset according to the requirements of the model, as well as to split the dataset into train and test parts. \n",
    "In the next cell, we define a function which creates X inputs and Y labels for our model. In the sequential forecasting, we predict the future value based on some previous and current values. So, our Y label is the value from the next (future) point of time while the X inputs are one or several values from the past. The amount of this values we can set by tuning the parameter *look_back* in our function. If we set it to 1, this means that we predict current value *t* based on the previous value *(t-1)*."
   ]
  },
  {
   "cell_type": "code",
   "execution_count": 14,
   "metadata": {
    "_cell_guid": "d0b98c6a-4e04-46be-b02f-553fbb3cd169",
    "_uuid": "4f52886af240af7df73307d66631a8a83b8650f4"
   },
   "outputs": [],
   "source": [
    "def create_lookback(dataset, look_back=1):\n",
    "    X, Y = [], []\n",
    "    for i in range(len(dataset) - look_back):\n",
    "        a = dataset[i:(i + look_back), 0]\n",
    "        X.append(a)\n",
    "        Y.append(dataset[i + look_back, 0])\n",
    "    return np.array(X), np.array(Y)"
   ]
  },
  {
   "cell_type": "markdown",
   "metadata": {
    "_cell_guid": "a05b3820-0fb1-4cb3-b388-5332d42897c5",
    "_uuid": "fbf150e78040190477d351c42991cd338e92431d"
   },
   "source": [
    "Now we perform **final data preparation**:\n",
    "   1. Reshape the train and test set according to the requirements of the model.\n",
    "   2. Scale the dataset by using the MinMaxScaler because LSTM models are scale sensitive.\n",
    "   3. Apply our *create_lookback* function."
   ]
  },
  {
   "cell_type": "code",
   "execution_count": 15,
   "metadata": {
    "_cell_guid": "42e23593-4dfb-42a5-ace0-3e3779d523e2",
    "_uuid": "81931375dc7bdd7e9f96a89240a8294e55a807cc"
   },
   "outputs": [],
   "source": [
    "from sklearn.preprocessing import MinMaxScaler\n",
    "\n",
    "training_set = df_train.values\n",
    "training_set = np.reshape(training_set, (len(training_set), 1))\n",
    "test_set = df_test.values\n",
    "test_set = np.reshape(test_set, (len(test_set), 1))\n",
    "\n",
    "#scale datasets\n",
    "scaler = MinMaxScaler()\n",
    "training_set = scaler.fit_transform(training_set)\n",
    "test_set = scaler.transform(test_set)\n",
    "\n",
    "# create datasets which are suitable for time series forecasting\n",
    "look_back = 1\n",
    "X_train, Y_train = create_lookback(training_set, look_back)\n",
    "X_test, Y_test = create_lookback(test_set, look_back)\n",
    "\n",
    " # reshape datasets so that they will be ok for the requirements of the LSTM model in Keras\n",
    "X_train = np.reshape(X_train, (len(X_train), 1, X_train.shape[1]))\n",
    "X_test = np.reshape(X_test, (len(X_test), 1, X_test.shape[1]))"
   ]
  },
  {
   "cell_type": "markdown",
   "metadata": {
    "_cell_guid": "9683104c-5f6a-4d23-8537-e3fc5e28feea",
    "_uuid": "1c8f73b21cdebc83c6d7b6ea8ed5ad062de512af"
   },
   "source": [
    "We have tried to train several different models and compare their results. You can found them in the table below.\n",
    "These results were obtained using the following hardware: 4-core CPU, 16 GB RAM and by training each model ten times with different random states.\n",
    "As we can see, the best result is obtained by using the 2-stacked LSTM. Nevertheless, this model is much slower then GRU or 1-layer LSTM. The Autoregressive integrated moving average model (ARIMA) shows the worst results both in performance and training time. We can also see, that the 1-layer LSTM model is not capable to recognize patterns in the data so we need more complex models. We are going to demonstrate 2-layers LSTM neural network in more detail. \n",
    "\n",
    "<table>\n",
    "    <thead>\n",
    "        <tr>\n",
    "            <th>Model</th>\n",
    "            <th>RMSE</th>\n",
    "            <th>Training time, sec</th>\n",
    "        </tr>\n",
    "    </thead>\n",
    "    <tbody>\n",
    "        <tr>\n",
    "            <td>ARIMA</td>\n",
    "            <td>164</td>\n",
    "            <td>166</td>\n",
    "        </tr>\n",
    "        <tr>\n",
    "            <td>1-layer LSTM</td>\n",
    "            <td>91.2 +- (2.2)</td>\n",
    "            <td>21</td>\n",
    "        </tr>\n",
    "        <tr>\n",
    "            <td>Bidirectional 1-layer LSTM</td>\n",
    "            <td>51.6 +- (9.5)</td>\n",
    "            <td>42</td>\n",
    "        </tr>\n",
    "        <tr>\n",
    "            <td>Gated Recurrent Unit (GRU)</td>\n",
    "            <td>32.6 +- (1.5)</td>\n",
    "            <td>16</td>\n",
    "        </tr>   \n",
    "        <tr>\n",
    "            <td>2-layers LSTM</td>\n",
    "            <td>19.5 +- (4.2)</td>\n",
    "            <td>57</td>\n",
    "        </tr>        \n",
    "    </tbody>\n",
    "</table>\n"
   ]
  },
  {
   "cell_type": "markdown",
   "metadata": {
    "_cell_guid": "d87a9f1b-c512-4544-a9ad-2597b80f42ab",
    "_uuid": "17d41a384e7b15fb5563bd7f67b20b247143184d",
    "collapsed": true
   },
   "source": [
    "# Training 2-layers LSTM Neural Network\n",
    "\n",
    "Eventually, we can build and train our model. We use Keras framework for deep learning. \n",
    "Our model consists of two stacked LSTM layers with 256 units each and the densely connected output layer with one neuron. We are using [Adam optimizer](https://arxiv.org/abs/1412.6980) and MSE as a loss. Also, we use an early stopping if the result doesn't improve during 20 training iterations (epochs).\n",
    "We performed several experiments and found that the optimal number of epochs and butch_size is 100 and 16 respectively.\n",
    "Also, it is important to set *shuffle=False* because we don't want to shuffle time series data."
   ]
  },
  {
   "cell_type": "code",
   "execution_count": 16,
   "metadata": {
    "_cell_guid": "ff2bf0e9-18aa-45b6-b2c1-1a43c08e2abc",
    "_uuid": "759bf04dc636fb92287417851c65319545097f29"
   },
   "outputs": [
    {
     "name": "stdout",
     "output_type": "stream",
     "text": [
      "Epoch 1/100\n",
      "38/38 [==============================] - 22s 156ms/step - loss: 0.0165 - val_loss: 0.3624\n",
      "Epoch 2/100\n",
      "38/38 [==============================] - 2s 40ms/step - loss: 0.0269 - val_loss: 0.2710\n",
      "Epoch 3/100\n",
      "38/38 [==============================] - 2s 40ms/step - loss: 0.0063 - val_loss: 0.0049\n",
      "Epoch 4/100\n",
      "38/38 [==============================] - 1s 37ms/step - loss: 0.0015 - val_loss: 0.0267\n",
      "Epoch 5/100\n",
      "38/38 [==============================] - 1s 37ms/step - loss: 0.0010 - val_loss: 0.0037\n",
      "Epoch 6/100\n",
      "38/38 [==============================] - 1s 39ms/step - loss: 9.6691e-04 - val_loss: 0.0102\n",
      "Epoch 7/100\n",
      "38/38 [==============================] - 2s 43ms/step - loss: 3.4164e-04 - val_loss: 0.0036\n",
      "Epoch 8/100\n",
      "38/38 [==============================] - 2s 41ms/step - loss: 5.9470e-04 - val_loss: 0.0069\n",
      "Epoch 9/100\n",
      "38/38 [==============================] - 2s 42ms/step - loss: 3.4340e-04 - val_loss: 0.0035\n",
      "Epoch 10/100\n",
      "38/38 [==============================] - 2s 44ms/step - loss: 6.2539e-04 - val_loss: 0.0056\n",
      "Epoch 11/100\n",
      "38/38 [==============================] - 2s 45ms/step - loss: 3.6577e-04 - val_loss: 0.0033\n",
      "Epoch 12/100\n",
      "38/38 [==============================] - 2s 43ms/step - loss: 7.2665e-04 - val_loss: 0.0048\n",
      "Epoch 13/100\n",
      "38/38 [==============================] - 2s 45ms/step - loss: 3.9478e-04 - val_loss: 0.0031\n",
      "Epoch 14/100\n",
      "38/38 [==============================] - 2s 44ms/step - loss: 8.5656e-04 - val_loss: 0.0044\n",
      "Epoch 15/100\n",
      "38/38 [==============================] - 2s 43ms/step - loss: 4.2858e-04 - val_loss: 0.0032\n",
      "Epoch 16/100\n",
      "38/38 [==============================] - 2s 40ms/step - loss: 9.7734e-04 - val_loss: 0.0042\n",
      "Epoch 17/100\n",
      "38/38 [==============================] - 2s 46ms/step - loss: 4.5661e-04 - val_loss: 0.0033\n",
      "Epoch 18/100\n",
      "38/38 [==============================] - 2s 43ms/step - loss: 0.0010 - val_loss: 0.0041\n",
      "Epoch 19/100\n",
      "38/38 [==============================] - 2s 41ms/step - loss: 4.6340e-04 - val_loss: 0.0036\n",
      "Epoch 20/100\n",
      "38/38 [==============================] - 2s 40ms/step - loss: 0.0011 - val_loss: 0.0041\n",
      "Epoch 21/100\n",
      "38/38 [==============================] - 2s 48ms/step - loss: 4.4217e-04 - val_loss: 0.0039\n",
      "Epoch 22/100\n",
      "38/38 [==============================] - 2s 42ms/step - loss: 9.9768e-04 - val_loss: 0.0041\n",
      "Epoch 23/100\n",
      "38/38 [==============================] - 1s 39ms/step - loss: 3.9809e-04 - val_loss: 0.0043\n",
      "Epoch 24/100\n",
      "38/38 [==============================] - 1s 37ms/step - loss: 8.8568e-04 - val_loss: 0.0041\n",
      "Epoch 25/100\n",
      "38/38 [==============================] - 1s 34ms/step - loss: 3.4635e-04 - val_loss: 0.0045\n",
      "Epoch 26/100\n",
      "38/38 [==============================] - 1s 35ms/step - loss: 7.3529e-04 - val_loss: 0.0041\n",
      "Epoch 27/100\n",
      "38/38 [==============================] - 1s 34ms/step - loss: 3.1224e-04 - val_loss: 0.0046\n",
      "Epoch 28/100\n",
      "38/38 [==============================] - 1s 35ms/step - loss: 5.7797e-04 - val_loss: 0.0042\n",
      "Epoch 29/100\n",
      "38/38 [==============================] - 1s 36ms/step - loss: 3.2005e-04 - val_loss: 0.0044\n",
      "Epoch 30/100\n",
      "38/38 [==============================] - 1s 35ms/step - loss: 4.5611e-04 - val_loss: 0.0042\n",
      "Epoch 31/100\n",
      "38/38 [==============================] - 1s 38ms/step - loss: 3.5904e-04 - val_loss: 0.0043\n",
      "Epoch 32/100\n",
      "38/38 [==============================] - 1s 34ms/step - loss: 3.9160e-04 - val_loss: 0.0043\n",
      "Epoch 33/100\n",
      "38/38 [==============================] - 1s 38ms/step - loss: 3.8257e-04 - val_loss: 0.0043\n",
      "Epoch 33: early stopping\n"
     ]
    }
   ],
   "source": [
    "# initialize sequential model, add 2 stacked LSTM layers and densely connected output neuron\n",
    "model = Sequential()\n",
    "model.add(LSTM(256, return_sequences=True, input_shape=(X_train.shape[1], X_train.shape[2])))\n",
    "model.add(LSTM(256))\n",
    "model.add(Dense(1))\n",
    "\n",
    "# compile and fit the model\n",
    "model.compile(loss='mean_squared_error', optimizer='adam')\n",
    "history = model.fit(X_train, Y_train, epochs=100, batch_size=16, shuffle=False, \n",
    "                    validation_data=(X_test, Y_test), \n",
    "                    callbacks = [EarlyStopping(monitor='val_loss', min_delta=5e-5, patience=20, verbose=1)])"
   ]
  },
  {
   "cell_type": "code",
   "execution_count": 17,
   "metadata": {
    "_cell_guid": "37c1a750-4421-4b20-ba26-909ab9a0ee41",
    "_uuid": "ac55eec1ad24e59a7a252690539d2dccd6ae88b9"
   },
   "outputs": [
    {
     "data": {
      "application/vnd.plotly.v1+json": {
       "config": {
        "linkText": "Export to plot.ly",
        "plotlyServerURL": "https://plot.ly",
        "showLink": false
       },
       "data": [
        {
         "line": {
          "color": "rgb(66, 244, 155)",
          "dash": "dash",
          "width": 2
         },
         "mode": "lines",
         "name": "Train loss",
         "type": "scatter",
         "x": [
          0,
          1,
          2,
          3,
          4,
          5,
          6,
          7,
          8,
          9,
          10,
          11,
          12,
          13,
          14,
          15,
          16,
          17,
          18,
          19,
          20,
          21,
          22,
          23,
          24,
          25,
          26,
          27,
          28,
          29,
          30,
          31,
          32
         ],
         "y": [
          0.016495203599333763,
          0.026913857087492943,
          0.006316411774605513,
          0.0014617500128224492,
          0.001021924545057118,
          0.0009669110295362771,
          0.00034163714735768735,
          0.0005947020836174488,
          0.00034340095589868724,
          0.0006253886967897415,
          0.00036577112041413784,
          0.0007266514585353434,
          0.00039477564860135317,
          0.0008565628086216748,
          0.00042857584776356816,
          0.0009773363126441836,
          0.000456612731795758,
          0.0010498524643480778,
          0.00046340053086169064,
          0.0010556497145444155,
          0.00044217059621587396,
          0.0009976844303309917,
          0.0003980875771958381,
          0.000885684450622648,
          0.0003463455941528082,
          0.0007352907559834421,
          0.0003122366324532777,
          0.0005779709899798036,
          0.000320045422995463,
          0.0004561053938232362,
          0.00035903905518352985,
          0.00039160053711384535,
          0.00038257124833762646
         ]
        },
        {
         "line": {
          "color": "rgb(244, 146, 65)",
          "width": 2
         },
         "mode": "lines",
         "name": "Test loss",
         "type": "scatter",
         "x": [
          0,
          1,
          2,
          3,
          4,
          5,
          6,
          7,
          8,
          9,
          10,
          11,
          12,
          13,
          14,
          15,
          16,
          17,
          18,
          19,
          20,
          21,
          22,
          23,
          24,
          25,
          26,
          27,
          28,
          29,
          30,
          31,
          32
         ],
         "y": [
          0.36241641640663147,
          0.2710256278514862,
          0.004937778692692518,
          0.026653503999114037,
          0.0037116322200745344,
          0.01023534033447504,
          0.003599813673645258,
          0.006934614386409521,
          0.0035018939524888992,
          0.005576088093221188,
          0.003270996268838644,
          0.004824814852327108,
          0.003147601615637541,
          0.004411698319017887,
          0.0031564596574753523,
          0.0042081126011908054,
          0.0033018775284290314,
          0.004125730600208044,
          0.003573597176000476,
          0.004099120385944843,
          0.0039233919233083725,
          0.004091278649866581,
          0.004270405042916536,
          0.004090758040547371,
          0.004510180559009314,
          0.0041045849211514,
          0.004557345993816853,
          0.004150297027081251,
          0.0044473218731582165,
          0.00422647362574935,
          0.004328247159719467,
          0.004277576692402363,
          0.004272187128663063
         ]
        }
       ],
       "layout": {
        "template": {
         "data": {
          "bar": [
           {
            "error_x": {
             "color": "#2a3f5f"
            },
            "error_y": {
             "color": "#2a3f5f"
            },
            "marker": {
             "line": {
              "color": "#E5ECF6",
              "width": 0.5
             },
             "pattern": {
              "fillmode": "overlay",
              "size": 10,
              "solidity": 0.2
             }
            },
            "type": "bar"
           }
          ],
          "barpolar": [
           {
            "marker": {
             "line": {
              "color": "#E5ECF6",
              "width": 0.5
             },
             "pattern": {
              "fillmode": "overlay",
              "size": 10,
              "solidity": 0.2
             }
            },
            "type": "barpolar"
           }
          ],
          "carpet": [
           {
            "aaxis": {
             "endlinecolor": "#2a3f5f",
             "gridcolor": "white",
             "linecolor": "white",
             "minorgridcolor": "white",
             "startlinecolor": "#2a3f5f"
            },
            "baxis": {
             "endlinecolor": "#2a3f5f",
             "gridcolor": "white",
             "linecolor": "white",
             "minorgridcolor": "white",
             "startlinecolor": "#2a3f5f"
            },
            "type": "carpet"
           }
          ],
          "choropleth": [
           {
            "colorbar": {
             "outlinewidth": 0,
             "ticks": ""
            },
            "type": "choropleth"
           }
          ],
          "contour": [
           {
            "colorbar": {
             "outlinewidth": 0,
             "ticks": ""
            },
            "colorscale": [
             [
              0,
              "#0d0887"
             ],
             [
              0.1111111111111111,
              "#46039f"
             ],
             [
              0.2222222222222222,
              "#7201a8"
             ],
             [
              0.3333333333333333,
              "#9c179e"
             ],
             [
              0.4444444444444444,
              "#bd3786"
             ],
             [
              0.5555555555555556,
              "#d8576b"
             ],
             [
              0.6666666666666666,
              "#ed7953"
             ],
             [
              0.7777777777777778,
              "#fb9f3a"
             ],
             [
              0.8888888888888888,
              "#fdca26"
             ],
             [
              1,
              "#f0f921"
             ]
            ],
            "type": "contour"
           }
          ],
          "contourcarpet": [
           {
            "colorbar": {
             "outlinewidth": 0,
             "ticks": ""
            },
            "type": "contourcarpet"
           }
          ],
          "heatmap": [
           {
            "colorbar": {
             "outlinewidth": 0,
             "ticks": ""
            },
            "colorscale": [
             [
              0,
              "#0d0887"
             ],
             [
              0.1111111111111111,
              "#46039f"
             ],
             [
              0.2222222222222222,
              "#7201a8"
             ],
             [
              0.3333333333333333,
              "#9c179e"
             ],
             [
              0.4444444444444444,
              "#bd3786"
             ],
             [
              0.5555555555555556,
              "#d8576b"
             ],
             [
              0.6666666666666666,
              "#ed7953"
             ],
             [
              0.7777777777777778,
              "#fb9f3a"
             ],
             [
              0.8888888888888888,
              "#fdca26"
             ],
             [
              1,
              "#f0f921"
             ]
            ],
            "type": "heatmap"
           }
          ],
          "heatmapgl": [
           {
            "colorbar": {
             "outlinewidth": 0,
             "ticks": ""
            },
            "colorscale": [
             [
              0,
              "#0d0887"
             ],
             [
              0.1111111111111111,
              "#46039f"
             ],
             [
              0.2222222222222222,
              "#7201a8"
             ],
             [
              0.3333333333333333,
              "#9c179e"
             ],
             [
              0.4444444444444444,
              "#bd3786"
             ],
             [
              0.5555555555555556,
              "#d8576b"
             ],
             [
              0.6666666666666666,
              "#ed7953"
             ],
             [
              0.7777777777777778,
              "#fb9f3a"
             ],
             [
              0.8888888888888888,
              "#fdca26"
             ],
             [
              1,
              "#f0f921"
             ]
            ],
            "type": "heatmapgl"
           }
          ],
          "histogram": [
           {
            "marker": {
             "pattern": {
              "fillmode": "overlay",
              "size": 10,
              "solidity": 0.2
             }
            },
            "type": "histogram"
           }
          ],
          "histogram2d": [
           {
            "colorbar": {
             "outlinewidth": 0,
             "ticks": ""
            },
            "colorscale": [
             [
              0,
              "#0d0887"
             ],
             [
              0.1111111111111111,
              "#46039f"
             ],
             [
              0.2222222222222222,
              "#7201a8"
             ],
             [
              0.3333333333333333,
              "#9c179e"
             ],
             [
              0.4444444444444444,
              "#bd3786"
             ],
             [
              0.5555555555555556,
              "#d8576b"
             ],
             [
              0.6666666666666666,
              "#ed7953"
             ],
             [
              0.7777777777777778,
              "#fb9f3a"
             ],
             [
              0.8888888888888888,
              "#fdca26"
             ],
             [
              1,
              "#f0f921"
             ]
            ],
            "type": "histogram2d"
           }
          ],
          "histogram2dcontour": [
           {
            "colorbar": {
             "outlinewidth": 0,
             "ticks": ""
            },
            "colorscale": [
             [
              0,
              "#0d0887"
             ],
             [
              0.1111111111111111,
              "#46039f"
             ],
             [
              0.2222222222222222,
              "#7201a8"
             ],
             [
              0.3333333333333333,
              "#9c179e"
             ],
             [
              0.4444444444444444,
              "#bd3786"
             ],
             [
              0.5555555555555556,
              "#d8576b"
             ],
             [
              0.6666666666666666,
              "#ed7953"
             ],
             [
              0.7777777777777778,
              "#fb9f3a"
             ],
             [
              0.8888888888888888,
              "#fdca26"
             ],
             [
              1,
              "#f0f921"
             ]
            ],
            "type": "histogram2dcontour"
           }
          ],
          "mesh3d": [
           {
            "colorbar": {
             "outlinewidth": 0,
             "ticks": ""
            },
            "type": "mesh3d"
           }
          ],
          "parcoords": [
           {
            "line": {
             "colorbar": {
              "outlinewidth": 0,
              "ticks": ""
             }
            },
            "type": "parcoords"
           }
          ],
          "pie": [
           {
            "automargin": true,
            "type": "pie"
           }
          ],
          "scatter": [
           {
            "fillpattern": {
             "fillmode": "overlay",
             "size": 10,
             "solidity": 0.2
            },
            "type": "scatter"
           }
          ],
          "scatter3d": [
           {
            "line": {
             "colorbar": {
              "outlinewidth": 0,
              "ticks": ""
             }
            },
            "marker": {
             "colorbar": {
              "outlinewidth": 0,
              "ticks": ""
             }
            },
            "type": "scatter3d"
           }
          ],
          "scattercarpet": [
           {
            "marker": {
             "colorbar": {
              "outlinewidth": 0,
              "ticks": ""
             }
            },
            "type": "scattercarpet"
           }
          ],
          "scattergeo": [
           {
            "marker": {
             "colorbar": {
              "outlinewidth": 0,
              "ticks": ""
             }
            },
            "type": "scattergeo"
           }
          ],
          "scattergl": [
           {
            "marker": {
             "colorbar": {
              "outlinewidth": 0,
              "ticks": ""
             }
            },
            "type": "scattergl"
           }
          ],
          "scattermapbox": [
           {
            "marker": {
             "colorbar": {
              "outlinewidth": 0,
              "ticks": ""
             }
            },
            "type": "scattermapbox"
           }
          ],
          "scatterpolar": [
           {
            "marker": {
             "colorbar": {
              "outlinewidth": 0,
              "ticks": ""
             }
            },
            "type": "scatterpolar"
           }
          ],
          "scatterpolargl": [
           {
            "marker": {
             "colorbar": {
              "outlinewidth": 0,
              "ticks": ""
             }
            },
            "type": "scatterpolargl"
           }
          ],
          "scatterternary": [
           {
            "marker": {
             "colorbar": {
              "outlinewidth": 0,
              "ticks": ""
             }
            },
            "type": "scatterternary"
           }
          ],
          "surface": [
           {
            "colorbar": {
             "outlinewidth": 0,
             "ticks": ""
            },
            "colorscale": [
             [
              0,
              "#0d0887"
             ],
             [
              0.1111111111111111,
              "#46039f"
             ],
             [
              0.2222222222222222,
              "#7201a8"
             ],
             [
              0.3333333333333333,
              "#9c179e"
             ],
             [
              0.4444444444444444,
              "#bd3786"
             ],
             [
              0.5555555555555556,
              "#d8576b"
             ],
             [
              0.6666666666666666,
              "#ed7953"
             ],
             [
              0.7777777777777778,
              "#fb9f3a"
             ],
             [
              0.8888888888888888,
              "#fdca26"
             ],
             [
              1,
              "#f0f921"
             ]
            ],
            "type": "surface"
           }
          ],
          "table": [
           {
            "cells": {
             "fill": {
              "color": "#EBF0F8"
             },
             "line": {
              "color": "white"
             }
            },
            "header": {
             "fill": {
              "color": "#C8D4E3"
             },
             "line": {
              "color": "white"
             }
            },
            "type": "table"
           }
          ]
         },
         "layout": {
          "annotationdefaults": {
           "arrowcolor": "#2a3f5f",
           "arrowhead": 0,
           "arrowwidth": 1
          },
          "autotypenumbers": "strict",
          "coloraxis": {
           "colorbar": {
            "outlinewidth": 0,
            "ticks": ""
           }
          },
          "colorscale": {
           "diverging": [
            [
             0,
             "#8e0152"
            ],
            [
             0.1,
             "#c51b7d"
            ],
            [
             0.2,
             "#de77ae"
            ],
            [
             0.3,
             "#f1b6da"
            ],
            [
             0.4,
             "#fde0ef"
            ],
            [
             0.5,
             "#f7f7f7"
            ],
            [
             0.6,
             "#e6f5d0"
            ],
            [
             0.7,
             "#b8e186"
            ],
            [
             0.8,
             "#7fbc41"
            ],
            [
             0.9,
             "#4d9221"
            ],
            [
             1,
             "#276419"
            ]
           ],
           "sequential": [
            [
             0,
             "#0d0887"
            ],
            [
             0.1111111111111111,
             "#46039f"
            ],
            [
             0.2222222222222222,
             "#7201a8"
            ],
            [
             0.3333333333333333,
             "#9c179e"
            ],
            [
             0.4444444444444444,
             "#bd3786"
            ],
            [
             0.5555555555555556,
             "#d8576b"
            ],
            [
             0.6666666666666666,
             "#ed7953"
            ],
            [
             0.7777777777777778,
             "#fb9f3a"
            ],
            [
             0.8888888888888888,
             "#fdca26"
            ],
            [
             1,
             "#f0f921"
            ]
           ],
           "sequentialminus": [
            [
             0,
             "#0d0887"
            ],
            [
             0.1111111111111111,
             "#46039f"
            ],
            [
             0.2222222222222222,
             "#7201a8"
            ],
            [
             0.3333333333333333,
             "#9c179e"
            ],
            [
             0.4444444444444444,
             "#bd3786"
            ],
            [
             0.5555555555555556,
             "#d8576b"
            ],
            [
             0.6666666666666666,
             "#ed7953"
            ],
            [
             0.7777777777777778,
             "#fb9f3a"
            ],
            [
             0.8888888888888888,
             "#fdca26"
            ],
            [
             1,
             "#f0f921"
            ]
           ]
          },
          "colorway": [
           "#636efa",
           "#EF553B",
           "#00cc96",
           "#ab63fa",
           "#FFA15A",
           "#19d3f3",
           "#FF6692",
           "#B6E880",
           "#FF97FF",
           "#FECB52"
          ],
          "font": {
           "color": "#2a3f5f"
          },
          "geo": {
           "bgcolor": "white",
           "lakecolor": "white",
           "landcolor": "#E5ECF6",
           "showlakes": true,
           "showland": true,
           "subunitcolor": "white"
          },
          "hoverlabel": {
           "align": "left"
          },
          "hovermode": "closest",
          "mapbox": {
           "style": "light"
          },
          "paper_bgcolor": "white",
          "plot_bgcolor": "#E5ECF6",
          "polar": {
           "angularaxis": {
            "gridcolor": "white",
            "linecolor": "white",
            "ticks": ""
           },
           "bgcolor": "#E5ECF6",
           "radialaxis": {
            "gridcolor": "white",
            "linecolor": "white",
            "ticks": ""
           }
          },
          "scene": {
           "xaxis": {
            "backgroundcolor": "#E5ECF6",
            "gridcolor": "white",
            "gridwidth": 2,
            "linecolor": "white",
            "showbackground": true,
            "ticks": "",
            "zerolinecolor": "white"
           },
           "yaxis": {
            "backgroundcolor": "#E5ECF6",
            "gridcolor": "white",
            "gridwidth": 2,
            "linecolor": "white",
            "showbackground": true,
            "ticks": "",
            "zerolinecolor": "white"
           },
           "zaxis": {
            "backgroundcolor": "#E5ECF6",
            "gridcolor": "white",
            "gridwidth": 2,
            "linecolor": "white",
            "showbackground": true,
            "ticks": "",
            "zerolinecolor": "white"
           }
          },
          "shapedefaults": {
           "line": {
            "color": "#2a3f5f"
           }
          },
          "ternary": {
           "aaxis": {
            "gridcolor": "white",
            "linecolor": "white",
            "ticks": ""
           },
           "baxis": {
            "gridcolor": "white",
            "linecolor": "white",
            "ticks": ""
           },
           "bgcolor": "#E5ECF6",
           "caxis": {
            "gridcolor": "white",
            "linecolor": "white",
            "ticks": ""
           }
          },
          "title": {
           "x": 0.05
          },
          "xaxis": {
           "automargin": true,
           "gridcolor": "white",
           "linecolor": "white",
           "ticks": "",
           "title": {
            "standoff": 15
           },
           "zerolinecolor": "white",
           "zerolinewidth": 2
          },
          "yaxis": {
           "automargin": true,
           "gridcolor": "white",
           "linecolor": "white",
           "ticks": "",
           "title": {
            "standoff": 15
           },
           "zerolinecolor": "white",
           "zerolinewidth": 2
          }
         }
        },
        "title": {
         "text": "Train and Test Loss during training"
        },
        "xaxis": {
         "title": {
          "text": "Epoch number"
         }
        },
        "yaxis": {
         "title": {
          "text": "Loss"
         }
        }
       }
      },
      "text/html": [
       "<div>                            <div id=\"ce64e337-326f-471d-aa19-1a169b724d41\" class=\"plotly-graph-div\" style=\"height:525px; width:100%;\"></div>            <script type=\"text/javascript\">                require([\"plotly\"], function(Plotly) {                    window.PLOTLYENV=window.PLOTLYENV || {};                                    if (document.getElementById(\"ce64e337-326f-471d-aa19-1a169b724d41\")) {                    Plotly.newPlot(                        \"ce64e337-326f-471d-aa19-1a169b724d41\",                        [{\"line\":{\"color\":\"rgb(66, 244, 155)\",\"dash\":\"dash\",\"width\":2},\"mode\":\"lines\",\"name\":\"Train loss\",\"x\":[0,1,2,3,4,5,6,7,8,9,10,11,12,13,14,15,16,17,18,19,20,21,22,23,24,25,26,27,28,29,30,31,32],\"y\":[0.016495203599333763,0.026913857087492943,0.006316411774605513,0.0014617500128224492,0.001021924545057118,0.0009669110295362771,0.00034163714735768735,0.0005947020836174488,0.00034340095589868724,0.0006253886967897415,0.00036577112041413784,0.0007266514585353434,0.00039477564860135317,0.0008565628086216748,0.00042857584776356816,0.0009773363126441836,0.000456612731795758,0.0010498524643480778,0.00046340053086169064,0.0010556497145444155,0.00044217059621587396,0.0009976844303309917,0.0003980875771958381,0.000885684450622648,0.0003463455941528082,0.0007352907559834421,0.0003122366324532777,0.0005779709899798036,0.000320045422995463,0.0004561053938232362,0.00035903905518352985,0.00039160053711384535,0.00038257124833762646],\"type\":\"scatter\"},{\"line\":{\"color\":\"rgb(244, 146, 65)\",\"width\":2},\"mode\":\"lines\",\"name\":\"Test loss\",\"x\":[0,1,2,3,4,5,6,7,8,9,10,11,12,13,14,15,16,17,18,19,20,21,22,23,24,25,26,27,28,29,30,31,32],\"y\":[0.36241641640663147,0.2710256278514862,0.004937778692692518,0.026653503999114037,0.0037116322200745344,0.01023534033447504,0.003599813673645258,0.006934614386409521,0.0035018939524888992,0.005576088093221188,0.003270996268838644,0.004824814852327108,0.003147601615637541,0.004411698319017887,0.0031564596574753523,0.0042081126011908054,0.0033018775284290314,0.004125730600208044,0.003573597176000476,0.004099120385944843,0.0039233919233083725,0.004091278649866581,0.004270405042916536,0.004090758040547371,0.004510180559009314,0.0041045849211514,0.004557345993816853,0.004150297027081251,0.0044473218731582165,0.00422647362574935,0.004328247159719467,0.004277576692402363,0.004272187128663063],\"type\":\"scatter\"}],                        {\"template\":{\"data\":{\"barpolar\":[{\"marker\":{\"line\":{\"color\":\"#E5ECF6\",\"width\":0.5},\"pattern\":{\"fillmode\":\"overlay\",\"size\":10,\"solidity\":0.2}},\"type\":\"barpolar\"}],\"bar\":[{\"error_x\":{\"color\":\"#2a3f5f\"},\"error_y\":{\"color\":\"#2a3f5f\"},\"marker\":{\"line\":{\"color\":\"#E5ECF6\",\"width\":0.5},\"pattern\":{\"fillmode\":\"overlay\",\"size\":10,\"solidity\":0.2}},\"type\":\"bar\"}],\"carpet\":[{\"aaxis\":{\"endlinecolor\":\"#2a3f5f\",\"gridcolor\":\"white\",\"linecolor\":\"white\",\"minorgridcolor\":\"white\",\"startlinecolor\":\"#2a3f5f\"},\"baxis\":{\"endlinecolor\":\"#2a3f5f\",\"gridcolor\":\"white\",\"linecolor\":\"white\",\"minorgridcolor\":\"white\",\"startlinecolor\":\"#2a3f5f\"},\"type\":\"carpet\"}],\"choropleth\":[{\"colorbar\":{\"outlinewidth\":0,\"ticks\":\"\"},\"type\":\"choropleth\"}],\"contourcarpet\":[{\"colorbar\":{\"outlinewidth\":0,\"ticks\":\"\"},\"type\":\"contourcarpet\"}],\"contour\":[{\"colorbar\":{\"outlinewidth\":0,\"ticks\":\"\"},\"colorscale\":[[0.0,\"#0d0887\"],[0.1111111111111111,\"#46039f\"],[0.2222222222222222,\"#7201a8\"],[0.3333333333333333,\"#9c179e\"],[0.4444444444444444,\"#bd3786\"],[0.5555555555555556,\"#d8576b\"],[0.6666666666666666,\"#ed7953\"],[0.7777777777777778,\"#fb9f3a\"],[0.8888888888888888,\"#fdca26\"],[1.0,\"#f0f921\"]],\"type\":\"contour\"}],\"heatmapgl\":[{\"colorbar\":{\"outlinewidth\":0,\"ticks\":\"\"},\"colorscale\":[[0.0,\"#0d0887\"],[0.1111111111111111,\"#46039f\"],[0.2222222222222222,\"#7201a8\"],[0.3333333333333333,\"#9c179e\"],[0.4444444444444444,\"#bd3786\"],[0.5555555555555556,\"#d8576b\"],[0.6666666666666666,\"#ed7953\"],[0.7777777777777778,\"#fb9f3a\"],[0.8888888888888888,\"#fdca26\"],[1.0,\"#f0f921\"]],\"type\":\"heatmapgl\"}],\"heatmap\":[{\"colorbar\":{\"outlinewidth\":0,\"ticks\":\"\"},\"colorscale\":[[0.0,\"#0d0887\"],[0.1111111111111111,\"#46039f\"],[0.2222222222222222,\"#7201a8\"],[0.3333333333333333,\"#9c179e\"],[0.4444444444444444,\"#bd3786\"],[0.5555555555555556,\"#d8576b\"],[0.6666666666666666,\"#ed7953\"],[0.7777777777777778,\"#fb9f3a\"],[0.8888888888888888,\"#fdca26\"],[1.0,\"#f0f921\"]],\"type\":\"heatmap\"}],\"histogram2dcontour\":[{\"colorbar\":{\"outlinewidth\":0,\"ticks\":\"\"},\"colorscale\":[[0.0,\"#0d0887\"],[0.1111111111111111,\"#46039f\"],[0.2222222222222222,\"#7201a8\"],[0.3333333333333333,\"#9c179e\"],[0.4444444444444444,\"#bd3786\"],[0.5555555555555556,\"#d8576b\"],[0.6666666666666666,\"#ed7953\"],[0.7777777777777778,\"#fb9f3a\"],[0.8888888888888888,\"#fdca26\"],[1.0,\"#f0f921\"]],\"type\":\"histogram2dcontour\"}],\"histogram2d\":[{\"colorbar\":{\"outlinewidth\":0,\"ticks\":\"\"},\"colorscale\":[[0.0,\"#0d0887\"],[0.1111111111111111,\"#46039f\"],[0.2222222222222222,\"#7201a8\"],[0.3333333333333333,\"#9c179e\"],[0.4444444444444444,\"#bd3786\"],[0.5555555555555556,\"#d8576b\"],[0.6666666666666666,\"#ed7953\"],[0.7777777777777778,\"#fb9f3a\"],[0.8888888888888888,\"#fdca26\"],[1.0,\"#f0f921\"]],\"type\":\"histogram2d\"}],\"histogram\":[{\"marker\":{\"pattern\":{\"fillmode\":\"overlay\",\"size\":10,\"solidity\":0.2}},\"type\":\"histogram\"}],\"mesh3d\":[{\"colorbar\":{\"outlinewidth\":0,\"ticks\":\"\"},\"type\":\"mesh3d\"}],\"parcoords\":[{\"line\":{\"colorbar\":{\"outlinewidth\":0,\"ticks\":\"\"}},\"type\":\"parcoords\"}],\"pie\":[{\"automargin\":true,\"type\":\"pie\"}],\"scatter3d\":[{\"line\":{\"colorbar\":{\"outlinewidth\":0,\"ticks\":\"\"}},\"marker\":{\"colorbar\":{\"outlinewidth\":0,\"ticks\":\"\"}},\"type\":\"scatter3d\"}],\"scattercarpet\":[{\"marker\":{\"colorbar\":{\"outlinewidth\":0,\"ticks\":\"\"}},\"type\":\"scattercarpet\"}],\"scattergeo\":[{\"marker\":{\"colorbar\":{\"outlinewidth\":0,\"ticks\":\"\"}},\"type\":\"scattergeo\"}],\"scattergl\":[{\"marker\":{\"colorbar\":{\"outlinewidth\":0,\"ticks\":\"\"}},\"type\":\"scattergl\"}],\"scattermapbox\":[{\"marker\":{\"colorbar\":{\"outlinewidth\":0,\"ticks\":\"\"}},\"type\":\"scattermapbox\"}],\"scatterpolargl\":[{\"marker\":{\"colorbar\":{\"outlinewidth\":0,\"ticks\":\"\"}},\"type\":\"scatterpolargl\"}],\"scatterpolar\":[{\"marker\":{\"colorbar\":{\"outlinewidth\":0,\"ticks\":\"\"}},\"type\":\"scatterpolar\"}],\"scatter\":[{\"fillpattern\":{\"fillmode\":\"overlay\",\"size\":10,\"solidity\":0.2},\"type\":\"scatter\"}],\"scatterternary\":[{\"marker\":{\"colorbar\":{\"outlinewidth\":0,\"ticks\":\"\"}},\"type\":\"scatterternary\"}],\"surface\":[{\"colorbar\":{\"outlinewidth\":0,\"ticks\":\"\"},\"colorscale\":[[0.0,\"#0d0887\"],[0.1111111111111111,\"#46039f\"],[0.2222222222222222,\"#7201a8\"],[0.3333333333333333,\"#9c179e\"],[0.4444444444444444,\"#bd3786\"],[0.5555555555555556,\"#d8576b\"],[0.6666666666666666,\"#ed7953\"],[0.7777777777777778,\"#fb9f3a\"],[0.8888888888888888,\"#fdca26\"],[1.0,\"#f0f921\"]],\"type\":\"surface\"}],\"table\":[{\"cells\":{\"fill\":{\"color\":\"#EBF0F8\"},\"line\":{\"color\":\"white\"}},\"header\":{\"fill\":{\"color\":\"#C8D4E3\"},\"line\":{\"color\":\"white\"}},\"type\":\"table\"}]},\"layout\":{\"annotationdefaults\":{\"arrowcolor\":\"#2a3f5f\",\"arrowhead\":0,\"arrowwidth\":1},\"autotypenumbers\":\"strict\",\"coloraxis\":{\"colorbar\":{\"outlinewidth\":0,\"ticks\":\"\"}},\"colorscale\":{\"diverging\":[[0,\"#8e0152\"],[0.1,\"#c51b7d\"],[0.2,\"#de77ae\"],[0.3,\"#f1b6da\"],[0.4,\"#fde0ef\"],[0.5,\"#f7f7f7\"],[0.6,\"#e6f5d0\"],[0.7,\"#b8e186\"],[0.8,\"#7fbc41\"],[0.9,\"#4d9221\"],[1,\"#276419\"]],\"sequential\":[[0.0,\"#0d0887\"],[0.1111111111111111,\"#46039f\"],[0.2222222222222222,\"#7201a8\"],[0.3333333333333333,\"#9c179e\"],[0.4444444444444444,\"#bd3786\"],[0.5555555555555556,\"#d8576b\"],[0.6666666666666666,\"#ed7953\"],[0.7777777777777778,\"#fb9f3a\"],[0.8888888888888888,\"#fdca26\"],[1.0,\"#f0f921\"]],\"sequentialminus\":[[0.0,\"#0d0887\"],[0.1111111111111111,\"#46039f\"],[0.2222222222222222,\"#7201a8\"],[0.3333333333333333,\"#9c179e\"],[0.4444444444444444,\"#bd3786\"],[0.5555555555555556,\"#d8576b\"],[0.6666666666666666,\"#ed7953\"],[0.7777777777777778,\"#fb9f3a\"],[0.8888888888888888,\"#fdca26\"],[1.0,\"#f0f921\"]]},\"colorway\":[\"#636efa\",\"#EF553B\",\"#00cc96\",\"#ab63fa\",\"#FFA15A\",\"#19d3f3\",\"#FF6692\",\"#B6E880\",\"#FF97FF\",\"#FECB52\"],\"font\":{\"color\":\"#2a3f5f\"},\"geo\":{\"bgcolor\":\"white\",\"lakecolor\":\"white\",\"landcolor\":\"#E5ECF6\",\"showlakes\":true,\"showland\":true,\"subunitcolor\":\"white\"},\"hoverlabel\":{\"align\":\"left\"},\"hovermode\":\"closest\",\"mapbox\":{\"style\":\"light\"},\"paper_bgcolor\":\"white\",\"plot_bgcolor\":\"#E5ECF6\",\"polar\":{\"angularaxis\":{\"gridcolor\":\"white\",\"linecolor\":\"white\",\"ticks\":\"\"},\"bgcolor\":\"#E5ECF6\",\"radialaxis\":{\"gridcolor\":\"white\",\"linecolor\":\"white\",\"ticks\":\"\"}},\"scene\":{\"xaxis\":{\"backgroundcolor\":\"#E5ECF6\",\"gridcolor\":\"white\",\"gridwidth\":2,\"linecolor\":\"white\",\"showbackground\":true,\"ticks\":\"\",\"zerolinecolor\":\"white\"},\"yaxis\":{\"backgroundcolor\":\"#E5ECF6\",\"gridcolor\":\"white\",\"gridwidth\":2,\"linecolor\":\"white\",\"showbackground\":true,\"ticks\":\"\",\"zerolinecolor\":\"white\"},\"zaxis\":{\"backgroundcolor\":\"#E5ECF6\",\"gridcolor\":\"white\",\"gridwidth\":2,\"linecolor\":\"white\",\"showbackground\":true,\"ticks\":\"\",\"zerolinecolor\":\"white\"}},\"shapedefaults\":{\"line\":{\"color\":\"#2a3f5f\"}},\"ternary\":{\"aaxis\":{\"gridcolor\":\"white\",\"linecolor\":\"white\",\"ticks\":\"\"},\"baxis\":{\"gridcolor\":\"white\",\"linecolor\":\"white\",\"ticks\":\"\"},\"bgcolor\":\"#E5ECF6\",\"caxis\":{\"gridcolor\":\"white\",\"linecolor\":\"white\",\"ticks\":\"\"}},\"title\":{\"x\":0.05},\"xaxis\":{\"automargin\":true,\"gridcolor\":\"white\",\"linecolor\":\"white\",\"ticks\":\"\",\"title\":{\"standoff\":15},\"zerolinecolor\":\"white\",\"zerolinewidth\":2},\"yaxis\":{\"automargin\":true,\"gridcolor\":\"white\",\"linecolor\":\"white\",\"ticks\":\"\",\"title\":{\"standoff\":15},\"zerolinecolor\":\"white\",\"zerolinewidth\":2}}},\"title\":{\"text\":\"Train and Test Loss during training\"},\"xaxis\":{\"title\":{\"text\":\"Epoch number\"}},\"yaxis\":{\"title\":{\"text\":\"Loss\"}}},                        {\"responsive\": true}                    ).then(function(){\n",
       "                            \n",
       "var gd = document.getElementById('ce64e337-326f-471d-aa19-1a169b724d41');\n",
       "var x = new MutationObserver(function (mutations, observer) {{\n",
       "        var display = window.getComputedStyle(gd).display;\n",
       "        if (!display || display === 'none') {{\n",
       "            console.log([gd, 'removed!']);\n",
       "            Plotly.purge(gd);\n",
       "            observer.disconnect();\n",
       "        }}\n",
       "}});\n",
       "\n",
       "// Listen for the removal of the full notebook cells\n",
       "var notebookContainer = gd.closest('#notebook-container');\n",
       "if (notebookContainer) {{\n",
       "    x.observe(notebookContainer, {childList: true});\n",
       "}}\n",
       "\n",
       "// Listen for the clearing of the current output cell\n",
       "var outputEl = gd.closest('.output');\n",
       "if (outputEl) {{\n",
       "    x.observe(outputEl, {childList: true});\n",
       "}}\n",
       "\n",
       "                        })                };                });            </script>        </div>"
      ]
     },
     "metadata": {},
     "output_type": "display_data"
    }
   ],
   "source": [
    "trace1 = go.Scatter(\n",
    "    x = np.arange(0, len(history.history['loss']), 1),\n",
    "    y = history.history['loss'],\n",
    "    mode = 'lines',\n",
    "    name = 'Train loss',\n",
    "    line = dict(color=('rgb(66, 244, 155)'), width=2, dash='dash')\n",
    ")\n",
    "trace2 = go.Scatter(\n",
    "    x = np.arange(0, len(history.history['val_loss']), 1),\n",
    "    y = history.history['val_loss'],\n",
    "    mode = 'lines',\n",
    "    name = 'Test loss',\n",
    "    line = dict(color=('rgb(244, 146, 65)'), width=2)\n",
    ")\n",
    "\n",
    "data = [trace1, trace2]\n",
    "layout = dict(title = 'Train and Test Loss during training', \n",
    "              xaxis = dict(title = 'Epoch number'), yaxis = dict(title = 'Loss'))\n",
    "fig = dict(data=data, layout=layout)\n",
    "py.iplot(fig, filename='training_process')"
   ]
  },
  {
   "cell_type": "markdown",
   "metadata": {
    "_cell_guid": "5a9c8869-97da-49d4-8bda-0a2844359a68",
    "_uuid": "28ba5854e7e9ff7449a11e8ac809bd078fc52101"
   },
   "source": [
    "We trained our model. You can see that it has good performance even after several iterations. On the plot above, we compare the Train and Test loss on each iteration of the training process. We can see, that after some iterations train and test loss become very similar, which is a good sign (this means we are not overfitting the train set). \n",
    "Below, we use our model to **predict labels for the test set**. Then we inverse original scale of our data. You can see a comparison of true and predicted labels on the chart below. It looks like our model gives good results (lines are very similar)!"
   ]
  },
  {
   "cell_type": "code",
   "execution_count": 18,
   "metadata": {
    "_cell_guid": "f45ff786-e272-4c0b-8327-db25cde237fb",
    "_uuid": "e7245ec9aab788530d749b3855424cc154e1dc59"
   },
   "outputs": [],
   "source": [
    "# add one additional data point to align shapes of the predictions and true labels\n",
    "X_test = np.append(X_test, scaler.transform(working_data.iloc[[[-1][0]]]))\n",
    "X_test = np.reshape(X_test, (len(X_test), 1, 1))\n",
    "\n",
    "# get predictions and then make some transformations to be able to calculate RMSE properly in USD\n",
    "prediction = model.predict(X_test)\n",
    "prediction_inverse = scaler.inverse_transform(prediction.reshape(-1, 1))\n",
    "Y_test_inverse = scaler.inverse_transform(Y_test.reshape(-1, 1))\n",
    "prediction2_inverse = np.array(prediction_inverse[:,0][1:])\n",
    "Y_test2_inverse = np.array(Y_test_inverse[:,0])"
   ]
  },
  {
   "cell_type": "code",
   "execution_count": 19,
   "metadata": {
    "_cell_guid": "136cbe49-8e76-4149-afbe-1e3d19ed23d1",
    "_uuid": "5b07c4ceb60eac5e125580cd41db26191c4695cf"
   },
   "outputs": [
    {
     "data": {
      "application/vnd.plotly.v1+json": {
       "config": {
        "linkText": "Export to plot.ly",
        "plotlyServerURL": "https://plot.ly",
        "showLink": false
       },
       "data": [
        {
         "hoverlabel": {
          "namelength": -1
         },
         "line": {
          "color": "rgb(244, 146, 65)",
          "width": 2
         },
         "mode": "lines",
         "name": "Predicted price",
         "type": "scatter",
         "x": [
          0,
          1,
          2,
          3,
          4,
          5,
          6,
          7,
          8,
          9,
          10,
          11,
          12,
          13,
          14,
          15,
          16,
          17,
          18,
          19,
          20,
          21,
          22,
          23,
          24,
          25,
          26,
          27,
          28,
          29,
          30,
          31,
          32,
          33,
          34,
          35,
          36,
          37,
          38,
          39,
          40,
          41,
          42,
          43,
          44,
          45,
          46,
          47,
          48,
          49,
          50,
          51,
          52,
          53,
          54,
          55,
          56,
          57,
          58
         ],
         "y": [
          34242.0703125,
          35283.26953125,
          37213.30078125,
          38222.9765625,
          38315.390625,
          40604.015625,
          39446.94921875,
          42059.71875,
          47891.85546875,
          46945.12890625,
          47450.953125,
          48876.09765625,
          48522.8671875,
          49946.3515625,
          49153.859375,
          50209.3515625,
          52438.48046875,
          53497.07421875,
          54786.65625,
          58252.8125,
          59092.4375,
          56550.7421875,
          50342.33984375,
          51237.30859375,
          51436.6015625,
          47861.28515625,
          48368.98828125,
          45899.71484375,
          48916.9765625,
          49964.40625,
          51915.58203125,
          50804.36328125,
          48998.58984375,
          49700.39453125,
          51687.765625,
          52313.6953125,
          55760.10546875,
          57276.61328125,
          58254.23828125,
          58858.55078125,
          61018.4296875,
          62830.2265625,
          59602.3671875,
          57237.90625,
          58129.3046875,
          60656.7578125,
          60450.46484375,
          60993.43359375,
          59389.203125,
          58815.54296875,
          56545.390625,
          57002.98046875,
          53744.22265625,
          54957.08984375,
          57078.46875,
          57775.02734375,
          58953.9765625,
          60519.77734375,
          60976.5546875
         ]
        },
        {
         "line": {
          "color": "rgb(66, 244, 155)",
          "width": 2
         },
         "mode": "lines",
         "name": "True price",
         "type": "scatter",
         "x": [
          0,
          1,
          2,
          3,
          4,
          5,
          6,
          7,
          8,
          9,
          10,
          11,
          12,
          13,
          14,
          15,
          16,
          17,
          18,
          19,
          20,
          21,
          22,
          23,
          24,
          25,
          26,
          27,
          28,
          29,
          30,
          31,
          32,
          33,
          34,
          35,
          36,
          37,
          38,
          39,
          40,
          41,
          42,
          43,
          44,
          45,
          46,
          47,
          48,
          49,
          50,
          51,
          52,
          53,
          54,
          55,
          56,
          57,
          58
         ],
         "y": [
          33705.97519064722,
          34713.69640010833,
          36573.09481030625,
          37541.54813242222,
          37630.04921400487,
          39814.356554572616,
          38711.774555249474,
          41196.61444486648,
          46684.4908495625,
          45798.7337153625,
          46272.21566854444,
          47603.41542011806,
          47273.849919144544,
          48600.491518490235,
          47862.39794598194,
          48845.16600342639,
          50913.92413875069,
          51893.31118121875,
          53083.8791087993,
          56271.28853767917,
          57040.825943830445,
          54708.31202510764,
          48968.83794590833,
          49800.28486888125,
          49985.23481495344,
          46655.92004851875,
          47130.20806015889,
          44818.447552103615,
          47641.53689948158,
          48617.289320901386,
          50429.449015790684,
          49398.25039857084,
          47717.64330027986,
          48371.543537970036,
          50218.21680438112,
          50798.354212407234,
          53980.84726167916,
          55375.366241257994,
          56272.596972013904,
          56826.56003304931,
          58802.60156770642,
          60455.844831486414,
          57507.73450910987,
          55339.80479183195,
          56158.01731986032,
          58472.11732155981,
          58283.54799432522,
          58779.76938655648,
          57312.598536458274,
          56787.14842211057,
          54703.38774047083,
          55123.99385491754,
          52121.68411029951,
          53241.037488505215,
          55193.35725955904,
          55832.95882390712,
          56913.993819261836,
          58346.91226829547,
          58764.349363
         ]
        }
       ],
       "layout": {
        "template": {
         "data": {
          "bar": [
           {
            "error_x": {
             "color": "#2a3f5f"
            },
            "error_y": {
             "color": "#2a3f5f"
            },
            "marker": {
             "line": {
              "color": "#E5ECF6",
              "width": 0.5
             },
             "pattern": {
              "fillmode": "overlay",
              "size": 10,
              "solidity": 0.2
             }
            },
            "type": "bar"
           }
          ],
          "barpolar": [
           {
            "marker": {
             "line": {
              "color": "#E5ECF6",
              "width": 0.5
             },
             "pattern": {
              "fillmode": "overlay",
              "size": 10,
              "solidity": 0.2
             }
            },
            "type": "barpolar"
           }
          ],
          "carpet": [
           {
            "aaxis": {
             "endlinecolor": "#2a3f5f",
             "gridcolor": "white",
             "linecolor": "white",
             "minorgridcolor": "white",
             "startlinecolor": "#2a3f5f"
            },
            "baxis": {
             "endlinecolor": "#2a3f5f",
             "gridcolor": "white",
             "linecolor": "white",
             "minorgridcolor": "white",
             "startlinecolor": "#2a3f5f"
            },
            "type": "carpet"
           }
          ],
          "choropleth": [
           {
            "colorbar": {
             "outlinewidth": 0,
             "ticks": ""
            },
            "type": "choropleth"
           }
          ],
          "contour": [
           {
            "colorbar": {
             "outlinewidth": 0,
             "ticks": ""
            },
            "colorscale": [
             [
              0,
              "#0d0887"
             ],
             [
              0.1111111111111111,
              "#46039f"
             ],
             [
              0.2222222222222222,
              "#7201a8"
             ],
             [
              0.3333333333333333,
              "#9c179e"
             ],
             [
              0.4444444444444444,
              "#bd3786"
             ],
             [
              0.5555555555555556,
              "#d8576b"
             ],
             [
              0.6666666666666666,
              "#ed7953"
             ],
             [
              0.7777777777777778,
              "#fb9f3a"
             ],
             [
              0.8888888888888888,
              "#fdca26"
             ],
             [
              1,
              "#f0f921"
             ]
            ],
            "type": "contour"
           }
          ],
          "contourcarpet": [
           {
            "colorbar": {
             "outlinewidth": 0,
             "ticks": ""
            },
            "type": "contourcarpet"
           }
          ],
          "heatmap": [
           {
            "colorbar": {
             "outlinewidth": 0,
             "ticks": ""
            },
            "colorscale": [
             [
              0,
              "#0d0887"
             ],
             [
              0.1111111111111111,
              "#46039f"
             ],
             [
              0.2222222222222222,
              "#7201a8"
             ],
             [
              0.3333333333333333,
              "#9c179e"
             ],
             [
              0.4444444444444444,
              "#bd3786"
             ],
             [
              0.5555555555555556,
              "#d8576b"
             ],
             [
              0.6666666666666666,
              "#ed7953"
             ],
             [
              0.7777777777777778,
              "#fb9f3a"
             ],
             [
              0.8888888888888888,
              "#fdca26"
             ],
             [
              1,
              "#f0f921"
             ]
            ],
            "type": "heatmap"
           }
          ],
          "heatmapgl": [
           {
            "colorbar": {
             "outlinewidth": 0,
             "ticks": ""
            },
            "colorscale": [
             [
              0,
              "#0d0887"
             ],
             [
              0.1111111111111111,
              "#46039f"
             ],
             [
              0.2222222222222222,
              "#7201a8"
             ],
             [
              0.3333333333333333,
              "#9c179e"
             ],
             [
              0.4444444444444444,
              "#bd3786"
             ],
             [
              0.5555555555555556,
              "#d8576b"
             ],
             [
              0.6666666666666666,
              "#ed7953"
             ],
             [
              0.7777777777777778,
              "#fb9f3a"
             ],
             [
              0.8888888888888888,
              "#fdca26"
             ],
             [
              1,
              "#f0f921"
             ]
            ],
            "type": "heatmapgl"
           }
          ],
          "histogram": [
           {
            "marker": {
             "pattern": {
              "fillmode": "overlay",
              "size": 10,
              "solidity": 0.2
             }
            },
            "type": "histogram"
           }
          ],
          "histogram2d": [
           {
            "colorbar": {
             "outlinewidth": 0,
             "ticks": ""
            },
            "colorscale": [
             [
              0,
              "#0d0887"
             ],
             [
              0.1111111111111111,
              "#46039f"
             ],
             [
              0.2222222222222222,
              "#7201a8"
             ],
             [
              0.3333333333333333,
              "#9c179e"
             ],
             [
              0.4444444444444444,
              "#bd3786"
             ],
             [
              0.5555555555555556,
              "#d8576b"
             ],
             [
              0.6666666666666666,
              "#ed7953"
             ],
             [
              0.7777777777777778,
              "#fb9f3a"
             ],
             [
              0.8888888888888888,
              "#fdca26"
             ],
             [
              1,
              "#f0f921"
             ]
            ],
            "type": "histogram2d"
           }
          ],
          "histogram2dcontour": [
           {
            "colorbar": {
             "outlinewidth": 0,
             "ticks": ""
            },
            "colorscale": [
             [
              0,
              "#0d0887"
             ],
             [
              0.1111111111111111,
              "#46039f"
             ],
             [
              0.2222222222222222,
              "#7201a8"
             ],
             [
              0.3333333333333333,
              "#9c179e"
             ],
             [
              0.4444444444444444,
              "#bd3786"
             ],
             [
              0.5555555555555556,
              "#d8576b"
             ],
             [
              0.6666666666666666,
              "#ed7953"
             ],
             [
              0.7777777777777778,
              "#fb9f3a"
             ],
             [
              0.8888888888888888,
              "#fdca26"
             ],
             [
              1,
              "#f0f921"
             ]
            ],
            "type": "histogram2dcontour"
           }
          ],
          "mesh3d": [
           {
            "colorbar": {
             "outlinewidth": 0,
             "ticks": ""
            },
            "type": "mesh3d"
           }
          ],
          "parcoords": [
           {
            "line": {
             "colorbar": {
              "outlinewidth": 0,
              "ticks": ""
             }
            },
            "type": "parcoords"
           }
          ],
          "pie": [
           {
            "automargin": true,
            "type": "pie"
           }
          ],
          "scatter": [
           {
            "fillpattern": {
             "fillmode": "overlay",
             "size": 10,
             "solidity": 0.2
            },
            "type": "scatter"
           }
          ],
          "scatter3d": [
           {
            "line": {
             "colorbar": {
              "outlinewidth": 0,
              "ticks": ""
             }
            },
            "marker": {
             "colorbar": {
              "outlinewidth": 0,
              "ticks": ""
             }
            },
            "type": "scatter3d"
           }
          ],
          "scattercarpet": [
           {
            "marker": {
             "colorbar": {
              "outlinewidth": 0,
              "ticks": ""
             }
            },
            "type": "scattercarpet"
           }
          ],
          "scattergeo": [
           {
            "marker": {
             "colorbar": {
              "outlinewidth": 0,
              "ticks": ""
             }
            },
            "type": "scattergeo"
           }
          ],
          "scattergl": [
           {
            "marker": {
             "colorbar": {
              "outlinewidth": 0,
              "ticks": ""
             }
            },
            "type": "scattergl"
           }
          ],
          "scattermapbox": [
           {
            "marker": {
             "colorbar": {
              "outlinewidth": 0,
              "ticks": ""
             }
            },
            "type": "scattermapbox"
           }
          ],
          "scatterpolar": [
           {
            "marker": {
             "colorbar": {
              "outlinewidth": 0,
              "ticks": ""
             }
            },
            "type": "scatterpolar"
           }
          ],
          "scatterpolargl": [
           {
            "marker": {
             "colorbar": {
              "outlinewidth": 0,
              "ticks": ""
             }
            },
            "type": "scatterpolargl"
           }
          ],
          "scatterternary": [
           {
            "marker": {
             "colorbar": {
              "outlinewidth": 0,
              "ticks": ""
             }
            },
            "type": "scatterternary"
           }
          ],
          "surface": [
           {
            "colorbar": {
             "outlinewidth": 0,
             "ticks": ""
            },
            "colorscale": [
             [
              0,
              "#0d0887"
             ],
             [
              0.1111111111111111,
              "#46039f"
             ],
             [
              0.2222222222222222,
              "#7201a8"
             ],
             [
              0.3333333333333333,
              "#9c179e"
             ],
             [
              0.4444444444444444,
              "#bd3786"
             ],
             [
              0.5555555555555556,
              "#d8576b"
             ],
             [
              0.6666666666666666,
              "#ed7953"
             ],
             [
              0.7777777777777778,
              "#fb9f3a"
             ],
             [
              0.8888888888888888,
              "#fdca26"
             ],
             [
              1,
              "#f0f921"
             ]
            ],
            "type": "surface"
           }
          ],
          "table": [
           {
            "cells": {
             "fill": {
              "color": "#EBF0F8"
             },
             "line": {
              "color": "white"
             }
            },
            "header": {
             "fill": {
              "color": "#C8D4E3"
             },
             "line": {
              "color": "white"
             }
            },
            "type": "table"
           }
          ]
         },
         "layout": {
          "annotationdefaults": {
           "arrowcolor": "#2a3f5f",
           "arrowhead": 0,
           "arrowwidth": 1
          },
          "autotypenumbers": "strict",
          "coloraxis": {
           "colorbar": {
            "outlinewidth": 0,
            "ticks": ""
           }
          },
          "colorscale": {
           "diverging": [
            [
             0,
             "#8e0152"
            ],
            [
             0.1,
             "#c51b7d"
            ],
            [
             0.2,
             "#de77ae"
            ],
            [
             0.3,
             "#f1b6da"
            ],
            [
             0.4,
             "#fde0ef"
            ],
            [
             0.5,
             "#f7f7f7"
            ],
            [
             0.6,
             "#e6f5d0"
            ],
            [
             0.7,
             "#b8e186"
            ],
            [
             0.8,
             "#7fbc41"
            ],
            [
             0.9,
             "#4d9221"
            ],
            [
             1,
             "#276419"
            ]
           ],
           "sequential": [
            [
             0,
             "#0d0887"
            ],
            [
             0.1111111111111111,
             "#46039f"
            ],
            [
             0.2222222222222222,
             "#7201a8"
            ],
            [
             0.3333333333333333,
             "#9c179e"
            ],
            [
             0.4444444444444444,
             "#bd3786"
            ],
            [
             0.5555555555555556,
             "#d8576b"
            ],
            [
             0.6666666666666666,
             "#ed7953"
            ],
            [
             0.7777777777777778,
             "#fb9f3a"
            ],
            [
             0.8888888888888888,
             "#fdca26"
            ],
            [
             1,
             "#f0f921"
            ]
           ],
           "sequentialminus": [
            [
             0,
             "#0d0887"
            ],
            [
             0.1111111111111111,
             "#46039f"
            ],
            [
             0.2222222222222222,
             "#7201a8"
            ],
            [
             0.3333333333333333,
             "#9c179e"
            ],
            [
             0.4444444444444444,
             "#bd3786"
            ],
            [
             0.5555555555555556,
             "#d8576b"
            ],
            [
             0.6666666666666666,
             "#ed7953"
            ],
            [
             0.7777777777777778,
             "#fb9f3a"
            ],
            [
             0.8888888888888888,
             "#fdca26"
            ],
            [
             1,
             "#f0f921"
            ]
           ]
          },
          "colorway": [
           "#636efa",
           "#EF553B",
           "#00cc96",
           "#ab63fa",
           "#FFA15A",
           "#19d3f3",
           "#FF6692",
           "#B6E880",
           "#FF97FF",
           "#FECB52"
          ],
          "font": {
           "color": "#2a3f5f"
          },
          "geo": {
           "bgcolor": "white",
           "lakecolor": "white",
           "landcolor": "#E5ECF6",
           "showlakes": true,
           "showland": true,
           "subunitcolor": "white"
          },
          "hoverlabel": {
           "align": "left"
          },
          "hovermode": "closest",
          "mapbox": {
           "style": "light"
          },
          "paper_bgcolor": "white",
          "plot_bgcolor": "#E5ECF6",
          "polar": {
           "angularaxis": {
            "gridcolor": "white",
            "linecolor": "white",
            "ticks": ""
           },
           "bgcolor": "#E5ECF6",
           "radialaxis": {
            "gridcolor": "white",
            "linecolor": "white",
            "ticks": ""
           }
          },
          "scene": {
           "xaxis": {
            "backgroundcolor": "#E5ECF6",
            "gridcolor": "white",
            "gridwidth": 2,
            "linecolor": "white",
            "showbackground": true,
            "ticks": "",
            "zerolinecolor": "white"
           },
           "yaxis": {
            "backgroundcolor": "#E5ECF6",
            "gridcolor": "white",
            "gridwidth": 2,
            "linecolor": "white",
            "showbackground": true,
            "ticks": "",
            "zerolinecolor": "white"
           },
           "zaxis": {
            "backgroundcolor": "#E5ECF6",
            "gridcolor": "white",
            "gridwidth": 2,
            "linecolor": "white",
            "showbackground": true,
            "ticks": "",
            "zerolinecolor": "white"
           }
          },
          "shapedefaults": {
           "line": {
            "color": "#2a3f5f"
           }
          },
          "ternary": {
           "aaxis": {
            "gridcolor": "white",
            "linecolor": "white",
            "ticks": ""
           },
           "baxis": {
            "gridcolor": "white",
            "linecolor": "white",
            "ticks": ""
           },
           "bgcolor": "#E5ECF6",
           "caxis": {
            "gridcolor": "white",
            "linecolor": "white",
            "ticks": ""
           }
          },
          "title": {
           "x": 0.05
          },
          "xaxis": {
           "automargin": true,
           "gridcolor": "white",
           "linecolor": "white",
           "ticks": "",
           "title": {
            "standoff": 15
           },
           "zerolinecolor": "white",
           "zerolinewidth": 2
          },
          "yaxis": {
           "automargin": true,
           "gridcolor": "white",
           "linecolor": "white",
           "ticks": "",
           "title": {
            "standoff": 15
           },
           "zerolinecolor": "white",
           "zerolinewidth": 2
          }
         }
        },
        "title": {
         "text": "Comparison of true prices (on the test dataset) with prices our model predicted"
        },
        "xaxis": {
         "title": {
          "text": "Day number"
         }
        },
        "yaxis": {
         "title": {
          "text": "Price, USD"
         }
        }
       }
      },
      "text/html": [
       "<div>                            <div id=\"15a083e9-e845-4bb3-8dbd-97315d3146f2\" class=\"plotly-graph-div\" style=\"height:525px; width:100%;\"></div>            <script type=\"text/javascript\">                require([\"plotly\"], function(Plotly) {                    window.PLOTLYENV=window.PLOTLYENV || {};                                    if (document.getElementById(\"15a083e9-e845-4bb3-8dbd-97315d3146f2\")) {                    Plotly.newPlot(                        \"15a083e9-e845-4bb3-8dbd-97315d3146f2\",                        [{\"hoverlabel\":{\"namelength\":-1},\"line\":{\"color\":\"rgb(244, 146, 65)\",\"width\":2},\"mode\":\"lines\",\"name\":\"Predicted price\",\"x\":[0,1,2,3,4,5,6,7,8,9,10,11,12,13,14,15,16,17,18,19,20,21,22,23,24,25,26,27,28,29,30,31,32,33,34,35,36,37,38,39,40,41,42,43,44,45,46,47,48,49,50,51,52,53,54,55,56,57,58],\"y\":[34242.0703125,35283.26953125,37213.30078125,38222.9765625,38315.390625,40604.015625,39446.94921875,42059.71875,47891.85546875,46945.12890625,47450.953125,48876.09765625,48522.8671875,49946.3515625,49153.859375,50209.3515625,52438.48046875,53497.07421875,54786.65625,58252.8125,59092.4375,56550.7421875,50342.33984375,51237.30859375,51436.6015625,47861.28515625,48368.98828125,45899.71484375,48916.9765625,49964.40625,51915.58203125,50804.36328125,48998.58984375,49700.39453125,51687.765625,52313.6953125,55760.10546875,57276.61328125,58254.23828125,58858.55078125,61018.4296875,62830.2265625,59602.3671875,57237.90625,58129.3046875,60656.7578125,60450.46484375,60993.43359375,59389.203125,58815.54296875,56545.390625,57002.98046875,53744.22265625,54957.08984375,57078.46875,57775.02734375,58953.9765625,60519.77734375,60976.5546875],\"type\":\"scatter\"},{\"line\":{\"color\":\"rgb(66, 244, 155)\",\"width\":2},\"mode\":\"lines\",\"name\":\"True price\",\"x\":[0,1,2,3,4,5,6,7,8,9,10,11,12,13,14,15,16,17,18,19,20,21,22,23,24,25,26,27,28,29,30,31,32,33,34,35,36,37,38,39,40,41,42,43,44,45,46,47,48,49,50,51,52,53,54,55,56,57,58],\"y\":[33705.97519064722,34713.69640010833,36573.09481030625,37541.54813242222,37630.04921400487,39814.356554572616,38711.774555249474,41196.61444486648,46684.4908495625,45798.7337153625,46272.21566854444,47603.41542011806,47273.849919144544,48600.491518490235,47862.39794598194,48845.16600342639,50913.92413875069,51893.31118121875,53083.8791087993,56271.28853767917,57040.825943830445,54708.31202510764,48968.83794590833,49800.28486888125,49985.23481495344,46655.92004851875,47130.20806015889,44818.447552103615,47641.53689948158,48617.289320901386,50429.449015790684,49398.25039857084,47717.64330027986,48371.543537970036,50218.21680438112,50798.354212407234,53980.84726167916,55375.366241257994,56272.596972013904,56826.56003304931,58802.60156770642,60455.844831486414,57507.73450910987,55339.80479183195,56158.01731986032,58472.11732155981,58283.54799432522,58779.76938655648,57312.598536458274,56787.14842211057,54703.38774047083,55123.99385491754,52121.68411029951,53241.037488505215,55193.35725955904,55832.95882390712,56913.993819261836,58346.91226829547,58764.349363],\"type\":\"scatter\"}],                        {\"template\":{\"data\":{\"barpolar\":[{\"marker\":{\"line\":{\"color\":\"#E5ECF6\",\"width\":0.5},\"pattern\":{\"fillmode\":\"overlay\",\"size\":10,\"solidity\":0.2}},\"type\":\"barpolar\"}],\"bar\":[{\"error_x\":{\"color\":\"#2a3f5f\"},\"error_y\":{\"color\":\"#2a3f5f\"},\"marker\":{\"line\":{\"color\":\"#E5ECF6\",\"width\":0.5},\"pattern\":{\"fillmode\":\"overlay\",\"size\":10,\"solidity\":0.2}},\"type\":\"bar\"}],\"carpet\":[{\"aaxis\":{\"endlinecolor\":\"#2a3f5f\",\"gridcolor\":\"white\",\"linecolor\":\"white\",\"minorgridcolor\":\"white\",\"startlinecolor\":\"#2a3f5f\"},\"baxis\":{\"endlinecolor\":\"#2a3f5f\",\"gridcolor\":\"white\",\"linecolor\":\"white\",\"minorgridcolor\":\"white\",\"startlinecolor\":\"#2a3f5f\"},\"type\":\"carpet\"}],\"choropleth\":[{\"colorbar\":{\"outlinewidth\":0,\"ticks\":\"\"},\"type\":\"choropleth\"}],\"contourcarpet\":[{\"colorbar\":{\"outlinewidth\":0,\"ticks\":\"\"},\"type\":\"contourcarpet\"}],\"contour\":[{\"colorbar\":{\"outlinewidth\":0,\"ticks\":\"\"},\"colorscale\":[[0.0,\"#0d0887\"],[0.1111111111111111,\"#46039f\"],[0.2222222222222222,\"#7201a8\"],[0.3333333333333333,\"#9c179e\"],[0.4444444444444444,\"#bd3786\"],[0.5555555555555556,\"#d8576b\"],[0.6666666666666666,\"#ed7953\"],[0.7777777777777778,\"#fb9f3a\"],[0.8888888888888888,\"#fdca26\"],[1.0,\"#f0f921\"]],\"type\":\"contour\"}],\"heatmapgl\":[{\"colorbar\":{\"outlinewidth\":0,\"ticks\":\"\"},\"colorscale\":[[0.0,\"#0d0887\"],[0.1111111111111111,\"#46039f\"],[0.2222222222222222,\"#7201a8\"],[0.3333333333333333,\"#9c179e\"],[0.4444444444444444,\"#bd3786\"],[0.5555555555555556,\"#d8576b\"],[0.6666666666666666,\"#ed7953\"],[0.7777777777777778,\"#fb9f3a\"],[0.8888888888888888,\"#fdca26\"],[1.0,\"#f0f921\"]],\"type\":\"heatmapgl\"}],\"heatmap\":[{\"colorbar\":{\"outlinewidth\":0,\"ticks\":\"\"},\"colorscale\":[[0.0,\"#0d0887\"],[0.1111111111111111,\"#46039f\"],[0.2222222222222222,\"#7201a8\"],[0.3333333333333333,\"#9c179e\"],[0.4444444444444444,\"#bd3786\"],[0.5555555555555556,\"#d8576b\"],[0.6666666666666666,\"#ed7953\"],[0.7777777777777778,\"#fb9f3a\"],[0.8888888888888888,\"#fdca26\"],[1.0,\"#f0f921\"]],\"type\":\"heatmap\"}],\"histogram2dcontour\":[{\"colorbar\":{\"outlinewidth\":0,\"ticks\":\"\"},\"colorscale\":[[0.0,\"#0d0887\"],[0.1111111111111111,\"#46039f\"],[0.2222222222222222,\"#7201a8\"],[0.3333333333333333,\"#9c179e\"],[0.4444444444444444,\"#bd3786\"],[0.5555555555555556,\"#d8576b\"],[0.6666666666666666,\"#ed7953\"],[0.7777777777777778,\"#fb9f3a\"],[0.8888888888888888,\"#fdca26\"],[1.0,\"#f0f921\"]],\"type\":\"histogram2dcontour\"}],\"histogram2d\":[{\"colorbar\":{\"outlinewidth\":0,\"ticks\":\"\"},\"colorscale\":[[0.0,\"#0d0887\"],[0.1111111111111111,\"#46039f\"],[0.2222222222222222,\"#7201a8\"],[0.3333333333333333,\"#9c179e\"],[0.4444444444444444,\"#bd3786\"],[0.5555555555555556,\"#d8576b\"],[0.6666666666666666,\"#ed7953\"],[0.7777777777777778,\"#fb9f3a\"],[0.8888888888888888,\"#fdca26\"],[1.0,\"#f0f921\"]],\"type\":\"histogram2d\"}],\"histogram\":[{\"marker\":{\"pattern\":{\"fillmode\":\"overlay\",\"size\":10,\"solidity\":0.2}},\"type\":\"histogram\"}],\"mesh3d\":[{\"colorbar\":{\"outlinewidth\":0,\"ticks\":\"\"},\"type\":\"mesh3d\"}],\"parcoords\":[{\"line\":{\"colorbar\":{\"outlinewidth\":0,\"ticks\":\"\"}},\"type\":\"parcoords\"}],\"pie\":[{\"automargin\":true,\"type\":\"pie\"}],\"scatter3d\":[{\"line\":{\"colorbar\":{\"outlinewidth\":0,\"ticks\":\"\"}},\"marker\":{\"colorbar\":{\"outlinewidth\":0,\"ticks\":\"\"}},\"type\":\"scatter3d\"}],\"scattercarpet\":[{\"marker\":{\"colorbar\":{\"outlinewidth\":0,\"ticks\":\"\"}},\"type\":\"scattercarpet\"}],\"scattergeo\":[{\"marker\":{\"colorbar\":{\"outlinewidth\":0,\"ticks\":\"\"}},\"type\":\"scattergeo\"}],\"scattergl\":[{\"marker\":{\"colorbar\":{\"outlinewidth\":0,\"ticks\":\"\"}},\"type\":\"scattergl\"}],\"scattermapbox\":[{\"marker\":{\"colorbar\":{\"outlinewidth\":0,\"ticks\":\"\"}},\"type\":\"scattermapbox\"}],\"scatterpolargl\":[{\"marker\":{\"colorbar\":{\"outlinewidth\":0,\"ticks\":\"\"}},\"type\":\"scatterpolargl\"}],\"scatterpolar\":[{\"marker\":{\"colorbar\":{\"outlinewidth\":0,\"ticks\":\"\"}},\"type\":\"scatterpolar\"}],\"scatter\":[{\"fillpattern\":{\"fillmode\":\"overlay\",\"size\":10,\"solidity\":0.2},\"type\":\"scatter\"}],\"scatterternary\":[{\"marker\":{\"colorbar\":{\"outlinewidth\":0,\"ticks\":\"\"}},\"type\":\"scatterternary\"}],\"surface\":[{\"colorbar\":{\"outlinewidth\":0,\"ticks\":\"\"},\"colorscale\":[[0.0,\"#0d0887\"],[0.1111111111111111,\"#46039f\"],[0.2222222222222222,\"#7201a8\"],[0.3333333333333333,\"#9c179e\"],[0.4444444444444444,\"#bd3786\"],[0.5555555555555556,\"#d8576b\"],[0.6666666666666666,\"#ed7953\"],[0.7777777777777778,\"#fb9f3a\"],[0.8888888888888888,\"#fdca26\"],[1.0,\"#f0f921\"]],\"type\":\"surface\"}],\"table\":[{\"cells\":{\"fill\":{\"color\":\"#EBF0F8\"},\"line\":{\"color\":\"white\"}},\"header\":{\"fill\":{\"color\":\"#C8D4E3\"},\"line\":{\"color\":\"white\"}},\"type\":\"table\"}]},\"layout\":{\"annotationdefaults\":{\"arrowcolor\":\"#2a3f5f\",\"arrowhead\":0,\"arrowwidth\":1},\"autotypenumbers\":\"strict\",\"coloraxis\":{\"colorbar\":{\"outlinewidth\":0,\"ticks\":\"\"}},\"colorscale\":{\"diverging\":[[0,\"#8e0152\"],[0.1,\"#c51b7d\"],[0.2,\"#de77ae\"],[0.3,\"#f1b6da\"],[0.4,\"#fde0ef\"],[0.5,\"#f7f7f7\"],[0.6,\"#e6f5d0\"],[0.7,\"#b8e186\"],[0.8,\"#7fbc41\"],[0.9,\"#4d9221\"],[1,\"#276419\"]],\"sequential\":[[0.0,\"#0d0887\"],[0.1111111111111111,\"#46039f\"],[0.2222222222222222,\"#7201a8\"],[0.3333333333333333,\"#9c179e\"],[0.4444444444444444,\"#bd3786\"],[0.5555555555555556,\"#d8576b\"],[0.6666666666666666,\"#ed7953\"],[0.7777777777777778,\"#fb9f3a\"],[0.8888888888888888,\"#fdca26\"],[1.0,\"#f0f921\"]],\"sequentialminus\":[[0.0,\"#0d0887\"],[0.1111111111111111,\"#46039f\"],[0.2222222222222222,\"#7201a8\"],[0.3333333333333333,\"#9c179e\"],[0.4444444444444444,\"#bd3786\"],[0.5555555555555556,\"#d8576b\"],[0.6666666666666666,\"#ed7953\"],[0.7777777777777778,\"#fb9f3a\"],[0.8888888888888888,\"#fdca26\"],[1.0,\"#f0f921\"]]},\"colorway\":[\"#636efa\",\"#EF553B\",\"#00cc96\",\"#ab63fa\",\"#FFA15A\",\"#19d3f3\",\"#FF6692\",\"#B6E880\",\"#FF97FF\",\"#FECB52\"],\"font\":{\"color\":\"#2a3f5f\"},\"geo\":{\"bgcolor\":\"white\",\"lakecolor\":\"white\",\"landcolor\":\"#E5ECF6\",\"showlakes\":true,\"showland\":true,\"subunitcolor\":\"white\"},\"hoverlabel\":{\"align\":\"left\"},\"hovermode\":\"closest\",\"mapbox\":{\"style\":\"light\"},\"paper_bgcolor\":\"white\",\"plot_bgcolor\":\"#E5ECF6\",\"polar\":{\"angularaxis\":{\"gridcolor\":\"white\",\"linecolor\":\"white\",\"ticks\":\"\"},\"bgcolor\":\"#E5ECF6\",\"radialaxis\":{\"gridcolor\":\"white\",\"linecolor\":\"white\",\"ticks\":\"\"}},\"scene\":{\"xaxis\":{\"backgroundcolor\":\"#E5ECF6\",\"gridcolor\":\"white\",\"gridwidth\":2,\"linecolor\":\"white\",\"showbackground\":true,\"ticks\":\"\",\"zerolinecolor\":\"white\"},\"yaxis\":{\"backgroundcolor\":\"#E5ECF6\",\"gridcolor\":\"white\",\"gridwidth\":2,\"linecolor\":\"white\",\"showbackground\":true,\"ticks\":\"\",\"zerolinecolor\":\"white\"},\"zaxis\":{\"backgroundcolor\":\"#E5ECF6\",\"gridcolor\":\"white\",\"gridwidth\":2,\"linecolor\":\"white\",\"showbackground\":true,\"ticks\":\"\",\"zerolinecolor\":\"white\"}},\"shapedefaults\":{\"line\":{\"color\":\"#2a3f5f\"}},\"ternary\":{\"aaxis\":{\"gridcolor\":\"white\",\"linecolor\":\"white\",\"ticks\":\"\"},\"baxis\":{\"gridcolor\":\"white\",\"linecolor\":\"white\",\"ticks\":\"\"},\"bgcolor\":\"#E5ECF6\",\"caxis\":{\"gridcolor\":\"white\",\"linecolor\":\"white\",\"ticks\":\"\"}},\"title\":{\"x\":0.05},\"xaxis\":{\"automargin\":true,\"gridcolor\":\"white\",\"linecolor\":\"white\",\"ticks\":\"\",\"title\":{\"standoff\":15},\"zerolinecolor\":\"white\",\"zerolinewidth\":2},\"yaxis\":{\"automargin\":true,\"gridcolor\":\"white\",\"linecolor\":\"white\",\"ticks\":\"\",\"title\":{\"standoff\":15},\"zerolinecolor\":\"white\",\"zerolinewidth\":2}}},\"title\":{\"text\":\"Comparison of true prices (on the test dataset) with prices our model predicted\"},\"xaxis\":{\"title\":{\"text\":\"Day number\"}},\"yaxis\":{\"title\":{\"text\":\"Price, USD\"}}},                        {\"responsive\": true}                    ).then(function(){\n",
       "                            \n",
       "var gd = document.getElementById('15a083e9-e845-4bb3-8dbd-97315d3146f2');\n",
       "var x = new MutationObserver(function (mutations, observer) {{\n",
       "        var display = window.getComputedStyle(gd).display;\n",
       "        if (!display || display === 'none') {{\n",
       "            console.log([gd, 'removed!']);\n",
       "            Plotly.purge(gd);\n",
       "            observer.disconnect();\n",
       "        }}\n",
       "}});\n",
       "\n",
       "// Listen for the removal of the full notebook cells\n",
       "var notebookContainer = gd.closest('#notebook-container');\n",
       "if (notebookContainer) {{\n",
       "    x.observe(notebookContainer, {childList: true});\n",
       "}}\n",
       "\n",
       "// Listen for the clearing of the current output cell\n",
       "var outputEl = gd.closest('.output');\n",
       "if (outputEl) {{\n",
       "    x.observe(outputEl, {childList: true});\n",
       "}}\n",
       "\n",
       "                        })                };                });            </script>        </div>"
      ]
     },
     "metadata": {},
     "output_type": "display_data"
    }
   ],
   "source": [
    "trace1 = go.Scatter(\n",
    "    x = np.arange(0, len(prediction2_inverse), 1),\n",
    "    y = prediction2_inverse,\n",
    "    mode = 'lines',\n",
    "    name = 'Predicted price',\n",
    "    hoverlabel= dict(namelength=-1),\n",
    "    line = dict(color=('rgb(244, 146, 65)'), width=2)\n",
    ")\n",
    "trace2 = go.Scatter(\n",
    "    x = np.arange(0, len(Y_test2_inverse), 1),\n",
    "    y = Y_test2_inverse,\n",
    "    mode = 'lines',\n",
    "    name = 'True price',\n",
    "    line = dict(color=('rgb(66, 244, 155)'), width=2)\n",
    ")\n",
    "\n",
    "data = [trace1, trace2]\n",
    "layout = dict(title = 'Comparison of true prices (on the test dataset) with prices our model predicted',\n",
    "             xaxis = dict(title = 'Day number'), yaxis = dict(title = 'Price, USD'))\n",
    "fig = dict(data=data, layout=layout)\n",
    "py.iplot(fig, filename='results_demonstrating0')"
   ]
  },
  {
   "cell_type": "markdown",
   "metadata": {
    "_cell_guid": "dfd3f55a-35cf-41c0-8857-63366b915a3f",
    "_uuid": "9f93e523bddca19c8dc95da07d70fde44b3512ee"
   },
   "source": [
    "Below we calculated the **root mean squared error** ([RMSE](https://en.wikipedia.org/wiki/Root-mean-square_deviation)). The meaning of this indicator is what  is the average distance between predicted points on the test set and the actual (true) labels. In other words, it shows the extent of our error. The less this number, the better. We can see, that our model's RMSE is not very big (consider that the price in our data set is in thousands of USD, and we are mistaken only by tens of USD)."
   ]
  },
  {
   "cell_type": "code",
   "execution_count": 20,
   "metadata": {
    "_cell_guid": "f9a48bfc-2b01-4029-8493-3a502bab6de3",
    "_uuid": "b0df1b97b4ac3cf42ea1996771ff9b37466d434c"
   },
   "outputs": [
    {
     "name": "stdout",
     "output_type": "stream",
     "text": [
      "Test RMSE: 1622.066\n"
     ]
    }
   ],
   "source": [
    "RMSE = sqrt(mean_squared_error(Y_test2_inverse, prediction2_inverse))\n",
    "print('Test RMSE: %.3f' % RMSE)"
   ]
  },
  {
   "cell_type": "markdown",
   "metadata": {
    "_cell_guid": "26cdf67f-1c0a-4887-9fb8-06413ec61427",
    "_uuid": "cbcd8120a1d96ab758cc03072a658e45c46994fc",
    "collapsed": true
   },
   "source": [
    "Below we extract the convenient format of dates and plot the same chart as above, but with these dates on the X-axis. "
   ]
  },
  {
   "cell_type": "code",
   "execution_count": 21,
   "metadata": {
    "_cell_guid": "66070cca-b765-47f1-90e1-9627acdd747e",
    "_uuid": "6ba9a2815831491b5f6c9065e9a436309467f5ff"
   },
   "outputs": [
    {
     "data": {
      "application/vnd.plotly.v1+json": {
       "config": {
        "linkText": "Export to plot.ly",
        "plotlyServerURL": "https://plot.ly",
        "showLink": false
       },
       "data": [
        {
         "line": {
          "color": "rgb(66, 244, 155)",
          "width": 2
         },
         "name": "Actual Price",
         "type": "scatter",
         "x": [
          "2021-01-30",
          "2021-01-31",
          "2021-02-01",
          "2021-02-02",
          "2021-02-03",
          "2021-02-04",
          "2021-02-05",
          "2021-02-06",
          "2021-02-07",
          "2021-02-08",
          "2021-02-09",
          "2021-02-10",
          "2021-02-11",
          "2021-02-12",
          "2021-02-13",
          "2021-02-14",
          "2021-02-15",
          "2021-02-16",
          "2021-02-17",
          "2021-02-18",
          "2021-02-19",
          "2021-02-20",
          "2021-02-21",
          "2021-02-22",
          "2021-02-23",
          "2021-02-24",
          "2021-02-25",
          "2021-02-26",
          "2021-02-27",
          "2021-02-28",
          "2021-03-01",
          "2021-03-02",
          "2021-03-03",
          "2021-03-04",
          "2021-03-05",
          "2021-03-06",
          "2021-03-07",
          "2021-03-08",
          "2021-03-09",
          "2021-03-10",
          "2021-03-11",
          "2021-03-12",
          "2021-03-13",
          "2021-03-14",
          "2021-03-15",
          "2021-03-16",
          "2021-03-17",
          "2021-03-18",
          "2021-03-19",
          "2021-03-20",
          "2021-03-21",
          "2021-03-22",
          "2021-03-23",
          "2021-03-24",
          "2021-03-25",
          "2021-03-26",
          "2021-03-27",
          "2021-03-28",
          "2021-03-29",
          "2021-03-30",
          "2021-03-31"
         ],
         "y": [
          33705.97519064722,
          34713.69640010833,
          36573.09481030625,
          37541.54813242222,
          37630.04921400487,
          39814.356554572616,
          38711.774555249474,
          41196.61444486648,
          46684.4908495625,
          45798.7337153625,
          46272.21566854444,
          47603.41542011806,
          47273.849919144544,
          48600.491518490235,
          47862.39794598194,
          48845.16600342639,
          50913.92413875069,
          51893.31118121875,
          53083.8791087993,
          56271.28853767917,
          57040.825943830445,
          54708.31202510764,
          48968.83794590833,
          49800.28486888125,
          49985.23481495344,
          46655.92004851875,
          47130.20806015889,
          44818.447552103615,
          47641.53689948158,
          48617.289320901386,
          50429.449015790684,
          49398.25039857084,
          47717.64330027986,
          48371.543537970036,
          50218.21680438112,
          50798.354212407234,
          53980.84726167916,
          55375.366241257994,
          56272.596972013904,
          56826.56003304931,
          58802.60156770642,
          60455.844831486414,
          57507.73450910987,
          55339.80479183195,
          56158.01731986032,
          58472.11732155981,
          58283.54799432522,
          58779.76938655648,
          57312.598536458274,
          56787.14842211057,
          54703.38774047083,
          55123.99385491754,
          52121.68411029951,
          53241.037488505215,
          55193.35725955904,
          55832.95882390712,
          56913.993819261836,
          58346.91226829547,
          58764.349363
         ]
        },
        {
         "line": {
          "color": "rgb(244, 146, 65)",
          "width": 2
         },
         "name": "Predicted Price",
         "type": "scatter",
         "x": [
          "2021-01-30",
          "2021-01-31",
          "2021-02-01",
          "2021-02-02",
          "2021-02-03",
          "2021-02-04",
          "2021-02-05",
          "2021-02-06",
          "2021-02-07",
          "2021-02-08",
          "2021-02-09",
          "2021-02-10",
          "2021-02-11",
          "2021-02-12",
          "2021-02-13",
          "2021-02-14",
          "2021-02-15",
          "2021-02-16",
          "2021-02-17",
          "2021-02-18",
          "2021-02-19",
          "2021-02-20",
          "2021-02-21",
          "2021-02-22",
          "2021-02-23",
          "2021-02-24",
          "2021-02-25",
          "2021-02-26",
          "2021-02-27",
          "2021-02-28",
          "2021-03-01",
          "2021-03-02",
          "2021-03-03",
          "2021-03-04",
          "2021-03-05",
          "2021-03-06",
          "2021-03-07",
          "2021-03-08",
          "2021-03-09",
          "2021-03-10",
          "2021-03-11",
          "2021-03-12",
          "2021-03-13",
          "2021-03-14",
          "2021-03-15",
          "2021-03-16",
          "2021-03-17",
          "2021-03-18",
          "2021-03-19",
          "2021-03-20",
          "2021-03-21",
          "2021-03-22",
          "2021-03-23",
          "2021-03-24",
          "2021-03-25",
          "2021-03-26",
          "2021-03-27",
          "2021-03-28",
          "2021-03-29",
          "2021-03-30",
          "2021-03-31"
         ],
         "y": [
          34242.0703125,
          35283.26953125,
          37213.30078125,
          38222.9765625,
          38315.390625,
          40604.015625,
          39446.94921875,
          42059.71875,
          47891.85546875,
          46945.12890625,
          47450.953125,
          48876.09765625,
          48522.8671875,
          49946.3515625,
          49153.859375,
          50209.3515625,
          52438.48046875,
          53497.07421875,
          54786.65625,
          58252.8125,
          59092.4375,
          56550.7421875,
          50342.33984375,
          51237.30859375,
          51436.6015625,
          47861.28515625,
          48368.98828125,
          45899.71484375,
          48916.9765625,
          49964.40625,
          51915.58203125,
          50804.36328125,
          48998.58984375,
          49700.39453125,
          51687.765625,
          52313.6953125,
          55760.10546875,
          57276.61328125,
          58254.23828125,
          58858.55078125,
          61018.4296875,
          62830.2265625,
          59602.3671875,
          57237.90625,
          58129.3046875,
          60656.7578125,
          60450.46484375,
          60993.43359375,
          59389.203125,
          58815.54296875,
          56545.390625,
          57002.98046875,
          53744.22265625,
          54957.08984375,
          57078.46875,
          57775.02734375,
          58953.9765625,
          60519.77734375,
          60976.5546875
         ]
        }
       ],
       "layout": {
        "template": {
         "data": {
          "bar": [
           {
            "error_x": {
             "color": "#2a3f5f"
            },
            "error_y": {
             "color": "#2a3f5f"
            },
            "marker": {
             "line": {
              "color": "#E5ECF6",
              "width": 0.5
             },
             "pattern": {
              "fillmode": "overlay",
              "size": 10,
              "solidity": 0.2
             }
            },
            "type": "bar"
           }
          ],
          "barpolar": [
           {
            "marker": {
             "line": {
              "color": "#E5ECF6",
              "width": 0.5
             },
             "pattern": {
              "fillmode": "overlay",
              "size": 10,
              "solidity": 0.2
             }
            },
            "type": "barpolar"
           }
          ],
          "carpet": [
           {
            "aaxis": {
             "endlinecolor": "#2a3f5f",
             "gridcolor": "white",
             "linecolor": "white",
             "minorgridcolor": "white",
             "startlinecolor": "#2a3f5f"
            },
            "baxis": {
             "endlinecolor": "#2a3f5f",
             "gridcolor": "white",
             "linecolor": "white",
             "minorgridcolor": "white",
             "startlinecolor": "#2a3f5f"
            },
            "type": "carpet"
           }
          ],
          "choropleth": [
           {
            "colorbar": {
             "outlinewidth": 0,
             "ticks": ""
            },
            "type": "choropleth"
           }
          ],
          "contour": [
           {
            "colorbar": {
             "outlinewidth": 0,
             "ticks": ""
            },
            "colorscale": [
             [
              0,
              "#0d0887"
             ],
             [
              0.1111111111111111,
              "#46039f"
             ],
             [
              0.2222222222222222,
              "#7201a8"
             ],
             [
              0.3333333333333333,
              "#9c179e"
             ],
             [
              0.4444444444444444,
              "#bd3786"
             ],
             [
              0.5555555555555556,
              "#d8576b"
             ],
             [
              0.6666666666666666,
              "#ed7953"
             ],
             [
              0.7777777777777778,
              "#fb9f3a"
             ],
             [
              0.8888888888888888,
              "#fdca26"
             ],
             [
              1,
              "#f0f921"
             ]
            ],
            "type": "contour"
           }
          ],
          "contourcarpet": [
           {
            "colorbar": {
             "outlinewidth": 0,
             "ticks": ""
            },
            "type": "contourcarpet"
           }
          ],
          "heatmap": [
           {
            "colorbar": {
             "outlinewidth": 0,
             "ticks": ""
            },
            "colorscale": [
             [
              0,
              "#0d0887"
             ],
             [
              0.1111111111111111,
              "#46039f"
             ],
             [
              0.2222222222222222,
              "#7201a8"
             ],
             [
              0.3333333333333333,
              "#9c179e"
             ],
             [
              0.4444444444444444,
              "#bd3786"
             ],
             [
              0.5555555555555556,
              "#d8576b"
             ],
             [
              0.6666666666666666,
              "#ed7953"
             ],
             [
              0.7777777777777778,
              "#fb9f3a"
             ],
             [
              0.8888888888888888,
              "#fdca26"
             ],
             [
              1,
              "#f0f921"
             ]
            ],
            "type": "heatmap"
           }
          ],
          "heatmapgl": [
           {
            "colorbar": {
             "outlinewidth": 0,
             "ticks": ""
            },
            "colorscale": [
             [
              0,
              "#0d0887"
             ],
             [
              0.1111111111111111,
              "#46039f"
             ],
             [
              0.2222222222222222,
              "#7201a8"
             ],
             [
              0.3333333333333333,
              "#9c179e"
             ],
             [
              0.4444444444444444,
              "#bd3786"
             ],
             [
              0.5555555555555556,
              "#d8576b"
             ],
             [
              0.6666666666666666,
              "#ed7953"
             ],
             [
              0.7777777777777778,
              "#fb9f3a"
             ],
             [
              0.8888888888888888,
              "#fdca26"
             ],
             [
              1,
              "#f0f921"
             ]
            ],
            "type": "heatmapgl"
           }
          ],
          "histogram": [
           {
            "marker": {
             "pattern": {
              "fillmode": "overlay",
              "size": 10,
              "solidity": 0.2
             }
            },
            "type": "histogram"
           }
          ],
          "histogram2d": [
           {
            "colorbar": {
             "outlinewidth": 0,
             "ticks": ""
            },
            "colorscale": [
             [
              0,
              "#0d0887"
             ],
             [
              0.1111111111111111,
              "#46039f"
             ],
             [
              0.2222222222222222,
              "#7201a8"
             ],
             [
              0.3333333333333333,
              "#9c179e"
             ],
             [
              0.4444444444444444,
              "#bd3786"
             ],
             [
              0.5555555555555556,
              "#d8576b"
             ],
             [
              0.6666666666666666,
              "#ed7953"
             ],
             [
              0.7777777777777778,
              "#fb9f3a"
             ],
             [
              0.8888888888888888,
              "#fdca26"
             ],
             [
              1,
              "#f0f921"
             ]
            ],
            "type": "histogram2d"
           }
          ],
          "histogram2dcontour": [
           {
            "colorbar": {
             "outlinewidth": 0,
             "ticks": ""
            },
            "colorscale": [
             [
              0,
              "#0d0887"
             ],
             [
              0.1111111111111111,
              "#46039f"
             ],
             [
              0.2222222222222222,
              "#7201a8"
             ],
             [
              0.3333333333333333,
              "#9c179e"
             ],
             [
              0.4444444444444444,
              "#bd3786"
             ],
             [
              0.5555555555555556,
              "#d8576b"
             ],
             [
              0.6666666666666666,
              "#ed7953"
             ],
             [
              0.7777777777777778,
              "#fb9f3a"
             ],
             [
              0.8888888888888888,
              "#fdca26"
             ],
             [
              1,
              "#f0f921"
             ]
            ],
            "type": "histogram2dcontour"
           }
          ],
          "mesh3d": [
           {
            "colorbar": {
             "outlinewidth": 0,
             "ticks": ""
            },
            "type": "mesh3d"
           }
          ],
          "parcoords": [
           {
            "line": {
             "colorbar": {
              "outlinewidth": 0,
              "ticks": ""
             }
            },
            "type": "parcoords"
           }
          ],
          "pie": [
           {
            "automargin": true,
            "type": "pie"
           }
          ],
          "scatter": [
           {
            "fillpattern": {
             "fillmode": "overlay",
             "size": 10,
             "solidity": 0.2
            },
            "type": "scatter"
           }
          ],
          "scatter3d": [
           {
            "line": {
             "colorbar": {
              "outlinewidth": 0,
              "ticks": ""
             }
            },
            "marker": {
             "colorbar": {
              "outlinewidth": 0,
              "ticks": ""
             }
            },
            "type": "scatter3d"
           }
          ],
          "scattercarpet": [
           {
            "marker": {
             "colorbar": {
              "outlinewidth": 0,
              "ticks": ""
             }
            },
            "type": "scattercarpet"
           }
          ],
          "scattergeo": [
           {
            "marker": {
             "colorbar": {
              "outlinewidth": 0,
              "ticks": ""
             }
            },
            "type": "scattergeo"
           }
          ],
          "scattergl": [
           {
            "marker": {
             "colorbar": {
              "outlinewidth": 0,
              "ticks": ""
             }
            },
            "type": "scattergl"
           }
          ],
          "scattermapbox": [
           {
            "marker": {
             "colorbar": {
              "outlinewidth": 0,
              "ticks": ""
             }
            },
            "type": "scattermapbox"
           }
          ],
          "scatterpolar": [
           {
            "marker": {
             "colorbar": {
              "outlinewidth": 0,
              "ticks": ""
             }
            },
            "type": "scatterpolar"
           }
          ],
          "scatterpolargl": [
           {
            "marker": {
             "colorbar": {
              "outlinewidth": 0,
              "ticks": ""
             }
            },
            "type": "scatterpolargl"
           }
          ],
          "scatterternary": [
           {
            "marker": {
             "colorbar": {
              "outlinewidth": 0,
              "ticks": ""
             }
            },
            "type": "scatterternary"
           }
          ],
          "surface": [
           {
            "colorbar": {
             "outlinewidth": 0,
             "ticks": ""
            },
            "colorscale": [
             [
              0,
              "#0d0887"
             ],
             [
              0.1111111111111111,
              "#46039f"
             ],
             [
              0.2222222222222222,
              "#7201a8"
             ],
             [
              0.3333333333333333,
              "#9c179e"
             ],
             [
              0.4444444444444444,
              "#bd3786"
             ],
             [
              0.5555555555555556,
              "#d8576b"
             ],
             [
              0.6666666666666666,
              "#ed7953"
             ],
             [
              0.7777777777777778,
              "#fb9f3a"
             ],
             [
              0.8888888888888888,
              "#fdca26"
             ],
             [
              1,
              "#f0f921"
             ]
            ],
            "type": "surface"
           }
          ],
          "table": [
           {
            "cells": {
             "fill": {
              "color": "#EBF0F8"
             },
             "line": {
              "color": "white"
             }
            },
            "header": {
             "fill": {
              "color": "#C8D4E3"
             },
             "line": {
              "color": "white"
             }
            },
            "type": "table"
           }
          ]
         },
         "layout": {
          "annotationdefaults": {
           "arrowcolor": "#2a3f5f",
           "arrowhead": 0,
           "arrowwidth": 1
          },
          "autotypenumbers": "strict",
          "coloraxis": {
           "colorbar": {
            "outlinewidth": 0,
            "ticks": ""
           }
          },
          "colorscale": {
           "diverging": [
            [
             0,
             "#8e0152"
            ],
            [
             0.1,
             "#c51b7d"
            ],
            [
             0.2,
             "#de77ae"
            ],
            [
             0.3,
             "#f1b6da"
            ],
            [
             0.4,
             "#fde0ef"
            ],
            [
             0.5,
             "#f7f7f7"
            ],
            [
             0.6,
             "#e6f5d0"
            ],
            [
             0.7,
             "#b8e186"
            ],
            [
             0.8,
             "#7fbc41"
            ],
            [
             0.9,
             "#4d9221"
            ],
            [
             1,
             "#276419"
            ]
           ],
           "sequential": [
            [
             0,
             "#0d0887"
            ],
            [
             0.1111111111111111,
             "#46039f"
            ],
            [
             0.2222222222222222,
             "#7201a8"
            ],
            [
             0.3333333333333333,
             "#9c179e"
            ],
            [
             0.4444444444444444,
             "#bd3786"
            ],
            [
             0.5555555555555556,
             "#d8576b"
            ],
            [
             0.6666666666666666,
             "#ed7953"
            ],
            [
             0.7777777777777778,
             "#fb9f3a"
            ],
            [
             0.8888888888888888,
             "#fdca26"
            ],
            [
             1,
             "#f0f921"
            ]
           ],
           "sequentialminus": [
            [
             0,
             "#0d0887"
            ],
            [
             0.1111111111111111,
             "#46039f"
            ],
            [
             0.2222222222222222,
             "#7201a8"
            ],
            [
             0.3333333333333333,
             "#9c179e"
            ],
            [
             0.4444444444444444,
             "#bd3786"
            ],
            [
             0.5555555555555556,
             "#d8576b"
            ],
            [
             0.6666666666666666,
             "#ed7953"
            ],
            [
             0.7777777777777778,
             "#fb9f3a"
            ],
            [
             0.8888888888888888,
             "#fdca26"
            ],
            [
             1,
             "#f0f921"
            ]
           ]
          },
          "colorway": [
           "#636efa",
           "#EF553B",
           "#00cc96",
           "#ab63fa",
           "#FFA15A",
           "#19d3f3",
           "#FF6692",
           "#B6E880",
           "#FF97FF",
           "#FECB52"
          ],
          "font": {
           "color": "#2a3f5f"
          },
          "geo": {
           "bgcolor": "white",
           "lakecolor": "white",
           "landcolor": "#E5ECF6",
           "showlakes": true,
           "showland": true,
           "subunitcolor": "white"
          },
          "hoverlabel": {
           "align": "left"
          },
          "hovermode": "closest",
          "mapbox": {
           "style": "light"
          },
          "paper_bgcolor": "white",
          "plot_bgcolor": "#E5ECF6",
          "polar": {
           "angularaxis": {
            "gridcolor": "white",
            "linecolor": "white",
            "ticks": ""
           },
           "bgcolor": "#E5ECF6",
           "radialaxis": {
            "gridcolor": "white",
            "linecolor": "white",
            "ticks": ""
           }
          },
          "scene": {
           "xaxis": {
            "backgroundcolor": "#E5ECF6",
            "gridcolor": "white",
            "gridwidth": 2,
            "linecolor": "white",
            "showbackground": true,
            "ticks": "",
            "zerolinecolor": "white"
           },
           "yaxis": {
            "backgroundcolor": "#E5ECF6",
            "gridcolor": "white",
            "gridwidth": 2,
            "linecolor": "white",
            "showbackground": true,
            "ticks": "",
            "zerolinecolor": "white"
           },
           "zaxis": {
            "backgroundcolor": "#E5ECF6",
            "gridcolor": "white",
            "gridwidth": 2,
            "linecolor": "white",
            "showbackground": true,
            "ticks": "",
            "zerolinecolor": "white"
           }
          },
          "shapedefaults": {
           "line": {
            "color": "#2a3f5f"
           }
          },
          "ternary": {
           "aaxis": {
            "gridcolor": "white",
            "linecolor": "white",
            "ticks": ""
           },
           "baxis": {
            "gridcolor": "white",
            "linecolor": "white",
            "ticks": ""
           },
           "bgcolor": "#E5ECF6",
           "caxis": {
            "gridcolor": "white",
            "linecolor": "white",
            "ticks": ""
           }
          },
          "title": {
           "x": 0.05
          },
          "xaxis": {
           "automargin": true,
           "gridcolor": "white",
           "linecolor": "white",
           "ticks": "",
           "title": {
            "standoff": 15
           },
           "zerolinecolor": "white",
           "zerolinewidth": 2
          },
          "yaxis": {
           "automargin": true,
           "gridcolor": "white",
           "linecolor": "white",
           "ticks": "",
           "title": {
            "standoff": 15
           },
           "zerolinecolor": "white",
           "zerolinewidth": 2
          }
         }
        },
        "title": {
         "text": "Comparison of true prices (on the test dataset) with prices our model predicted, by dates"
        },
        "xaxis": {
         "title": {
          "text": "Date"
         }
        },
        "yaxis": {
         "title": {
          "text": "Price, USD"
         }
        }
       }
      },
      "text/html": [
       "<div>                            <div id=\"58aec771-5770-4e30-9ea1-66919b769739\" class=\"plotly-graph-div\" style=\"height:525px; width:100%;\"></div>            <script type=\"text/javascript\">                require([\"plotly\"], function(Plotly) {                    window.PLOTLYENV=window.PLOTLYENV || {};                                    if (document.getElementById(\"58aec771-5770-4e30-9ea1-66919b769739\")) {                    Plotly.newPlot(                        \"58aec771-5770-4e30-9ea1-66919b769739\",                        [{\"line\":{\"color\":\"rgb(66, 244, 155)\",\"width\":2},\"name\":\"Actual Price\",\"x\":[\"2021-01-30\",\"2021-01-31\",\"2021-02-01\",\"2021-02-02\",\"2021-02-03\",\"2021-02-04\",\"2021-02-05\",\"2021-02-06\",\"2021-02-07\",\"2021-02-08\",\"2021-02-09\",\"2021-02-10\",\"2021-02-11\",\"2021-02-12\",\"2021-02-13\",\"2021-02-14\",\"2021-02-15\",\"2021-02-16\",\"2021-02-17\",\"2021-02-18\",\"2021-02-19\",\"2021-02-20\",\"2021-02-21\",\"2021-02-22\",\"2021-02-23\",\"2021-02-24\",\"2021-02-25\",\"2021-02-26\",\"2021-02-27\",\"2021-02-28\",\"2021-03-01\",\"2021-03-02\",\"2021-03-03\",\"2021-03-04\",\"2021-03-05\",\"2021-03-06\",\"2021-03-07\",\"2021-03-08\",\"2021-03-09\",\"2021-03-10\",\"2021-03-11\",\"2021-03-12\",\"2021-03-13\",\"2021-03-14\",\"2021-03-15\",\"2021-03-16\",\"2021-03-17\",\"2021-03-18\",\"2021-03-19\",\"2021-03-20\",\"2021-03-21\",\"2021-03-22\",\"2021-03-23\",\"2021-03-24\",\"2021-03-25\",\"2021-03-26\",\"2021-03-27\",\"2021-03-28\",\"2021-03-29\",\"2021-03-30\",\"2021-03-31\"],\"y\":[33705.97519064722,34713.69640010833,36573.09481030625,37541.54813242222,37630.04921400487,39814.356554572616,38711.774555249474,41196.61444486648,46684.4908495625,45798.7337153625,46272.21566854444,47603.41542011806,47273.849919144544,48600.491518490235,47862.39794598194,48845.16600342639,50913.92413875069,51893.31118121875,53083.8791087993,56271.28853767917,57040.825943830445,54708.31202510764,48968.83794590833,49800.28486888125,49985.23481495344,46655.92004851875,47130.20806015889,44818.447552103615,47641.53689948158,48617.289320901386,50429.449015790684,49398.25039857084,47717.64330027986,48371.543537970036,50218.21680438112,50798.354212407234,53980.84726167916,55375.366241257994,56272.596972013904,56826.56003304931,58802.60156770642,60455.844831486414,57507.73450910987,55339.80479183195,56158.01731986032,58472.11732155981,58283.54799432522,58779.76938655648,57312.598536458274,56787.14842211057,54703.38774047083,55123.99385491754,52121.68411029951,53241.037488505215,55193.35725955904,55832.95882390712,56913.993819261836,58346.91226829547,58764.349363],\"type\":\"scatter\"},{\"line\":{\"color\":\"rgb(244, 146, 65)\",\"width\":2},\"name\":\"Predicted Price\",\"x\":[\"2021-01-30\",\"2021-01-31\",\"2021-02-01\",\"2021-02-02\",\"2021-02-03\",\"2021-02-04\",\"2021-02-05\",\"2021-02-06\",\"2021-02-07\",\"2021-02-08\",\"2021-02-09\",\"2021-02-10\",\"2021-02-11\",\"2021-02-12\",\"2021-02-13\",\"2021-02-14\",\"2021-02-15\",\"2021-02-16\",\"2021-02-17\",\"2021-02-18\",\"2021-02-19\",\"2021-02-20\",\"2021-02-21\",\"2021-02-22\",\"2021-02-23\",\"2021-02-24\",\"2021-02-25\",\"2021-02-26\",\"2021-02-27\",\"2021-02-28\",\"2021-03-01\",\"2021-03-02\",\"2021-03-03\",\"2021-03-04\",\"2021-03-05\",\"2021-03-06\",\"2021-03-07\",\"2021-03-08\",\"2021-03-09\",\"2021-03-10\",\"2021-03-11\",\"2021-03-12\",\"2021-03-13\",\"2021-03-14\",\"2021-03-15\",\"2021-03-16\",\"2021-03-17\",\"2021-03-18\",\"2021-03-19\",\"2021-03-20\",\"2021-03-21\",\"2021-03-22\",\"2021-03-23\",\"2021-03-24\",\"2021-03-25\",\"2021-03-26\",\"2021-03-27\",\"2021-03-28\",\"2021-03-29\",\"2021-03-30\",\"2021-03-31\"],\"y\":[34242.0703125,35283.26953125,37213.30078125,38222.9765625,38315.390625,40604.015625,39446.94921875,42059.71875,47891.85546875,46945.12890625,47450.953125,48876.09765625,48522.8671875,49946.3515625,49153.859375,50209.3515625,52438.48046875,53497.07421875,54786.65625,58252.8125,59092.4375,56550.7421875,50342.33984375,51237.30859375,51436.6015625,47861.28515625,48368.98828125,45899.71484375,48916.9765625,49964.40625,51915.58203125,50804.36328125,48998.58984375,49700.39453125,51687.765625,52313.6953125,55760.10546875,57276.61328125,58254.23828125,58858.55078125,61018.4296875,62830.2265625,59602.3671875,57237.90625,58129.3046875,60656.7578125,60450.46484375,60993.43359375,59389.203125,58815.54296875,56545.390625,57002.98046875,53744.22265625,54957.08984375,57078.46875,57775.02734375,58953.9765625,60519.77734375,60976.5546875],\"type\":\"scatter\"}],                        {\"template\":{\"data\":{\"barpolar\":[{\"marker\":{\"line\":{\"color\":\"#E5ECF6\",\"width\":0.5},\"pattern\":{\"fillmode\":\"overlay\",\"size\":10,\"solidity\":0.2}},\"type\":\"barpolar\"}],\"bar\":[{\"error_x\":{\"color\":\"#2a3f5f\"},\"error_y\":{\"color\":\"#2a3f5f\"},\"marker\":{\"line\":{\"color\":\"#E5ECF6\",\"width\":0.5},\"pattern\":{\"fillmode\":\"overlay\",\"size\":10,\"solidity\":0.2}},\"type\":\"bar\"}],\"carpet\":[{\"aaxis\":{\"endlinecolor\":\"#2a3f5f\",\"gridcolor\":\"white\",\"linecolor\":\"white\",\"minorgridcolor\":\"white\",\"startlinecolor\":\"#2a3f5f\"},\"baxis\":{\"endlinecolor\":\"#2a3f5f\",\"gridcolor\":\"white\",\"linecolor\":\"white\",\"minorgridcolor\":\"white\",\"startlinecolor\":\"#2a3f5f\"},\"type\":\"carpet\"}],\"choropleth\":[{\"colorbar\":{\"outlinewidth\":0,\"ticks\":\"\"},\"type\":\"choropleth\"}],\"contourcarpet\":[{\"colorbar\":{\"outlinewidth\":0,\"ticks\":\"\"},\"type\":\"contourcarpet\"}],\"contour\":[{\"colorbar\":{\"outlinewidth\":0,\"ticks\":\"\"},\"colorscale\":[[0.0,\"#0d0887\"],[0.1111111111111111,\"#46039f\"],[0.2222222222222222,\"#7201a8\"],[0.3333333333333333,\"#9c179e\"],[0.4444444444444444,\"#bd3786\"],[0.5555555555555556,\"#d8576b\"],[0.6666666666666666,\"#ed7953\"],[0.7777777777777778,\"#fb9f3a\"],[0.8888888888888888,\"#fdca26\"],[1.0,\"#f0f921\"]],\"type\":\"contour\"}],\"heatmapgl\":[{\"colorbar\":{\"outlinewidth\":0,\"ticks\":\"\"},\"colorscale\":[[0.0,\"#0d0887\"],[0.1111111111111111,\"#46039f\"],[0.2222222222222222,\"#7201a8\"],[0.3333333333333333,\"#9c179e\"],[0.4444444444444444,\"#bd3786\"],[0.5555555555555556,\"#d8576b\"],[0.6666666666666666,\"#ed7953\"],[0.7777777777777778,\"#fb9f3a\"],[0.8888888888888888,\"#fdca26\"],[1.0,\"#f0f921\"]],\"type\":\"heatmapgl\"}],\"heatmap\":[{\"colorbar\":{\"outlinewidth\":0,\"ticks\":\"\"},\"colorscale\":[[0.0,\"#0d0887\"],[0.1111111111111111,\"#46039f\"],[0.2222222222222222,\"#7201a8\"],[0.3333333333333333,\"#9c179e\"],[0.4444444444444444,\"#bd3786\"],[0.5555555555555556,\"#d8576b\"],[0.6666666666666666,\"#ed7953\"],[0.7777777777777778,\"#fb9f3a\"],[0.8888888888888888,\"#fdca26\"],[1.0,\"#f0f921\"]],\"type\":\"heatmap\"}],\"histogram2dcontour\":[{\"colorbar\":{\"outlinewidth\":0,\"ticks\":\"\"},\"colorscale\":[[0.0,\"#0d0887\"],[0.1111111111111111,\"#46039f\"],[0.2222222222222222,\"#7201a8\"],[0.3333333333333333,\"#9c179e\"],[0.4444444444444444,\"#bd3786\"],[0.5555555555555556,\"#d8576b\"],[0.6666666666666666,\"#ed7953\"],[0.7777777777777778,\"#fb9f3a\"],[0.8888888888888888,\"#fdca26\"],[1.0,\"#f0f921\"]],\"type\":\"histogram2dcontour\"}],\"histogram2d\":[{\"colorbar\":{\"outlinewidth\":0,\"ticks\":\"\"},\"colorscale\":[[0.0,\"#0d0887\"],[0.1111111111111111,\"#46039f\"],[0.2222222222222222,\"#7201a8\"],[0.3333333333333333,\"#9c179e\"],[0.4444444444444444,\"#bd3786\"],[0.5555555555555556,\"#d8576b\"],[0.6666666666666666,\"#ed7953\"],[0.7777777777777778,\"#fb9f3a\"],[0.8888888888888888,\"#fdca26\"],[1.0,\"#f0f921\"]],\"type\":\"histogram2d\"}],\"histogram\":[{\"marker\":{\"pattern\":{\"fillmode\":\"overlay\",\"size\":10,\"solidity\":0.2}},\"type\":\"histogram\"}],\"mesh3d\":[{\"colorbar\":{\"outlinewidth\":0,\"ticks\":\"\"},\"type\":\"mesh3d\"}],\"parcoords\":[{\"line\":{\"colorbar\":{\"outlinewidth\":0,\"ticks\":\"\"}},\"type\":\"parcoords\"}],\"pie\":[{\"automargin\":true,\"type\":\"pie\"}],\"scatter3d\":[{\"line\":{\"colorbar\":{\"outlinewidth\":0,\"ticks\":\"\"}},\"marker\":{\"colorbar\":{\"outlinewidth\":0,\"ticks\":\"\"}},\"type\":\"scatter3d\"}],\"scattercarpet\":[{\"marker\":{\"colorbar\":{\"outlinewidth\":0,\"ticks\":\"\"}},\"type\":\"scattercarpet\"}],\"scattergeo\":[{\"marker\":{\"colorbar\":{\"outlinewidth\":0,\"ticks\":\"\"}},\"type\":\"scattergeo\"}],\"scattergl\":[{\"marker\":{\"colorbar\":{\"outlinewidth\":0,\"ticks\":\"\"}},\"type\":\"scattergl\"}],\"scattermapbox\":[{\"marker\":{\"colorbar\":{\"outlinewidth\":0,\"ticks\":\"\"}},\"type\":\"scattermapbox\"}],\"scatterpolargl\":[{\"marker\":{\"colorbar\":{\"outlinewidth\":0,\"ticks\":\"\"}},\"type\":\"scatterpolargl\"}],\"scatterpolar\":[{\"marker\":{\"colorbar\":{\"outlinewidth\":0,\"ticks\":\"\"}},\"type\":\"scatterpolar\"}],\"scatter\":[{\"fillpattern\":{\"fillmode\":\"overlay\",\"size\":10,\"solidity\":0.2},\"type\":\"scatter\"}],\"scatterternary\":[{\"marker\":{\"colorbar\":{\"outlinewidth\":0,\"ticks\":\"\"}},\"type\":\"scatterternary\"}],\"surface\":[{\"colorbar\":{\"outlinewidth\":0,\"ticks\":\"\"},\"colorscale\":[[0.0,\"#0d0887\"],[0.1111111111111111,\"#46039f\"],[0.2222222222222222,\"#7201a8\"],[0.3333333333333333,\"#9c179e\"],[0.4444444444444444,\"#bd3786\"],[0.5555555555555556,\"#d8576b\"],[0.6666666666666666,\"#ed7953\"],[0.7777777777777778,\"#fb9f3a\"],[0.8888888888888888,\"#fdca26\"],[1.0,\"#f0f921\"]],\"type\":\"surface\"}],\"table\":[{\"cells\":{\"fill\":{\"color\":\"#EBF0F8\"},\"line\":{\"color\":\"white\"}},\"header\":{\"fill\":{\"color\":\"#C8D4E3\"},\"line\":{\"color\":\"white\"}},\"type\":\"table\"}]},\"layout\":{\"annotationdefaults\":{\"arrowcolor\":\"#2a3f5f\",\"arrowhead\":0,\"arrowwidth\":1},\"autotypenumbers\":\"strict\",\"coloraxis\":{\"colorbar\":{\"outlinewidth\":0,\"ticks\":\"\"}},\"colorscale\":{\"diverging\":[[0,\"#8e0152\"],[0.1,\"#c51b7d\"],[0.2,\"#de77ae\"],[0.3,\"#f1b6da\"],[0.4,\"#fde0ef\"],[0.5,\"#f7f7f7\"],[0.6,\"#e6f5d0\"],[0.7,\"#b8e186\"],[0.8,\"#7fbc41\"],[0.9,\"#4d9221\"],[1,\"#276419\"]],\"sequential\":[[0.0,\"#0d0887\"],[0.1111111111111111,\"#46039f\"],[0.2222222222222222,\"#7201a8\"],[0.3333333333333333,\"#9c179e\"],[0.4444444444444444,\"#bd3786\"],[0.5555555555555556,\"#d8576b\"],[0.6666666666666666,\"#ed7953\"],[0.7777777777777778,\"#fb9f3a\"],[0.8888888888888888,\"#fdca26\"],[1.0,\"#f0f921\"]],\"sequentialminus\":[[0.0,\"#0d0887\"],[0.1111111111111111,\"#46039f\"],[0.2222222222222222,\"#7201a8\"],[0.3333333333333333,\"#9c179e\"],[0.4444444444444444,\"#bd3786\"],[0.5555555555555556,\"#d8576b\"],[0.6666666666666666,\"#ed7953\"],[0.7777777777777778,\"#fb9f3a\"],[0.8888888888888888,\"#fdca26\"],[1.0,\"#f0f921\"]]},\"colorway\":[\"#636efa\",\"#EF553B\",\"#00cc96\",\"#ab63fa\",\"#FFA15A\",\"#19d3f3\",\"#FF6692\",\"#B6E880\",\"#FF97FF\",\"#FECB52\"],\"font\":{\"color\":\"#2a3f5f\"},\"geo\":{\"bgcolor\":\"white\",\"lakecolor\":\"white\",\"landcolor\":\"#E5ECF6\",\"showlakes\":true,\"showland\":true,\"subunitcolor\":\"white\"},\"hoverlabel\":{\"align\":\"left\"},\"hovermode\":\"closest\",\"mapbox\":{\"style\":\"light\"},\"paper_bgcolor\":\"white\",\"plot_bgcolor\":\"#E5ECF6\",\"polar\":{\"angularaxis\":{\"gridcolor\":\"white\",\"linecolor\":\"white\",\"ticks\":\"\"},\"bgcolor\":\"#E5ECF6\",\"radialaxis\":{\"gridcolor\":\"white\",\"linecolor\":\"white\",\"ticks\":\"\"}},\"scene\":{\"xaxis\":{\"backgroundcolor\":\"#E5ECF6\",\"gridcolor\":\"white\",\"gridwidth\":2,\"linecolor\":\"white\",\"showbackground\":true,\"ticks\":\"\",\"zerolinecolor\":\"white\"},\"yaxis\":{\"backgroundcolor\":\"#E5ECF6\",\"gridcolor\":\"white\",\"gridwidth\":2,\"linecolor\":\"white\",\"showbackground\":true,\"ticks\":\"\",\"zerolinecolor\":\"white\"},\"zaxis\":{\"backgroundcolor\":\"#E5ECF6\",\"gridcolor\":\"white\",\"gridwidth\":2,\"linecolor\":\"white\",\"showbackground\":true,\"ticks\":\"\",\"zerolinecolor\":\"white\"}},\"shapedefaults\":{\"line\":{\"color\":\"#2a3f5f\"}},\"ternary\":{\"aaxis\":{\"gridcolor\":\"white\",\"linecolor\":\"white\",\"ticks\":\"\"},\"baxis\":{\"gridcolor\":\"white\",\"linecolor\":\"white\",\"ticks\":\"\"},\"bgcolor\":\"#E5ECF6\",\"caxis\":{\"gridcolor\":\"white\",\"linecolor\":\"white\",\"ticks\":\"\"}},\"title\":{\"x\":0.05},\"xaxis\":{\"automargin\":true,\"gridcolor\":\"white\",\"linecolor\":\"white\",\"ticks\":\"\",\"title\":{\"standoff\":15},\"zerolinecolor\":\"white\",\"zerolinewidth\":2},\"yaxis\":{\"automargin\":true,\"gridcolor\":\"white\",\"linecolor\":\"white\",\"ticks\":\"\",\"title\":{\"standoff\":15},\"zerolinecolor\":\"white\",\"zerolinewidth\":2}}},\"title\":{\"text\":\"Comparison of true prices (on the test dataset) with prices our model predicted, by dates\"},\"xaxis\":{\"title\":{\"text\":\"Date\"}},\"yaxis\":{\"title\":{\"text\":\"Price, USD\"}}},                        {\"responsive\": true}                    ).then(function(){\n",
       "                            \n",
       "var gd = document.getElementById('58aec771-5770-4e30-9ea1-66919b769739');\n",
       "var x = new MutationObserver(function (mutations, observer) {{\n",
       "        var display = window.getComputedStyle(gd).display;\n",
       "        if (!display || display === 'none') {{\n",
       "            console.log([gd, 'removed!']);\n",
       "            Plotly.purge(gd);\n",
       "            observer.disconnect();\n",
       "        }}\n",
       "}});\n",
       "\n",
       "// Listen for the removal of the full notebook cells\n",
       "var notebookContainer = gd.closest('#notebook-container');\n",
       "if (notebookContainer) {{\n",
       "    x.observe(notebookContainer, {childList: true});\n",
       "}}\n",
       "\n",
       "// Listen for the clearing of the current output cell\n",
       "var outputEl = gd.closest('.output');\n",
       "if (outputEl) {{\n",
       "    x.observe(outputEl, {childList: true});\n",
       "}}\n",
       "\n",
       "                        })                };                });            </script>        </div>"
      ]
     },
     "metadata": {},
     "output_type": "display_data"
    }
   ],
   "source": [
    "Test_Dates = Daily_Price[len(Daily_Price)-days_from_train:].index\n",
    "\n",
    "trace1 = go.Scatter(x=Test_Dates, y=Y_test2_inverse, name= 'Actual Price', \n",
    "                   line = dict(color = ('rgb(66, 244, 155)'),width = 2))\n",
    "trace2 = go.Scatter(x=Test_Dates, y=prediction2_inverse, name= 'Predicted Price',\n",
    "                   line = dict(color = ('rgb(244, 146, 65)'),width = 2))\n",
    "data = [trace1, trace2]\n",
    "layout = dict(title = 'Comparison of true prices (on the test dataset) with prices our model predicted, by dates',\n",
    "             xaxis = dict(title = 'Date'), yaxis = dict(title = 'Price, USD'))\n",
    "fig = dict(data=data, layout=layout)\n",
    "py.iplot(fig, filename='results_demonstrating1')"
   ]
  },
  {
   "cell_type": "markdown",
   "metadata": {
    "_cell_guid": "e22df660-fa16-445e-993a-60de28c5c94b",
    "_uuid": "60c5fab473551ab2ee1d71f31d4072c051f497e5"
   },
   "source": [
    "The results we obtained can be improved. For this, we will try the following thing. We get 10 different train and test datasets and train the model on each train test and then test it on the corresponding test dataset. After this, we calculate the RMSE for each pair of train/test dataset. Then we find an average RMSE on all these datasets and subtract this value from each prediction, obtained from our current model. This can improve the performance.\n",
    "\n",
    "We want to demonstrate this approach on the GRU model just to show different models."
   ]
  },
  {
   "cell_type": "markdown",
   "metadata": {
    "_cell_guid": "05e1704d-ec0d-4438-b54b-8379ed6fa23c",
    "_uuid": "cd8a8c76864c4211a5d3b15c9cff9329d030b820"
   },
   "source": [
    "First what we do is to define three functions, which will be acting as subsequent elements in the pipeline. Basically, these functions are very similar to what we do when prepare data and train our previous 2-layers LSTM model."
   ]
  },
  {
   "cell_type": "code",
   "execution_count": 22,
   "metadata": {
    "_cell_guid": "8aba20b1-d14f-41d4-b998-292ce86b749a",
    "_uuid": "3330fc805e6b1a48997e959209924e638a96a0cd"
   },
   "outputs": [],
   "source": [
    "# This function prepares random train/test split, \n",
    "# scales data with MinMaxScaler, create time series labels (Y)\n",
    "def get_split(working_data, n_train, n_test, look_back = 1):\n",
    "    # get a point from which we start to take train dataset and after it - test dataset\n",
    "    start_point = randint(0, (len(working_data)-n_test-n_train))\n",
    "    df_train = working_data[start_point:start_point+n_train]\n",
    "    df_test = working_data[start_point+n_train:start_point+n_train+n_test]\n",
    "\n",
    "    training_set = df_train.values\n",
    "    training_set = np.reshape(training_set, (len(training_set), 1))\n",
    "    test_set = df_test.values\n",
    "    test_set = np.reshape(test_set, (len(test_set), 1))\n",
    "    \n",
    "    # scale datasets\n",
    "    scaler_cv = MinMaxScaler()\n",
    "    training_set = scaler_cv.fit_transform(training_set)\n",
    "    test_set = scaler_cv.transform(test_set)\n",
    "\n",
    "    # create datasets which are suitable for time series forecasting\n",
    "    X_train, Y_train = create_lookback(training_set, look_back)\n",
    "    X_test, Y_test = create_lookback(test_set, look_back)\n",
    "\n",
    "    # reshape datasets so that they will be ok for the requirements of the models in Keras\n",
    "    X_train = np.reshape(X_train, (len(X_train), 1, X_train.shape[1]))\n",
    "    X_test = np.reshape(X_test, (len(X_test), 1, X_test.shape[1]))\n",
    "    \n",
    "    return X_train, Y_train, X_test, Y_test, scaler_cv, start_point\n",
    "\n",
    "# This function takes datasets from the previous function as input and train model using these datasets\n",
    "def train_model(X_train, Y_train, X_test, Y_test):\n",
    "    # initialize sequential model, add bidirectional LSTM layer and densely connected output neuron\n",
    "    model = Sequential()\n",
    "    model.add(GRU(256, input_shape=(X_train.shape[1], X_train.shape[2])))\n",
    "    model.add(Dense(1))\n",
    "    \n",
    "    # compile and fit the model\n",
    "    model.compile(loss='mean_squared_error', optimizer='adam')\n",
    "    model.fit(X_train, Y_train, epochs = 100, batch_size = 16, shuffle = False, \n",
    "                    validation_data=(X_test, Y_test), verbose=0,\n",
    "                    callbacks = [EarlyStopping(monitor='val_loss',min_delta=5e-5,patience=20,verbose=0)])\n",
    "    return model\n",
    "\n",
    "# This function uses trained model and test dataset to calculate RMSE\n",
    "def get_rmse(model, X_test, Y_test, scaler, start_point, working_data, n_train):\n",
    "    # add one additional data point to align shapes of the predictions and true labels\n",
    "    X_test = np.append(X_test, scaler.transform(working_data.iloc[[[start_point+n_train+len(X_test)][0]]]))\n",
    "    X_test = np.reshape(X_test, (len(X_test), 1, 1))\n",
    "    \n",
    "    # get predictions and then make some transformations to be able to calculate RMSE properly in USD\n",
    "    prediction = model.predict(X_test)\n",
    "    prediction_inverse = scaler.inverse_transform(prediction.reshape(-1, 1))\n",
    "    Y_test_inverse = scaler.inverse_transform(Y_test.reshape(-1, 1))\n",
    "    prediction2_inverse = np.array(prediction_inverse[:,0][1:])\n",
    "    Y_test2_inverse = np.array(Y_test_inverse[:,0])\n",
    "    \n",
    "    #calculate RMSE\n",
    "    RMSE = sqrt(mean_squared_error(Y_test2_inverse, prediction2_inverse))\n",
    "    return RMSE, prediction2_inverse"
   ]
  },
  {
   "cell_type": "markdown",
   "metadata": {
    "_cell_guid": "909e984b-61ef-4abf-b65a-891b7d4908c9",
    "_uuid": "06d5746a89836764a1c428b1a584c773f8a288f8"
   },
   "source": [
    "The function below uses all three previous functions to build workflow of calculations and return RMSE and predictions of the model."
   ]
  },
  {
   "cell_type": "code",
   "execution_count": 23,
   "metadata": {
    "_cell_guid": "9123e479-699d-43c3-9d34-48f3ffc0aa78",
    "_uuid": "276d3d0d97c09ec0eaa8a9ffaf6a42a5a0dfab98"
   },
   "outputs": [],
   "source": [
    "def workflow(working_data, get_split, train_model, get_rmse,n_train = 250,n_test = 50,look_back = 1):\n",
    "    X_train, Y_train, X_test, Y_test, scaler, start_point = get_split(working_data, n_train, n_test)\n",
    "    model = train_model(X_train, Y_train, X_test, Y_test)\n",
    "    RMSE, predictions = get_rmse(model, X_test, Y_test, scaler, start_point, working_data, n_train)\n",
    "    return RMSE, predictions"
   ]
  },
  {
   "cell_type": "markdown",
   "metadata": {
    "_cell_guid": "2cf7eb86-7302-4a3a-8a87-3ad6e37dd59c",
    "_uuid": "0e8a965c18bdc163dd4b64aad36da62cb53a59da"
   },
   "source": [
    "Now we can run *workflow* function to calculate RMSE for single GRU model:"
   ]
  },
  {
   "cell_type": "code",
   "execution_count": 24,
   "metadata": {
    "_cell_guid": "e6a94edb-f7ef-4169-8b60-c954ca72fa00",
    "_uuid": "0c521931ebaecc55ec06dc9c2e7c1625e4be0409"
   },
   "outputs": [
    {
     "name": "stdout",
     "output_type": "stream",
     "text": [
      "Test GRU model RMSE: 498.144\n"
     ]
    }
   ],
   "source": [
    "RMSE, predictions = workflow(working_data, get_split, train_model, get_rmse, n_train = 600,n_test = 60)\n",
    "print('Test GRU model RMSE: %.3f' % RMSE)"
   ]
  },
  {
   "cell_type": "code",
   "execution_count": 25,
   "metadata": {
    "_cell_guid": "ddbe71aa-9790-429c-9d14-2eee1b5a1624",
    "_uuid": "153d5a87bd65ceddf75e5e38ff0b231cc3f5ced5"
   },
   "outputs": [],
   "source": [
    "# This function is used to repeat the workflow ten times and to calculate average RMSE\n",
    "def cross_validate(working_data,get_split,train_model,get_rmse,workflow,n_train = 250,n_test = 50,look_back = 1):\n",
    "    rmse_list = []\n",
    "    for i in range(10):\n",
    "        print('Iteration:', i+1)\n",
    "        RMSE, _ = workflow(working_data, get_split, train_model, get_rmse, n_train, n_test, look_back)\n",
    "        rmse_list.append(RMSE)\n",
    "        print('Test RMSE: %.3f' % RMSE)\n",
    "    mean_rmse = np.mean(rmse_list)\n",
    "    return mean_rmse, rmse_list"
   ]
  },
  {
   "cell_type": "markdown",
   "metadata": {
    "_cell_guid": "33b646ec-3fa7-4328-ba16-d3d43f572f92",
    "_uuid": "f6b135efd48b2cb573863d99103b7b4159018ebe"
   },
   "source": [
    "Now we can run *cross_validate* function to trigger calculations:"
   ]
  },
  {
   "cell_type": "code",
   "execution_count": 26,
   "metadata": {
    "_cell_guid": "47f8e6ad-801a-4a9e-b488-303402729c63",
    "_uuid": "2a0a49145e10b4c5f59b447fd5558020d575451d"
   },
   "outputs": [
    {
     "name": "stdout",
     "output_type": "stream",
     "text": [
      "Iteration: 1\n",
      "Test RMSE: 235.969\n",
      "Iteration: 2\n",
      "Test RMSE: 17.707\n",
      "Iteration: 3\n",
      "WARNING:tensorflow:5 out of the last 9 calls to <function Model.make_predict_function.<locals>.predict_function at 0x000001D9DB78BF70> triggered tf.function retracing. Tracing is expensive and the excessive number of tracings could be due to (1) creating @tf.function repeatedly in a loop, (2) passing tensors with different shapes, (3) passing Python objects instead of tensors. For (1), please define your @tf.function outside of the loop. For (2), @tf.function has experimental_relax_shapes=True option that relaxes argument shapes that can avoid unnecessary retracing. For (3), please refer to https://www.tensorflow.org/guide/function#controlling_retracing and https://www.tensorflow.org/api_docs/python/tf/function for  more details.\n",
      "Test RMSE: 653.411\n",
      "Iteration: 4\n",
      "WARNING:tensorflow:6 out of the last 11 calls to <function Model.make_predict_function.<locals>.predict_function at 0x000001D9DB190CA0> triggered tf.function retracing. Tracing is expensive and the excessive number of tracings could be due to (1) creating @tf.function repeatedly in a loop, (2) passing tensors with different shapes, (3) passing Python objects instead of tensors. For (1), please define your @tf.function outside of the loop. For (2), @tf.function has experimental_relax_shapes=True option that relaxes argument shapes that can avoid unnecessary retracing. For (3), please refer to https://www.tensorflow.org/guide/function#controlling_retracing and https://www.tensorflow.org/api_docs/python/tf/function for  more details.\n",
      "Test RMSE: 38.196\n",
      "Iteration: 5\n",
      "Test RMSE: 21.822\n",
      "Iteration: 6\n",
      "Test RMSE: 37.030\n",
      "Iteration: 7\n",
      "Test RMSE: 84.094\n",
      "Iteration: 8\n",
      "Test RMSE: 535.415\n",
      "Iteration: 9\n",
      "Test RMSE: 738.973\n",
      "Iteration: 10\n",
      "Test RMSE: 19.643\n",
      "Average RMSE:  238.22593833037504\n",
      "RMSE list: [235.96925164164816, 17.707232335824088, 653.4109547479782, 38.19577705635143, 21.821766296192386, 37.0296103817378, 84.09402872502227, 535.4147808649309, 738.9733056266298, 19.642675627435356]\n"
     ]
    }
   ],
   "source": [
    "mean_rmse, rmse_list = cross_validate(working_data, get_split, train_model, get_rmse, workflow)\n",
    "print('Average RMSE: ', mean_rmse)\n",
    "print('RMSE list:', rmse_list)"
   ]
  },
  {
   "cell_type": "markdown",
   "metadata": {
    "_cell_guid": "16de6bbf-a980-4c8f-b836-8ad70144f792",
    "_uuid": "fd54fb9db2f28de26b569b97ba3ec83e68f9168e"
   },
   "source": [
    "Next, we subtract the mean RMSE from each prediction our model produced. Then, we recalculate the RMSE for the model. "
   ]
  },
  {
   "cell_type": "code",
   "execution_count": 27,
   "metadata": {
    "_cell_guid": "a1d7bfe6-b0e7-47df-820c-3374d6319b30",
    "_uuid": "e34adc68468dafb199fdeda7d0b26006cd792d02"
   },
   "outputs": [
    {
     "name": "stdout",
     "output_type": "stream",
     "text": [
      "Test GRU model RMSE_new: 266.740\n"
     ]
    }
   ],
   "source": [
    "predictions_new = predictions - mean_rmse\n",
    "\n",
    "RMSE_new = sqrt(mean_squared_error(Y_test2_inverse, predictions_new))\n",
    "print('Test GRU model RMSE_new: %.3f' % RMSE_new)"
   ]
  },
  {
   "cell_type": "markdown",
   "metadata": {
    "_cell_guid": "9b5b364f-b210-4258-999c-767105fac7a1",
    "_uuid": "d8c9f0a79b027224defca42825dbb3e793a5710e"
   },
   "source": [
    "We can see, that the RMSE has been reduced significantly. This means that our experiment was successful. On the plot below you can see the difference between predictions and true test labels."
   ]
  },
  {
   "cell_type": "code",
   "execution_count": 28,
   "metadata": {
    "_cell_guid": "5420e827-cbda-49ed-90ca-ba6d24425c77",
    "_uuid": "4109814c13d0502097828a71729b1a48b87a4f50"
   },
   "outputs": [
    {
     "data": {
      "application/vnd.plotly.v1+json": {
       "config": {
        "linkText": "Export to plot.ly",
        "plotlyServerURL": "https://plot.ly",
        "showLink": false
       },
       "data": [
        {
         "line": {
          "color": "rgb(66, 244, 155)",
          "width": 2
         },
         "name": "Actual Price",
         "type": "scatter",
         "x": [
          "2021-01-30",
          "2021-01-31",
          "2021-02-01",
          "2021-02-02",
          "2021-02-03",
          "2021-02-04",
          "2021-02-05",
          "2021-02-06",
          "2021-02-07",
          "2021-02-08",
          "2021-02-09",
          "2021-02-10",
          "2021-02-11",
          "2021-02-12",
          "2021-02-13",
          "2021-02-14",
          "2021-02-15",
          "2021-02-16",
          "2021-02-17",
          "2021-02-18",
          "2021-02-19",
          "2021-02-20",
          "2021-02-21",
          "2021-02-22",
          "2021-02-23",
          "2021-02-24",
          "2021-02-25",
          "2021-02-26",
          "2021-02-27",
          "2021-02-28",
          "2021-03-01",
          "2021-03-02",
          "2021-03-03",
          "2021-03-04",
          "2021-03-05",
          "2021-03-06",
          "2021-03-07",
          "2021-03-08",
          "2021-03-09",
          "2021-03-10",
          "2021-03-11",
          "2021-03-12",
          "2021-03-13",
          "2021-03-14",
          "2021-03-15",
          "2021-03-16",
          "2021-03-17",
          "2021-03-18",
          "2021-03-19",
          "2021-03-20",
          "2021-03-21",
          "2021-03-22",
          "2021-03-23",
          "2021-03-24",
          "2021-03-25",
          "2021-03-26",
          "2021-03-27",
          "2021-03-28",
          "2021-03-29",
          "2021-03-30",
          "2021-03-31"
         ],
         "y": [
          33705.97519064722,
          34713.69640010833,
          36573.09481030625,
          37541.54813242222,
          37630.04921400487,
          39814.356554572616,
          38711.774555249474,
          41196.61444486648,
          46684.4908495625,
          45798.7337153625,
          46272.21566854444,
          47603.41542011806,
          47273.849919144544,
          48600.491518490235,
          47862.39794598194,
          48845.16600342639,
          50913.92413875069,
          51893.31118121875,
          53083.8791087993,
          56271.28853767917,
          57040.825943830445,
          54708.31202510764,
          48968.83794590833,
          49800.28486888125,
          49985.23481495344,
          46655.92004851875,
          47130.20806015889,
          44818.447552103615,
          47641.53689948158,
          48617.289320901386,
          50429.449015790684,
          49398.25039857084,
          47717.64330027986,
          48371.543537970036,
          50218.21680438112,
          50798.354212407234,
          53980.84726167916,
          55375.366241257994,
          56272.596972013904,
          56826.56003304931,
          58802.60156770642,
          60455.844831486414,
          57507.73450910987,
          55339.80479183195,
          56158.01731986032,
          58472.11732155981,
          58283.54799432522,
          58779.76938655648,
          57312.598536458274,
          56787.14842211057,
          54703.38774047083,
          55123.99385491754,
          52121.68411029951,
          53241.037488505215,
          55193.35725955904,
          55832.95882390712,
          56913.993819261836,
          58346.91226829547,
          58764.349363
         ]
        },
        {
         "line": {
          "color": "rgb(244, 146, 65)",
          "width": 2
         },
         "name": "Predicted Price",
         "type": "scatter",
         "x": [
          "2021-01-30",
          "2021-01-31",
          "2021-02-01",
          "2021-02-02",
          "2021-02-03",
          "2021-02-04",
          "2021-02-05",
          "2021-02-06",
          "2021-02-07",
          "2021-02-08",
          "2021-02-09",
          "2021-02-10",
          "2021-02-11",
          "2021-02-12",
          "2021-02-13",
          "2021-02-14",
          "2021-02-15",
          "2021-02-16",
          "2021-02-17",
          "2021-02-18",
          "2021-02-19",
          "2021-02-20",
          "2021-02-21",
          "2021-02-22",
          "2021-02-23",
          "2021-02-24",
          "2021-02-25",
          "2021-02-26",
          "2021-02-27",
          "2021-02-28",
          "2021-03-01",
          "2021-03-02",
          "2021-03-03",
          "2021-03-04",
          "2021-03-05",
          "2021-03-06",
          "2021-03-07",
          "2021-03-08",
          "2021-03-09",
          "2021-03-10",
          "2021-03-11",
          "2021-03-12",
          "2021-03-13",
          "2021-03-14",
          "2021-03-15",
          "2021-03-16",
          "2021-03-17",
          "2021-03-18",
          "2021-03-19",
          "2021-03-20",
          "2021-03-21",
          "2021-03-22",
          "2021-03-23",
          "2021-03-24",
          "2021-03-25",
          "2021-03-26",
          "2021-03-27",
          "2021-03-28",
          "2021-03-29",
          "2021-03-30",
          "2021-03-31"
         ],
         "y": [
          33764.6796875,
          34780.10546875,
          36655.1640625,
          37632.48046875,
          37721.81640625,
          39927.83984375,
          38814.0234375,
          41324.953125,
          46878.94140625,
          45981.8203125,
          46461.359375,
          47809.90625,
          47476,
          48820.3046875,
          48072.3203125,
          49068.28125,
          51165.5703125,
          52158.77734375,
          53366.38671875,
          56600.421875,
          57381.39453125,
          55014.421875,
          49193.62890625,
          50036.4375,
          50223.9453125,
          46850.01171875,
          47330.46875,
          44989.2578125,
          47848.53125,
          48837.328125,
          50674.3203125,
          49628.8984375,
          47925.6484375,
          48588.2734375,
          50460.16015625,
          51048.37890625,
          54276.33984375,
          55691.26953125,
          56601.75390625,
          57163.94140625,
          59169.4765625,
          60847.5390625,
          57855.25,
          55655.19140625,
          56485.4765625,
          58834.0546875,
          58642.6484375,
          59146.3125,
          57657.20703125,
          57123.94921875,
          55009.42578125,
          55436.203125,
          52390.40625,
          53525.80078125,
          55506.58203125,
          56155.61328125,
          57252.671875,
          58706.97265625,
          59130.65625
         ]
        }
       ],
       "layout": {
        "template": {
         "data": {
          "bar": [
           {
            "error_x": {
             "color": "#2a3f5f"
            },
            "error_y": {
             "color": "#2a3f5f"
            },
            "marker": {
             "line": {
              "color": "#E5ECF6",
              "width": 0.5
             },
             "pattern": {
              "fillmode": "overlay",
              "size": 10,
              "solidity": 0.2
             }
            },
            "type": "bar"
           }
          ],
          "barpolar": [
           {
            "marker": {
             "line": {
              "color": "#E5ECF6",
              "width": 0.5
             },
             "pattern": {
              "fillmode": "overlay",
              "size": 10,
              "solidity": 0.2
             }
            },
            "type": "barpolar"
           }
          ],
          "carpet": [
           {
            "aaxis": {
             "endlinecolor": "#2a3f5f",
             "gridcolor": "white",
             "linecolor": "white",
             "minorgridcolor": "white",
             "startlinecolor": "#2a3f5f"
            },
            "baxis": {
             "endlinecolor": "#2a3f5f",
             "gridcolor": "white",
             "linecolor": "white",
             "minorgridcolor": "white",
             "startlinecolor": "#2a3f5f"
            },
            "type": "carpet"
           }
          ],
          "choropleth": [
           {
            "colorbar": {
             "outlinewidth": 0,
             "ticks": ""
            },
            "type": "choropleth"
           }
          ],
          "contour": [
           {
            "colorbar": {
             "outlinewidth": 0,
             "ticks": ""
            },
            "colorscale": [
             [
              0,
              "#0d0887"
             ],
             [
              0.1111111111111111,
              "#46039f"
             ],
             [
              0.2222222222222222,
              "#7201a8"
             ],
             [
              0.3333333333333333,
              "#9c179e"
             ],
             [
              0.4444444444444444,
              "#bd3786"
             ],
             [
              0.5555555555555556,
              "#d8576b"
             ],
             [
              0.6666666666666666,
              "#ed7953"
             ],
             [
              0.7777777777777778,
              "#fb9f3a"
             ],
             [
              0.8888888888888888,
              "#fdca26"
             ],
             [
              1,
              "#f0f921"
             ]
            ],
            "type": "contour"
           }
          ],
          "contourcarpet": [
           {
            "colorbar": {
             "outlinewidth": 0,
             "ticks": ""
            },
            "type": "contourcarpet"
           }
          ],
          "heatmap": [
           {
            "colorbar": {
             "outlinewidth": 0,
             "ticks": ""
            },
            "colorscale": [
             [
              0,
              "#0d0887"
             ],
             [
              0.1111111111111111,
              "#46039f"
             ],
             [
              0.2222222222222222,
              "#7201a8"
             ],
             [
              0.3333333333333333,
              "#9c179e"
             ],
             [
              0.4444444444444444,
              "#bd3786"
             ],
             [
              0.5555555555555556,
              "#d8576b"
             ],
             [
              0.6666666666666666,
              "#ed7953"
             ],
             [
              0.7777777777777778,
              "#fb9f3a"
             ],
             [
              0.8888888888888888,
              "#fdca26"
             ],
             [
              1,
              "#f0f921"
             ]
            ],
            "type": "heatmap"
           }
          ],
          "heatmapgl": [
           {
            "colorbar": {
             "outlinewidth": 0,
             "ticks": ""
            },
            "colorscale": [
             [
              0,
              "#0d0887"
             ],
             [
              0.1111111111111111,
              "#46039f"
             ],
             [
              0.2222222222222222,
              "#7201a8"
             ],
             [
              0.3333333333333333,
              "#9c179e"
             ],
             [
              0.4444444444444444,
              "#bd3786"
             ],
             [
              0.5555555555555556,
              "#d8576b"
             ],
             [
              0.6666666666666666,
              "#ed7953"
             ],
             [
              0.7777777777777778,
              "#fb9f3a"
             ],
             [
              0.8888888888888888,
              "#fdca26"
             ],
             [
              1,
              "#f0f921"
             ]
            ],
            "type": "heatmapgl"
           }
          ],
          "histogram": [
           {
            "marker": {
             "pattern": {
              "fillmode": "overlay",
              "size": 10,
              "solidity": 0.2
             }
            },
            "type": "histogram"
           }
          ],
          "histogram2d": [
           {
            "colorbar": {
             "outlinewidth": 0,
             "ticks": ""
            },
            "colorscale": [
             [
              0,
              "#0d0887"
             ],
             [
              0.1111111111111111,
              "#46039f"
             ],
             [
              0.2222222222222222,
              "#7201a8"
             ],
             [
              0.3333333333333333,
              "#9c179e"
             ],
             [
              0.4444444444444444,
              "#bd3786"
             ],
             [
              0.5555555555555556,
              "#d8576b"
             ],
             [
              0.6666666666666666,
              "#ed7953"
             ],
             [
              0.7777777777777778,
              "#fb9f3a"
             ],
             [
              0.8888888888888888,
              "#fdca26"
             ],
             [
              1,
              "#f0f921"
             ]
            ],
            "type": "histogram2d"
           }
          ],
          "histogram2dcontour": [
           {
            "colorbar": {
             "outlinewidth": 0,
             "ticks": ""
            },
            "colorscale": [
             [
              0,
              "#0d0887"
             ],
             [
              0.1111111111111111,
              "#46039f"
             ],
             [
              0.2222222222222222,
              "#7201a8"
             ],
             [
              0.3333333333333333,
              "#9c179e"
             ],
             [
              0.4444444444444444,
              "#bd3786"
             ],
             [
              0.5555555555555556,
              "#d8576b"
             ],
             [
              0.6666666666666666,
              "#ed7953"
             ],
             [
              0.7777777777777778,
              "#fb9f3a"
             ],
             [
              0.8888888888888888,
              "#fdca26"
             ],
             [
              1,
              "#f0f921"
             ]
            ],
            "type": "histogram2dcontour"
           }
          ],
          "mesh3d": [
           {
            "colorbar": {
             "outlinewidth": 0,
             "ticks": ""
            },
            "type": "mesh3d"
           }
          ],
          "parcoords": [
           {
            "line": {
             "colorbar": {
              "outlinewidth": 0,
              "ticks": ""
             }
            },
            "type": "parcoords"
           }
          ],
          "pie": [
           {
            "automargin": true,
            "type": "pie"
           }
          ],
          "scatter": [
           {
            "fillpattern": {
             "fillmode": "overlay",
             "size": 10,
             "solidity": 0.2
            },
            "type": "scatter"
           }
          ],
          "scatter3d": [
           {
            "line": {
             "colorbar": {
              "outlinewidth": 0,
              "ticks": ""
             }
            },
            "marker": {
             "colorbar": {
              "outlinewidth": 0,
              "ticks": ""
             }
            },
            "type": "scatter3d"
           }
          ],
          "scattercarpet": [
           {
            "marker": {
             "colorbar": {
              "outlinewidth": 0,
              "ticks": ""
             }
            },
            "type": "scattercarpet"
           }
          ],
          "scattergeo": [
           {
            "marker": {
             "colorbar": {
              "outlinewidth": 0,
              "ticks": ""
             }
            },
            "type": "scattergeo"
           }
          ],
          "scattergl": [
           {
            "marker": {
             "colorbar": {
              "outlinewidth": 0,
              "ticks": ""
             }
            },
            "type": "scattergl"
           }
          ],
          "scattermapbox": [
           {
            "marker": {
             "colorbar": {
              "outlinewidth": 0,
              "ticks": ""
             }
            },
            "type": "scattermapbox"
           }
          ],
          "scatterpolar": [
           {
            "marker": {
             "colorbar": {
              "outlinewidth": 0,
              "ticks": ""
             }
            },
            "type": "scatterpolar"
           }
          ],
          "scatterpolargl": [
           {
            "marker": {
             "colorbar": {
              "outlinewidth": 0,
              "ticks": ""
             }
            },
            "type": "scatterpolargl"
           }
          ],
          "scatterternary": [
           {
            "marker": {
             "colorbar": {
              "outlinewidth": 0,
              "ticks": ""
             }
            },
            "type": "scatterternary"
           }
          ],
          "surface": [
           {
            "colorbar": {
             "outlinewidth": 0,
             "ticks": ""
            },
            "colorscale": [
             [
              0,
              "#0d0887"
             ],
             [
              0.1111111111111111,
              "#46039f"
             ],
             [
              0.2222222222222222,
              "#7201a8"
             ],
             [
              0.3333333333333333,
              "#9c179e"
             ],
             [
              0.4444444444444444,
              "#bd3786"
             ],
             [
              0.5555555555555556,
              "#d8576b"
             ],
             [
              0.6666666666666666,
              "#ed7953"
             ],
             [
              0.7777777777777778,
              "#fb9f3a"
             ],
             [
              0.8888888888888888,
              "#fdca26"
             ],
             [
              1,
              "#f0f921"
             ]
            ],
            "type": "surface"
           }
          ],
          "table": [
           {
            "cells": {
             "fill": {
              "color": "#EBF0F8"
             },
             "line": {
              "color": "white"
             }
            },
            "header": {
             "fill": {
              "color": "#C8D4E3"
             },
             "line": {
              "color": "white"
             }
            },
            "type": "table"
           }
          ]
         },
         "layout": {
          "annotationdefaults": {
           "arrowcolor": "#2a3f5f",
           "arrowhead": 0,
           "arrowwidth": 1
          },
          "autotypenumbers": "strict",
          "coloraxis": {
           "colorbar": {
            "outlinewidth": 0,
            "ticks": ""
           }
          },
          "colorscale": {
           "diverging": [
            [
             0,
             "#8e0152"
            ],
            [
             0.1,
             "#c51b7d"
            ],
            [
             0.2,
             "#de77ae"
            ],
            [
             0.3,
             "#f1b6da"
            ],
            [
             0.4,
             "#fde0ef"
            ],
            [
             0.5,
             "#f7f7f7"
            ],
            [
             0.6,
             "#e6f5d0"
            ],
            [
             0.7,
             "#b8e186"
            ],
            [
             0.8,
             "#7fbc41"
            ],
            [
             0.9,
             "#4d9221"
            ],
            [
             1,
             "#276419"
            ]
           ],
           "sequential": [
            [
             0,
             "#0d0887"
            ],
            [
             0.1111111111111111,
             "#46039f"
            ],
            [
             0.2222222222222222,
             "#7201a8"
            ],
            [
             0.3333333333333333,
             "#9c179e"
            ],
            [
             0.4444444444444444,
             "#bd3786"
            ],
            [
             0.5555555555555556,
             "#d8576b"
            ],
            [
             0.6666666666666666,
             "#ed7953"
            ],
            [
             0.7777777777777778,
             "#fb9f3a"
            ],
            [
             0.8888888888888888,
             "#fdca26"
            ],
            [
             1,
             "#f0f921"
            ]
           ],
           "sequentialminus": [
            [
             0,
             "#0d0887"
            ],
            [
             0.1111111111111111,
             "#46039f"
            ],
            [
             0.2222222222222222,
             "#7201a8"
            ],
            [
             0.3333333333333333,
             "#9c179e"
            ],
            [
             0.4444444444444444,
             "#bd3786"
            ],
            [
             0.5555555555555556,
             "#d8576b"
            ],
            [
             0.6666666666666666,
             "#ed7953"
            ],
            [
             0.7777777777777778,
             "#fb9f3a"
            ],
            [
             0.8888888888888888,
             "#fdca26"
            ],
            [
             1,
             "#f0f921"
            ]
           ]
          },
          "colorway": [
           "#636efa",
           "#EF553B",
           "#00cc96",
           "#ab63fa",
           "#FFA15A",
           "#19d3f3",
           "#FF6692",
           "#B6E880",
           "#FF97FF",
           "#FECB52"
          ],
          "font": {
           "color": "#2a3f5f"
          },
          "geo": {
           "bgcolor": "white",
           "lakecolor": "white",
           "landcolor": "#E5ECF6",
           "showlakes": true,
           "showland": true,
           "subunitcolor": "white"
          },
          "hoverlabel": {
           "align": "left"
          },
          "hovermode": "closest",
          "mapbox": {
           "style": "light"
          },
          "paper_bgcolor": "white",
          "plot_bgcolor": "#E5ECF6",
          "polar": {
           "angularaxis": {
            "gridcolor": "white",
            "linecolor": "white",
            "ticks": ""
           },
           "bgcolor": "#E5ECF6",
           "radialaxis": {
            "gridcolor": "white",
            "linecolor": "white",
            "ticks": ""
           }
          },
          "scene": {
           "xaxis": {
            "backgroundcolor": "#E5ECF6",
            "gridcolor": "white",
            "gridwidth": 2,
            "linecolor": "white",
            "showbackground": true,
            "ticks": "",
            "zerolinecolor": "white"
           },
           "yaxis": {
            "backgroundcolor": "#E5ECF6",
            "gridcolor": "white",
            "gridwidth": 2,
            "linecolor": "white",
            "showbackground": true,
            "ticks": "",
            "zerolinecolor": "white"
           },
           "zaxis": {
            "backgroundcolor": "#E5ECF6",
            "gridcolor": "white",
            "gridwidth": 2,
            "linecolor": "white",
            "showbackground": true,
            "ticks": "",
            "zerolinecolor": "white"
           }
          },
          "shapedefaults": {
           "line": {
            "color": "#2a3f5f"
           }
          },
          "ternary": {
           "aaxis": {
            "gridcolor": "white",
            "linecolor": "white",
            "ticks": ""
           },
           "baxis": {
            "gridcolor": "white",
            "linecolor": "white",
            "ticks": ""
           },
           "bgcolor": "#E5ECF6",
           "caxis": {
            "gridcolor": "white",
            "linecolor": "white",
            "ticks": ""
           }
          },
          "title": {
           "x": 0.05
          },
          "xaxis": {
           "automargin": true,
           "gridcolor": "white",
           "linecolor": "white",
           "ticks": "",
           "title": {
            "standoff": 15
           },
           "zerolinecolor": "white",
           "zerolinewidth": 2
          },
          "yaxis": {
           "automargin": true,
           "gridcolor": "white",
           "linecolor": "white",
           "ticks": "",
           "title": {
            "standoff": 15
           },
           "zerolinecolor": "white",
           "zerolinewidth": 2
          }
         }
        },
        "title": {
         "text": "Comparison of true prices (on the test dataset) with prices our model predicted, by dates"
        },
        "xaxis": {
         "title": {
          "text": "Date"
         }
        },
        "yaxis": {
         "title": {
          "text": "Price, USD"
         }
        }
       }
      },
      "text/html": [
       "<div>                            <div id=\"79cf0b2b-a242-489e-a938-cd1647ce9c00\" class=\"plotly-graph-div\" style=\"height:525px; width:100%;\"></div>            <script type=\"text/javascript\">                require([\"plotly\"], function(Plotly) {                    window.PLOTLYENV=window.PLOTLYENV || {};                                    if (document.getElementById(\"79cf0b2b-a242-489e-a938-cd1647ce9c00\")) {                    Plotly.newPlot(                        \"79cf0b2b-a242-489e-a938-cd1647ce9c00\",                        [{\"line\":{\"color\":\"rgb(66, 244, 155)\",\"width\":2},\"name\":\"Actual Price\",\"x\":[\"2021-01-30\",\"2021-01-31\",\"2021-02-01\",\"2021-02-02\",\"2021-02-03\",\"2021-02-04\",\"2021-02-05\",\"2021-02-06\",\"2021-02-07\",\"2021-02-08\",\"2021-02-09\",\"2021-02-10\",\"2021-02-11\",\"2021-02-12\",\"2021-02-13\",\"2021-02-14\",\"2021-02-15\",\"2021-02-16\",\"2021-02-17\",\"2021-02-18\",\"2021-02-19\",\"2021-02-20\",\"2021-02-21\",\"2021-02-22\",\"2021-02-23\",\"2021-02-24\",\"2021-02-25\",\"2021-02-26\",\"2021-02-27\",\"2021-02-28\",\"2021-03-01\",\"2021-03-02\",\"2021-03-03\",\"2021-03-04\",\"2021-03-05\",\"2021-03-06\",\"2021-03-07\",\"2021-03-08\",\"2021-03-09\",\"2021-03-10\",\"2021-03-11\",\"2021-03-12\",\"2021-03-13\",\"2021-03-14\",\"2021-03-15\",\"2021-03-16\",\"2021-03-17\",\"2021-03-18\",\"2021-03-19\",\"2021-03-20\",\"2021-03-21\",\"2021-03-22\",\"2021-03-23\",\"2021-03-24\",\"2021-03-25\",\"2021-03-26\",\"2021-03-27\",\"2021-03-28\",\"2021-03-29\",\"2021-03-30\",\"2021-03-31\"],\"y\":[33705.97519064722,34713.69640010833,36573.09481030625,37541.54813242222,37630.04921400487,39814.356554572616,38711.774555249474,41196.61444486648,46684.4908495625,45798.7337153625,46272.21566854444,47603.41542011806,47273.849919144544,48600.491518490235,47862.39794598194,48845.16600342639,50913.92413875069,51893.31118121875,53083.8791087993,56271.28853767917,57040.825943830445,54708.31202510764,48968.83794590833,49800.28486888125,49985.23481495344,46655.92004851875,47130.20806015889,44818.447552103615,47641.53689948158,48617.289320901386,50429.449015790684,49398.25039857084,47717.64330027986,48371.543537970036,50218.21680438112,50798.354212407234,53980.84726167916,55375.366241257994,56272.596972013904,56826.56003304931,58802.60156770642,60455.844831486414,57507.73450910987,55339.80479183195,56158.01731986032,58472.11732155981,58283.54799432522,58779.76938655648,57312.598536458274,56787.14842211057,54703.38774047083,55123.99385491754,52121.68411029951,53241.037488505215,55193.35725955904,55832.95882390712,56913.993819261836,58346.91226829547,58764.349363],\"type\":\"scatter\"},{\"line\":{\"color\":\"rgb(244, 146, 65)\",\"width\":2},\"name\":\"Predicted Price\",\"x\":[\"2021-01-30\",\"2021-01-31\",\"2021-02-01\",\"2021-02-02\",\"2021-02-03\",\"2021-02-04\",\"2021-02-05\",\"2021-02-06\",\"2021-02-07\",\"2021-02-08\",\"2021-02-09\",\"2021-02-10\",\"2021-02-11\",\"2021-02-12\",\"2021-02-13\",\"2021-02-14\",\"2021-02-15\",\"2021-02-16\",\"2021-02-17\",\"2021-02-18\",\"2021-02-19\",\"2021-02-20\",\"2021-02-21\",\"2021-02-22\",\"2021-02-23\",\"2021-02-24\",\"2021-02-25\",\"2021-02-26\",\"2021-02-27\",\"2021-02-28\",\"2021-03-01\",\"2021-03-02\",\"2021-03-03\",\"2021-03-04\",\"2021-03-05\",\"2021-03-06\",\"2021-03-07\",\"2021-03-08\",\"2021-03-09\",\"2021-03-10\",\"2021-03-11\",\"2021-03-12\",\"2021-03-13\",\"2021-03-14\",\"2021-03-15\",\"2021-03-16\",\"2021-03-17\",\"2021-03-18\",\"2021-03-19\",\"2021-03-20\",\"2021-03-21\",\"2021-03-22\",\"2021-03-23\",\"2021-03-24\",\"2021-03-25\",\"2021-03-26\",\"2021-03-27\",\"2021-03-28\",\"2021-03-29\",\"2021-03-30\",\"2021-03-31\"],\"y\":[33764.6796875,34780.10546875,36655.1640625,37632.48046875,37721.81640625,39927.83984375,38814.0234375,41324.953125,46878.94140625,45981.8203125,46461.359375,47809.90625,47476.0,48820.3046875,48072.3203125,49068.28125,51165.5703125,52158.77734375,53366.38671875,56600.421875,57381.39453125,55014.421875,49193.62890625,50036.4375,50223.9453125,46850.01171875,47330.46875,44989.2578125,47848.53125,48837.328125,50674.3203125,49628.8984375,47925.6484375,48588.2734375,50460.16015625,51048.37890625,54276.33984375,55691.26953125,56601.75390625,57163.94140625,59169.4765625,60847.5390625,57855.25,55655.19140625,56485.4765625,58834.0546875,58642.6484375,59146.3125,57657.20703125,57123.94921875,55009.42578125,55436.203125,52390.40625,53525.80078125,55506.58203125,56155.61328125,57252.671875,58706.97265625,59130.65625],\"type\":\"scatter\"}],                        {\"template\":{\"data\":{\"barpolar\":[{\"marker\":{\"line\":{\"color\":\"#E5ECF6\",\"width\":0.5},\"pattern\":{\"fillmode\":\"overlay\",\"size\":10,\"solidity\":0.2}},\"type\":\"barpolar\"}],\"bar\":[{\"error_x\":{\"color\":\"#2a3f5f\"},\"error_y\":{\"color\":\"#2a3f5f\"},\"marker\":{\"line\":{\"color\":\"#E5ECF6\",\"width\":0.5},\"pattern\":{\"fillmode\":\"overlay\",\"size\":10,\"solidity\":0.2}},\"type\":\"bar\"}],\"carpet\":[{\"aaxis\":{\"endlinecolor\":\"#2a3f5f\",\"gridcolor\":\"white\",\"linecolor\":\"white\",\"minorgridcolor\":\"white\",\"startlinecolor\":\"#2a3f5f\"},\"baxis\":{\"endlinecolor\":\"#2a3f5f\",\"gridcolor\":\"white\",\"linecolor\":\"white\",\"minorgridcolor\":\"white\",\"startlinecolor\":\"#2a3f5f\"},\"type\":\"carpet\"}],\"choropleth\":[{\"colorbar\":{\"outlinewidth\":0,\"ticks\":\"\"},\"type\":\"choropleth\"}],\"contourcarpet\":[{\"colorbar\":{\"outlinewidth\":0,\"ticks\":\"\"},\"type\":\"contourcarpet\"}],\"contour\":[{\"colorbar\":{\"outlinewidth\":0,\"ticks\":\"\"},\"colorscale\":[[0.0,\"#0d0887\"],[0.1111111111111111,\"#46039f\"],[0.2222222222222222,\"#7201a8\"],[0.3333333333333333,\"#9c179e\"],[0.4444444444444444,\"#bd3786\"],[0.5555555555555556,\"#d8576b\"],[0.6666666666666666,\"#ed7953\"],[0.7777777777777778,\"#fb9f3a\"],[0.8888888888888888,\"#fdca26\"],[1.0,\"#f0f921\"]],\"type\":\"contour\"}],\"heatmapgl\":[{\"colorbar\":{\"outlinewidth\":0,\"ticks\":\"\"},\"colorscale\":[[0.0,\"#0d0887\"],[0.1111111111111111,\"#46039f\"],[0.2222222222222222,\"#7201a8\"],[0.3333333333333333,\"#9c179e\"],[0.4444444444444444,\"#bd3786\"],[0.5555555555555556,\"#d8576b\"],[0.6666666666666666,\"#ed7953\"],[0.7777777777777778,\"#fb9f3a\"],[0.8888888888888888,\"#fdca26\"],[1.0,\"#f0f921\"]],\"type\":\"heatmapgl\"}],\"heatmap\":[{\"colorbar\":{\"outlinewidth\":0,\"ticks\":\"\"},\"colorscale\":[[0.0,\"#0d0887\"],[0.1111111111111111,\"#46039f\"],[0.2222222222222222,\"#7201a8\"],[0.3333333333333333,\"#9c179e\"],[0.4444444444444444,\"#bd3786\"],[0.5555555555555556,\"#d8576b\"],[0.6666666666666666,\"#ed7953\"],[0.7777777777777778,\"#fb9f3a\"],[0.8888888888888888,\"#fdca26\"],[1.0,\"#f0f921\"]],\"type\":\"heatmap\"}],\"histogram2dcontour\":[{\"colorbar\":{\"outlinewidth\":0,\"ticks\":\"\"},\"colorscale\":[[0.0,\"#0d0887\"],[0.1111111111111111,\"#46039f\"],[0.2222222222222222,\"#7201a8\"],[0.3333333333333333,\"#9c179e\"],[0.4444444444444444,\"#bd3786\"],[0.5555555555555556,\"#d8576b\"],[0.6666666666666666,\"#ed7953\"],[0.7777777777777778,\"#fb9f3a\"],[0.8888888888888888,\"#fdca26\"],[1.0,\"#f0f921\"]],\"type\":\"histogram2dcontour\"}],\"histogram2d\":[{\"colorbar\":{\"outlinewidth\":0,\"ticks\":\"\"},\"colorscale\":[[0.0,\"#0d0887\"],[0.1111111111111111,\"#46039f\"],[0.2222222222222222,\"#7201a8\"],[0.3333333333333333,\"#9c179e\"],[0.4444444444444444,\"#bd3786\"],[0.5555555555555556,\"#d8576b\"],[0.6666666666666666,\"#ed7953\"],[0.7777777777777778,\"#fb9f3a\"],[0.8888888888888888,\"#fdca26\"],[1.0,\"#f0f921\"]],\"type\":\"histogram2d\"}],\"histogram\":[{\"marker\":{\"pattern\":{\"fillmode\":\"overlay\",\"size\":10,\"solidity\":0.2}},\"type\":\"histogram\"}],\"mesh3d\":[{\"colorbar\":{\"outlinewidth\":0,\"ticks\":\"\"},\"type\":\"mesh3d\"}],\"parcoords\":[{\"line\":{\"colorbar\":{\"outlinewidth\":0,\"ticks\":\"\"}},\"type\":\"parcoords\"}],\"pie\":[{\"automargin\":true,\"type\":\"pie\"}],\"scatter3d\":[{\"line\":{\"colorbar\":{\"outlinewidth\":0,\"ticks\":\"\"}},\"marker\":{\"colorbar\":{\"outlinewidth\":0,\"ticks\":\"\"}},\"type\":\"scatter3d\"}],\"scattercarpet\":[{\"marker\":{\"colorbar\":{\"outlinewidth\":0,\"ticks\":\"\"}},\"type\":\"scattercarpet\"}],\"scattergeo\":[{\"marker\":{\"colorbar\":{\"outlinewidth\":0,\"ticks\":\"\"}},\"type\":\"scattergeo\"}],\"scattergl\":[{\"marker\":{\"colorbar\":{\"outlinewidth\":0,\"ticks\":\"\"}},\"type\":\"scattergl\"}],\"scattermapbox\":[{\"marker\":{\"colorbar\":{\"outlinewidth\":0,\"ticks\":\"\"}},\"type\":\"scattermapbox\"}],\"scatterpolargl\":[{\"marker\":{\"colorbar\":{\"outlinewidth\":0,\"ticks\":\"\"}},\"type\":\"scatterpolargl\"}],\"scatterpolar\":[{\"marker\":{\"colorbar\":{\"outlinewidth\":0,\"ticks\":\"\"}},\"type\":\"scatterpolar\"}],\"scatter\":[{\"fillpattern\":{\"fillmode\":\"overlay\",\"size\":10,\"solidity\":0.2},\"type\":\"scatter\"}],\"scatterternary\":[{\"marker\":{\"colorbar\":{\"outlinewidth\":0,\"ticks\":\"\"}},\"type\":\"scatterternary\"}],\"surface\":[{\"colorbar\":{\"outlinewidth\":0,\"ticks\":\"\"},\"colorscale\":[[0.0,\"#0d0887\"],[0.1111111111111111,\"#46039f\"],[0.2222222222222222,\"#7201a8\"],[0.3333333333333333,\"#9c179e\"],[0.4444444444444444,\"#bd3786\"],[0.5555555555555556,\"#d8576b\"],[0.6666666666666666,\"#ed7953\"],[0.7777777777777778,\"#fb9f3a\"],[0.8888888888888888,\"#fdca26\"],[1.0,\"#f0f921\"]],\"type\":\"surface\"}],\"table\":[{\"cells\":{\"fill\":{\"color\":\"#EBF0F8\"},\"line\":{\"color\":\"white\"}},\"header\":{\"fill\":{\"color\":\"#C8D4E3\"},\"line\":{\"color\":\"white\"}},\"type\":\"table\"}]},\"layout\":{\"annotationdefaults\":{\"arrowcolor\":\"#2a3f5f\",\"arrowhead\":0,\"arrowwidth\":1},\"autotypenumbers\":\"strict\",\"coloraxis\":{\"colorbar\":{\"outlinewidth\":0,\"ticks\":\"\"}},\"colorscale\":{\"diverging\":[[0,\"#8e0152\"],[0.1,\"#c51b7d\"],[0.2,\"#de77ae\"],[0.3,\"#f1b6da\"],[0.4,\"#fde0ef\"],[0.5,\"#f7f7f7\"],[0.6,\"#e6f5d0\"],[0.7,\"#b8e186\"],[0.8,\"#7fbc41\"],[0.9,\"#4d9221\"],[1,\"#276419\"]],\"sequential\":[[0.0,\"#0d0887\"],[0.1111111111111111,\"#46039f\"],[0.2222222222222222,\"#7201a8\"],[0.3333333333333333,\"#9c179e\"],[0.4444444444444444,\"#bd3786\"],[0.5555555555555556,\"#d8576b\"],[0.6666666666666666,\"#ed7953\"],[0.7777777777777778,\"#fb9f3a\"],[0.8888888888888888,\"#fdca26\"],[1.0,\"#f0f921\"]],\"sequentialminus\":[[0.0,\"#0d0887\"],[0.1111111111111111,\"#46039f\"],[0.2222222222222222,\"#7201a8\"],[0.3333333333333333,\"#9c179e\"],[0.4444444444444444,\"#bd3786\"],[0.5555555555555556,\"#d8576b\"],[0.6666666666666666,\"#ed7953\"],[0.7777777777777778,\"#fb9f3a\"],[0.8888888888888888,\"#fdca26\"],[1.0,\"#f0f921\"]]},\"colorway\":[\"#636efa\",\"#EF553B\",\"#00cc96\",\"#ab63fa\",\"#FFA15A\",\"#19d3f3\",\"#FF6692\",\"#B6E880\",\"#FF97FF\",\"#FECB52\"],\"font\":{\"color\":\"#2a3f5f\"},\"geo\":{\"bgcolor\":\"white\",\"lakecolor\":\"white\",\"landcolor\":\"#E5ECF6\",\"showlakes\":true,\"showland\":true,\"subunitcolor\":\"white\"},\"hoverlabel\":{\"align\":\"left\"},\"hovermode\":\"closest\",\"mapbox\":{\"style\":\"light\"},\"paper_bgcolor\":\"white\",\"plot_bgcolor\":\"#E5ECF6\",\"polar\":{\"angularaxis\":{\"gridcolor\":\"white\",\"linecolor\":\"white\",\"ticks\":\"\"},\"bgcolor\":\"#E5ECF6\",\"radialaxis\":{\"gridcolor\":\"white\",\"linecolor\":\"white\",\"ticks\":\"\"}},\"scene\":{\"xaxis\":{\"backgroundcolor\":\"#E5ECF6\",\"gridcolor\":\"white\",\"gridwidth\":2,\"linecolor\":\"white\",\"showbackground\":true,\"ticks\":\"\",\"zerolinecolor\":\"white\"},\"yaxis\":{\"backgroundcolor\":\"#E5ECF6\",\"gridcolor\":\"white\",\"gridwidth\":2,\"linecolor\":\"white\",\"showbackground\":true,\"ticks\":\"\",\"zerolinecolor\":\"white\"},\"zaxis\":{\"backgroundcolor\":\"#E5ECF6\",\"gridcolor\":\"white\",\"gridwidth\":2,\"linecolor\":\"white\",\"showbackground\":true,\"ticks\":\"\",\"zerolinecolor\":\"white\"}},\"shapedefaults\":{\"line\":{\"color\":\"#2a3f5f\"}},\"ternary\":{\"aaxis\":{\"gridcolor\":\"white\",\"linecolor\":\"white\",\"ticks\":\"\"},\"baxis\":{\"gridcolor\":\"white\",\"linecolor\":\"white\",\"ticks\":\"\"},\"bgcolor\":\"#E5ECF6\",\"caxis\":{\"gridcolor\":\"white\",\"linecolor\":\"white\",\"ticks\":\"\"}},\"title\":{\"x\":0.05},\"xaxis\":{\"automargin\":true,\"gridcolor\":\"white\",\"linecolor\":\"white\",\"ticks\":\"\",\"title\":{\"standoff\":15},\"zerolinecolor\":\"white\",\"zerolinewidth\":2},\"yaxis\":{\"automargin\":true,\"gridcolor\":\"white\",\"linecolor\":\"white\",\"ticks\":\"\",\"title\":{\"standoff\":15},\"zerolinecolor\":\"white\",\"zerolinewidth\":2}}},\"title\":{\"text\":\"Comparison of true prices (on the test dataset) with prices our model predicted, by dates\"},\"xaxis\":{\"title\":{\"text\":\"Date\"}},\"yaxis\":{\"title\":{\"text\":\"Price, USD\"}}},                        {\"responsive\": true}                    ).then(function(){\n",
       "                            \n",
       "var gd = document.getElementById('79cf0b2b-a242-489e-a938-cd1647ce9c00');\n",
       "var x = new MutationObserver(function (mutations, observer) {{\n",
       "        var display = window.getComputedStyle(gd).display;\n",
       "        if (!display || display === 'none') {{\n",
       "            console.log([gd, 'removed!']);\n",
       "            Plotly.purge(gd);\n",
       "            observer.disconnect();\n",
       "        }}\n",
       "}});\n",
       "\n",
       "// Listen for the removal of the full notebook cells\n",
       "var notebookContainer = gd.closest('#notebook-container');\n",
       "if (notebookContainer) {{\n",
       "    x.observe(notebookContainer, {childList: true});\n",
       "}}\n",
       "\n",
       "// Listen for the clearing of the current output cell\n",
       "var outputEl = gd.closest('.output');\n",
       "if (outputEl) {{\n",
       "    x.observe(outputEl, {childList: true});\n",
       "}}\n",
       "\n",
       "                        })                };                });            </script>        </div>"
      ]
     },
     "metadata": {},
     "output_type": "display_data"
    }
   ],
   "source": [
    "trace1 = go.Scatter(x=Test_Dates, y=Y_test2_inverse, name= 'Actual Price', \n",
    "                   line = dict(color = ('rgb(66, 244, 155)'),width = 2))\n",
    "trace2 = go.Scatter(x=Test_Dates, y=predictions_new, name= 'Predicted Price',\n",
    "                   line = dict(color = ('rgb(244, 146, 65)'),width = 2))\n",
    "data = [trace1, trace2]\n",
    "layout = dict(title = 'Comparison of true prices (on the test dataset) with prices our model predicted, by dates',\n",
    "             xaxis = dict(title = 'Date'), yaxis = dict(title = 'Price, USD'))\n",
    "fig = dict(data=data, layout=layout)\n",
    "py.iplot(fig, filename='results_demonstrating2')"
   ]
  },
  {
   "cell_type": "markdown",
   "metadata": {
    "_cell_guid": "2d019594-10af-4bb5-b259-3397a49a5640",
    "_uuid": "e1578f88ce7d3c629d5733ff883e44f1bdf9936e"
   },
   "source": [
    "Let's calculate symmetric mean absolute percentage error ([SMAPE](https://en.wikipedia.org/wiki/Symmetric_mean_absolute_percentage_error)). It will show how good our predictions are in percentage. We define function *symmetric_mean_absolute_percentage_error*, which will perform all necessary calculations."
   ]
  },
  {
   "cell_type": "code",
   "execution_count": 29,
   "metadata": {
    "_cell_guid": "47bfa79a-cb13-4e44-9959-f8841047f586",
    "_uuid": "8e7a59564e01570a0fed588c04ef446b5e5b440e"
   },
   "outputs": [
    {
     "name": "stdout",
     "output_type": "stream",
     "text": [
      "Test SMAPE (percentage): 0.482\n"
     ]
    }
   ],
   "source": [
    "def symmetric_mean_absolute_percentage_error(y_true, y_pred, epsilon = 1e-8): \n",
    "    return np.mean(np.abs(y_pred - y_true) / ((np.abs(y_true) + np.abs(y_pred))/2 + epsilon)) * 100\n",
    "\n",
    "SMAPE = symmetric_mean_absolute_percentage_error(Y_test2_inverse, predictions_new)\n",
    "\n",
    "print('Test SMAPE (percentage): %.3f' % SMAPE)"
   ]
  },
  {
   "cell_type": "markdown",
   "metadata": {
    "_cell_guid": "8f8bae5c-d62a-45f0-859c-90815619d276",
    "_uuid": "93ef101715979d4ea2f7d34f33eede05ef10296a"
   },
   "source": [
    "We can see that our SMAPE is less than 1%, which means that the error of our model is very small. "
   ]
  },
  {
   "cell_type": "markdown",
   "metadata": {
    "_cell_guid": "818fd64b-e427-4e82-bd27-dc02142ca14d",
    "_uuid": "707f32b5e7d08b920158d685c706d8264e5a58ff"
   },
   "source": [
    "In this notebook, we trained the 2-layers Long Short Term Memory Neural Network as well as Gated Recurrent Unit Neural Network using Bitcoin Historical Data. These models can be used to predict future price movements of bitcoin. The performance of the models is quite good. On average, both models considered here, makes an error measured only in tens of USD. \n",
    " \n",
    " \n",
    " *Tags: Bitcoin, neural networks, machine learning, forecast, prediction, LSTM, GRU, RNN*"
   ]
  }
 ],
 "metadata": {
  "kernelspec": {
   "display_name": "Python 3 (ipykernel)",
   "language": "python",
   "name": "python3"
  },
  "language_info": {
   "codemirror_mode": {
    "name": "ipython",
    "version": 3
   },
   "file_extension": ".py",
   "mimetype": "text/x-python",
   "name": "python",
   "nbconvert_exporter": "python",
   "pygments_lexer": "ipython3",
   "version": "3.9.7"
  }
 },
 "nbformat": 4,
 "nbformat_minor": 1
}
